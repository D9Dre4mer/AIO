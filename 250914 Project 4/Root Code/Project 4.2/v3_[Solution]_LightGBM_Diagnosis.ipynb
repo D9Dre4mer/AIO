{
  "cells": [
    {
      "cell_type": "markdown",
      "metadata": {},
      "source": [
        "# LightGBM Advanced Diagnosis Classification\n",
        "\n",
        "## Mục tiêu\n",
        "- Sử dụng LightGBM với các kỹ thuật tiên tiến nhất\n",
        "- Tối ưu hóa hyperparameter tự động với Optuna\n",
        "- Hỗ trợ GPU và các cấu hình nâng cao\n",
        "- Phân tích SHAP để giải thích mô hình\n",
        "- Đánh giá mô hình toàn diện với nhiều metrics\n",
        "- So sánh hiệu suất trên các dataset khác nhau\n"
      ]
    },
    {
      "cell_type": "markdown",
      "metadata": {},
      "source": [
        "## 1. Environment Setup\n",
        "\n",
        "### 🎯 Mục tiêu và Nguyên lý\n",
        "Notebook này sử dụng LightGBM (Light Gradient Boosting Machine) - một thuật toán gradient boosting hiện đại với các ưu điểm:\n",
        "- **Tốc độ cao**: Sử dụng Gradient-based One-Side Sampling (GOSS) và Exclusive Feature Bundling (EFB)\n",
        "- **Hiệu quả bộ nhớ**: Xử lý dữ liệu lớn với ít RAM hơn so với XGBoost\n",
        "- **Độ chính xác cao**: Có thể đạt performance tương đương hoặc tốt hơn các thuật toán khác\n",
        "- **Tối ưu hóa tự động**: Sử dụng Optuna để tìm hyperparameters tối ưu mà không cần test thủ công\n"
      ]
    },
    {
      "cell_type": "code",
      "execution_count": 8,
      "metadata": {},
      "outputs": [],
      "source": [
        "# Kiểm tra và cài đặt optuna-integration[lightgbm] và shap tự động nếu chưa có\n",
        "import sys\n",
        "import subprocess\n",
        "\n",
        "def install_and_import(package, import_name=None, pip_name=None):\n",
        "    import importlib\n",
        "    try:\n",
        "        if import_name is None:\n",
        "            import_name = package\n",
        "        importlib.import_module(import_name)\n",
        "    except ImportError:\n",
        "        pip_pkg = pip_name if pip_name is not None else package\n",
        "        print(f\"Package '{pip_pkg}' not found. Installing...\")\n",
        "        subprocess.check_call([sys.executable, \"-m\", \"pip\", \"install\", pip_pkg])\n",
        "        print(f\"Installed '{pip_pkg}'.\")\n",
        "    finally:\n",
        "        globals()[import_name if import_name else package] = importlib.import_module(import_name if import_name else package)\n",
        "\n",
        "# LightGBM\n",
        "install_and_import(\"lightgbm\", \"lightgbm\")\n",
        "# Optuna\n",
        "install_and_import(\"optuna\", \"optuna\")\n",
        "# Optuna-integration[lightgbm]\n",
        "try:\n",
        "    import optuna.integration.lightgbm\n",
        "except ImportError:\n",
        "    print(\"optuna-integration[lightgbm] not found. Installing...\")\n",
        "    subprocess.check_call([sys.executable, \"-m\", \"pip\", \"install\", \"optuna-integration[lightgbm]\"])\n",
        "    print(\"Installed 'optuna-integration[lightgbm]'.\")\n",
        "    import optuna.integration.lightgbm\n",
        "\n",
        "# SHAP\n",
        "install_and_import(\"shap\", \"shap\")\n"
      ]
    },
    {
      "cell_type": "code",
      "execution_count": 9,
      "metadata": {},
      "outputs": [
        {
          "name": "stdout",
          "output_type": "stream",
          "text": [
            "🔍 KIỂM TRA CÀI ĐẶT CUDA CHI TIẾT\n",
            "============================================================\n",
            "1. THÔNG TIN HỆ THỐNG:\n",
            "   OS: Windows 10\n",
            "   Architecture: ('64bit', 'WindowsPE')\n",
            "   Python: 3.11.13 | packaged by Anaconda, Inc. | (main, Jun  5 2025, 13:03:15) [MSC v.1929 64 bit (AMD64)]\n",
            "\n",
            "2. KIỂM TRA NVIDIA GPU:\n",
            "   ✅ NVIDIA GPU detected\n",
            "   GPU Information:\n",
            "     Fri Sep 19 23:42:48 2025       \n",
            "     +-----------------------------------------------------------------------------------------+\n",
            "     | NVIDIA-SMI 560.94                 Driver Version: 560.94         CUDA Version: 12.6     |\n",
            "     |-----------------------------------------+------------------------+----------------------+\n",
            "     | GPU  Name                  Driver-Model | Bus-Id          Disp.A | Volatile Uncorr. ECC |\n",
            "     | Fan  Temp   Perf          Pwr:Usage/Cap |           Memory-Usage | GPU-Util  Compute M. |\n",
            "     |                                         |                        |               MIG M. |\n",
            "     |=========================================+========================+======================|\n",
            "     |   0  NVIDIA GeForce GTX 1660 ...  WDDM  |   00000000:01:00.0  On |                  N/A |\n",
            "     | 25%   49C    P0             41W /  125W |    1476MiB /   6144MiB |      5%      Default |\n",
            "\n",
            "3. CUDA ENVIRONMENT VARIABLES:\n",
            "   CUDA_HOME: Not set\n",
            "   CUDA_PATH: Not set\n",
            "   CUDA_ROOT: Not set\n",
            "   CUDA_TOOLKIT_ROOT_DIR: Not set\n",
            "\n",
            "4. CUDA INSTALLATION PATHS:\n",
            "   ❌ Not found: C:\\Program Files\\NVIDIA GPU Computing Toolkit\\CUDA\n",
            "   ❌ Not found: C:\\cuda\n",
            "   ❌ Not found: /usr/local/cuda\n",
            "   ❌ Not found: /opt/cuda\n",
            "\n",
            "5. CUDA LIBRARIES CHECK:\n",
            "   ❌ cudart64: Not found\n",
            "   ❌ cublas64: Not found\n",
            "   ❌ curand64: Not found\n",
            "   ❌ cufft64: Not found\n",
            "\n",
            "6. CUDNN CHECK:\n",
            "   ❌ cuDNN Python package not available\n",
            "   💡 Install: pip install nvidia-cudnn-cu12\n",
            "\n",
            "7. PYTORCH CUDA SUPPORT:\n",
            "   PyTorch version: 2.5.1\n",
            "   CUDA available: True\n",
            "   CUDA version: 11.8\n",
            "   GPU count: 1\n",
            "   GPU 0: NVIDIA GeForce GTX 1660 SUPER\n",
            "\n",
            "8. TENSORFLOW CUDA SUPPORT:\n",
            "   ❌ TensorFlow not installed\n",
            "\n",
            "9. KẾT LUẬN VÀ KHUYẾN NGHỊ:\n",
            "   ✅ CUDA environment is properly configured\n",
            "   🚀 Ready for GPU acceleration\n",
            "\n",
            "🔧 CUDA_AVAILABLE: True\n",
            "🔧 NVIDIA_AVAILABLE: True\n"
          ]
        }
      ],
      "source": [
        "# KIỂM TRA CÀI ĐẶT CUDA CHI TIẾT\n",
        "print(\"🔍 KIỂM TRA CÀI ĐẶT CUDA CHI TIẾT\")\n",
        "print(\"=\" * 60)\n",
        "\n",
        "import os\n",
        "import subprocess\n",
        "import sys\n",
        "import platform\n",
        "\n",
        "# 1. Thông tin hệ thống\n",
        "print(\"1. THÔNG TIN HỆ THỐNG:\")\n",
        "print(f\"   OS: {platform.system()} {platform.release()}\")\n",
        "print(f\"   Architecture: {platform.architecture()}\")\n",
        "print(f\"   Python: {sys.version}\")\n",
        "\n",
        "# 2. Kiểm tra NVIDIA GPU\n",
        "print(\"\\n2. KIỂM TRA NVIDIA GPU:\")\n",
        "try:\n",
        "    result = subprocess.run(['nvidia-smi'], capture_output=True, text=True, timeout=10)\n",
        "    if result.returncode == 0:\n",
        "        print(\"   ✅ NVIDIA GPU detected\")\n",
        "        print(\"   GPU Information:\")\n",
        "        lines = result.stdout.split('\\n')\n",
        "        for i, line in enumerate(lines):\n",
        "            if i < 10 and line.strip():  # Show first 10 lines\n",
        "                print(f\"     {line}\")\n",
        "    else:\n",
        "        print(\"   ❌ nvidia-smi failed\")\n",
        "        print(f\"   Error: {result.stderr}\")\n",
        "except FileNotFoundError:\n",
        "    print(\"   ❌ nvidia-smi not found\")\n",
        "    print(\"   💡 NVIDIA drivers not installed\")\n",
        "except subprocess.TimeoutExpired:\n",
        "    print(\"   ⚠️  nvidia-smi timeout\")\n",
        "except Exception as e:\n",
        "    print(f\"   ❌ Error running nvidia-smi: {e}\")\n",
        "\n",
        "# 3. Kiểm tra CUDA environment variables\n",
        "print(\"\\n3. CUDA ENVIRONMENT VARIABLES:\")\n",
        "cuda_vars = ['CUDA_HOME', 'CUDA_PATH', 'CUDA_ROOT', 'CUDA_TOOLKIT_ROOT_DIR']\n",
        "for var in cuda_vars:\n",
        "    value = os.environ.get(var, 'Not set')\n",
        "    print(f\"   {var}: {value}\")\n",
        "\n",
        "# 4. Kiểm tra CUDA installation paths\n",
        "print(\"\\n4. CUDA INSTALLATION PATHS:\")\n",
        "cuda_paths = [\n",
        "    r\"C:\\Program Files\\NVIDIA GPU Computing Toolkit\\CUDA\",\n",
        "    r\"C:\\cuda\",\n",
        "    r\"/usr/local/cuda\",\n",
        "    r\"/opt/cuda\"\n",
        "]\n",
        "\n",
        "for path in cuda_paths:\n",
        "    if os.path.exists(path):\n",
        "        print(f\"   ✅ Found: {path}\")\n",
        "        # List CUDA versions\n",
        "        try:\n",
        "            versions = os.listdir(path)\n",
        "            cuda_versions = [v for v in versions if v.startswith('v')]\n",
        "            if cuda_versions:\n",
        "                print(f\"     Available versions: {cuda_versions}\")\n",
        "        except:\n",
        "            pass\n",
        "    else:\n",
        "        print(f\"   ❌ Not found: {path}\")\n",
        "\n",
        "# 5. Kiểm tra CUDA libraries\n",
        "print(\"\\n5. CUDA LIBRARIES CHECK:\")\n",
        "cuda_libs = ['cudart64', 'cublas64', 'curand64', 'cufft64']\n",
        "for lib in cuda_libs:\n",
        "    try:\n",
        "        # Try to find library in common paths\n",
        "        found = False\n",
        "        for cuda_path in cuda_paths:\n",
        "            if os.path.exists(cuda_path):\n",
        "                for root, dirs, files in os.walk(cuda_path):\n",
        "                    if any(f.startswith(lib) for f in files):\n",
        "                        print(f\"   ✅ {lib}: Found in {root}\")\n",
        "                        found = True\n",
        "                        break\n",
        "                if found:\n",
        "                    break\n",
        "        if not found:\n",
        "            print(f\"   ❌ {lib}: Not found\")\n",
        "    except Exception as e:\n",
        "        print(f\"   ⚠️  {lib}: Error checking - {e}\")\n",
        "\n",
        "# 6. Kiểm tra cuDNN\n",
        "print(\"\\n6. CUDNN CHECK:\")\n",
        "try:\n",
        "    import cudnn\n",
        "    print(\"   ✅ cuDNN Python package available\")\n",
        "    print(f\"   Version: {cudnn.__version__}\")\n",
        "except ImportError:\n",
        "    print(\"   ❌ cuDNN Python package not available\")\n",
        "    print(\"   💡 Install: pip install nvidia-cudnn-cu12\")\n",
        "\n",
        "# 7. Kiểm tra PyTorch CUDA support\n",
        "print(\"\\n7. PYTORCH CUDA SUPPORT:\")\n",
        "try:\n",
        "    import torch\n",
        "    print(f\"   PyTorch version: {torch.__version__}\")\n",
        "    print(f\"   CUDA available: {torch.cuda.is_available()}\")\n",
        "    if torch.cuda.is_available():\n",
        "        print(f\"   CUDA version: {torch.version.cuda}\")\n",
        "        print(f\"   GPU count: {torch.cuda.device_count()}\")\n",
        "        for i in range(torch.cuda.device_count()):\n",
        "            print(f\"   GPU {i}: {torch.cuda.get_device_name(i)}\")\n",
        "except ImportError:\n",
        "    print(\"   ❌ PyTorch not installed\")\n",
        "\n",
        "# 8. Kiểm tra TensorFlow CUDA support\n",
        "print(\"\\n8. TENSORFLOW CUDA SUPPORT:\")\n",
        "try:\n",
        "    import tensorflow as tf\n",
        "    print(f\"   TensorFlow version: {tf.__version__}\")\n",
        "    print(f\"   GPU available: {tf.config.list_physical_devices('GPU')}\")\n",
        "except ImportError:\n",
        "    print(\"   ❌ TensorFlow not installed\")\n",
        "\n",
        "# 9. Kết luận và khuyến nghị\n",
        "print(\"\\n9. KẾT LUẬN VÀ KHUYẾN NGHỊ:\")\n",
        "cuda_available = any(os.environ.get(var) != 'Not set' for var in cuda_vars)\n",
        "nvidia_available = False\n",
        "\n",
        "try:\n",
        "    result = subprocess.run(['nvidia-smi'], capture_output=True, text=True, timeout=5)\n",
        "    nvidia_available = result.returncode == 0\n",
        "except:\n",
        "    pass\n",
        "\n",
        "if nvidia_available and cuda_available:\n",
        "    print(\"   ✅ CUDA environment is properly configured\")\n",
        "    print(\"   🚀 Ready for GPU acceleration\")\n",
        "elif nvidia_available and not cuda_available:\n",
        "    print(\"   ⚠️  NVIDIA GPU detected but CUDA environment not set\")\n",
        "    print(\"   💡 Set CUDA environment variables:\")\n",
        "    print(\"      set CUDA_HOME=C:\\\\Program Files\\\\NVIDIA GPU Computing Toolkit\\\\CUDA\\\\v11.x\")\n",
        "    print(\"      set PATH=%CUDA_HOME%\\\\bin;%PATH%\")\n",
        "elif not nvidia_available:\n",
        "    print(\"   ❌ No NVIDIA GPU detected\")\n",
        "    print(\"   💡 Install NVIDIA drivers and CUDA toolkit\")\n",
        "else:\n",
        "    print(\"   ❌ CUDA environment not properly configured\")\n",
        "    print(\"   💡 Check CUDA installation and environment variables\")\n",
        "\n",
        "print(f\"\\n🔧 CUDA_AVAILABLE: {cuda_available}\")\n",
        "print(f\"🔧 NVIDIA_AVAILABLE: {nvidia_available}\")\n"
      ]
    },
    {
      "cell_type": "code",
      "execution_count": 10,
      "metadata": {},
      "outputs": [
        {
          "name": "stdout",
          "output_type": "stream",
          "text": [
            "Seed: 42\n",
            "LightGBM version: 4.0.0\n",
            "Optuna version: 3.4.0\n",
            "SHAP version: 0.42.0\n",
            "CUDA available: False - Using CPU\n"
          ]
        }
      ],
      "source": [
        "# Import thư viện cần thiết\n",
        "import os\n",
        "import random\n",
        "import warnings\n",
        "import numpy as np\n",
        "import pandas as pd\n",
        "import seaborn as sns\n",
        "import matplotlib.pyplot as plt\n",
        "from datetime import datetime\n",
        "\n",
        "# Core ML libraries\n",
        "import lightgbm as lgb\n",
        "from sklearn.model_selection import StratifiedKFold, cross_val_score, train_test_split\n",
        "from sklearn.metrics import (accuracy_score, classification_report, confusion_matrix, \n",
        "                           roc_auc_score, roc_curve, precision_recall_curve, \n",
        "                           f1_score, precision_score, recall_score, log_loss)\n",
        "\n",
        "# Hyperparameter optimization\n",
        "import optuna\n",
        "from optuna.integration import LightGBMPruningCallback\n",
        "\n",
        "# SHAP for model interpretability\n",
        "import shap\n",
        "\n",
        "# Advanced visualization\n",
        "import plotly.graph_objects as go\n",
        "from plotly.subplots import make_subplots\n",
        "import plotly.express as px\n",
        "\n",
        "# Progress tracking\n",
        "from tqdm import tqdm\n",
        "\n",
        "warnings.filterwarnings('ignore')\n",
        "\n",
        "# Đặt seed để đảm bảo kết quả nhất quán\n",
        "SEED = 42\n",
        "os.environ[\"PYTHONHASHSEED\"] = str(SEED)\n",
        "np.random.seed(SEED)\n",
        "random.seed(SEED)\n",
        "optuna.logging.set_verbosity(optuna.logging.WARNING)\n",
        "\n",
        "print(f\"Seed: {SEED}\")\n",
        "print(f\"LightGBM version: {lgb.__version__}\")\n",
        "print(f\"Optuna version: {optuna.__version__}\")\n",
        "print(f\"SHAP version: {shap.__version__}\")\n",
        "\n",
        "# Kiểm tra GPU availability\n",
        "try:\n",
        "    import cupy as cp\n",
        "    print(\"CUDA available: True\")\n",
        "    GPU_AVAILABLE = True\n",
        "except ImportError:\n",
        "    print(\"CUDA available: False - Using CPU\")\n",
        "    GPU_AVAILABLE = False\n",
        "\n",
        "### 📚 Giải thích các thư viện chính:\n",
        "\n",
        "# 1. LIGHTGBM: Thuật toán gradient boosting chính\n",
        "#    - Sử dụng GOSS (Gradient-based One-Side Sampling) để chọn samples quan trọng\n",
        "#    - EFB (Exclusive Feature Bundling) để giảm số features\n",
        "#    - Leaf-wise tree growth thay vì level-wise như XGBoost\n",
        "\n",
        "# 2. OPTUNA: Framework tối ưu hóa hyperparameters\n",
        "#    - Sử dụng TPE (Tree-structured Parzen Estimator) sampler\n",
        "#    - Pruning để dừng sớm các trial không có triển vọng\n",
        "#    - Cross-validation để đánh giá robust\n",
        "\n",
        "# 3. SHAP: Model interpretability\n",
        "#    - TreeExplainer cho tree-based models như LightGBM\n",
        "#    - Tính SHAP values để giải thích từng prediction\n",
        "#    - Waterfall plots để visualize feature contributions\n",
        "\n",
        "# 4. STRATIFIED K-FOLD: Cross-validation\n",
        "#    - Đảm bảo tỷ lệ class được giữ nguyên trong mỗi fold\n",
        "#    - Tránh bias khi đánh giá model performance\n"
      ]
    },
    {
      "cell_type": "code",
      "execution_count": 11,
      "metadata": {},
      "outputs": [
        {
          "name": "stdout",
          "output_type": "stream",
          "text": [
            "🔧 XỬ LÝ LỖI CUDNN VÀ CUNG CẤP GIẢI PHÁP THAY THẾ\n",
            "============================================================\n",
            "⚠️  Lỗi cài đặt nvidia-cudnn-cu12 - đây là vấn đề phổ biến\n",
            "💡 Cung cấp các giải pháp thay thế...\n",
            "\n",
            "1. KIỂM TRA CUDNN HIỆN TẠI:\n",
            "   ❌ cuDNN chưa có\n",
            "\n",
            "2. GIẢI PHÁP THAY THẾ (KHÔNG CẦN CUDNN):\n",
            "   💡 LightGBM có thể hoạt động mà không cần cuDNN\n",
            "   💡 cuDNN chỉ cần cho TensorFlow/PyTorch\n",
            "   💡 LightGBM sử dụng CUDA trực tiếp\n",
            "\n",
            "   🔧 CÀI ĐẶT LIGHTGBM VỚI GPU SUPPORT:\n",
            "   Uninstalling current LightGBM...\n",
            "   Installing LightGBM with GPU support...\n",
            "   ✅ LightGBM with GPU support installed!\n",
            "\n",
            "3. TEST LIGHTGBM GPU SUPPORT:\n",
            "   ✅ LightGBM GPU support: WORKING\n",
            "\n",
            "4. KẾT LUẬN:\n",
            "   ✅ LightGBM GPU support is working!\n",
            "   🚀 Ready for GPU acceleration\n",
            "   💡 cuDNN không cần thiết cho LightGBM\n",
            "\n",
            "🔧 FINAL STATUS:\n",
            "   cuDNN Available: False\n",
            "   LightGBM GPU: True\n",
            "   GPU_AVAILABLE: True\n",
            "\n",
            "📝 NOTEBOOK SẼ TIẾP TỤC VỚI CẤU HÌNH HIỆN TẠI...\n"
          ]
        }
      ],
      "source": [
        "# XỬ LÝ LỖI CUDNN VÀ CUNG CẤP GIẢI PHÁP THAY THẾ\n",
        "print(\"🔧 XỬ LÝ LỖI CUDNN VÀ CUNG CẤP GIẢI PHÁP THAY THẾ\")\n",
        "print(\"=\" * 60)\n",
        "\n",
        "print(\"⚠️  Lỗi cài đặt nvidia-cudnn-cu12 - đây là vấn đề phổ biến\")\n",
        "print(\"💡 Cung cấp các giải pháp thay thế...\")\n",
        "\n",
        "# 1. Kiểm tra cuDNN hiện tại\n",
        "print(\"\\n1. KIỂM TRA CUDNN HIỆN TẠI:\")\n",
        "try:\n",
        "    import cudnn\n",
        "    print(\"   ✅ cuDNN đã có sẵn\")\n",
        "    print(f\"   Version: {cudnn.__version__}\")\n",
        "    cudnn_available = True\n",
        "except ImportError:\n",
        "    print(\"   ❌ cuDNN chưa có\")\n",
        "    cudnn_available = False\n",
        "\n",
        "# 2. Giải pháp thay thế nếu cuDNN không có\n",
        "if not cudnn_available:\n",
        "    print(\"\\n2. GIẢI PHÁP THAY THẾ (KHÔNG CẦN CUDNN):\")\n",
        "    print(\"   💡 LightGBM có thể hoạt động mà không cần cuDNN\")\n",
        "    print(\"   💡 cuDNN chỉ cần cho TensorFlow/PyTorch\")\n",
        "    print(\"   💡 LightGBM sử dụng CUDA trực tiếp\")\n",
        "    \n",
        "    print(\"\\n   🔧 CÀI ĐẶT LIGHTGBM VỚI GPU SUPPORT:\")\n",
        "    try:\n",
        "        # Uninstall current LightGBM\n",
        "        print(\"   Uninstalling current LightGBM...\")\n",
        "        subprocess.check_call([\n",
        "            sys.executable, \"-m\", \"pip\", \"uninstall\", \"lightgbm\", \"-y\"\n",
        "        ])\n",
        "        \n",
        "        # Install LightGBM with GPU support\n",
        "        print(\"   Installing LightGBM with GPU support...\")\n",
        "        subprocess.check_call([\n",
        "            sys.executable, \"-m\", \"pip\", \"install\", \n",
        "            \"lightgbm\", \n",
        "            \"--config-settings=cmake.define.USE_GPU=ON\"\n",
        "        ])\n",
        "        \n",
        "        print(\"   ✅ LightGBM with GPU support installed!\")\n",
        "        \n",
        "    except Exception as e:\n",
        "        print(f\"   ❌ LightGBM GPU installation failed: {e}\")\n",
        "        print(\"   🔄 Installing CPU version as fallback...\")\n",
        "        subprocess.check_call([\n",
        "            sys.executable, \"-m\", \"pip\", \"install\", \"lightgbm\"\n",
        "        ])\n",
        "        print(\"   ✅ LightGBM CPU version installed\")\n",
        "\n",
        "# 3. Test LightGBM GPU support\n",
        "print(\"\\n3. TEST LIGHTGBM GPU SUPPORT:\")\n",
        "try:\n",
        "    import lightgbm as lgb\n",
        "    import numpy as np\n",
        "    \n",
        "    # Test data\n",
        "    X_test = np.random.rand(100, 10)\n",
        "    y_test = np.random.randint(0, 2, 100)\n",
        "    train_data = lgb.Dataset(X_test, label=y_test)\n",
        "    \n",
        "    # Test GPU\n",
        "    gpu_params = {\n",
        "        'objective': 'binary',\n",
        "        'device': 'gpu',\n",
        "        'gpu_platform_id': 0,\n",
        "        'gpu_device_id': 0,\n",
        "        'verbose': -1\n",
        "    }\n",
        "    \n",
        "    model = lgb.train(gpu_params, train_data, num_boost_round=1)\n",
        "    print(\"   ✅ LightGBM GPU support: WORKING\")\n",
        "    lgb_gpu_working = True\n",
        "    \n",
        "except Exception as e:\n",
        "    print(f\"   ❌ LightGBM GPU support: NOT WORKING\")\n",
        "    print(f\"   Error: {e}\")\n",
        "    lgb_gpu_working = False\n",
        "\n",
        "# 4. Kết luận\n",
        "print(\"\\n4. KẾT LUẬN:\")\n",
        "if lgb_gpu_working:\n",
        "    print(\"   ✅ LightGBM GPU support is working!\")\n",
        "    print(\"   🚀 Ready for GPU acceleration\")\n",
        "    print(\"   💡 cuDNN không cần thiết cho LightGBM\")\n",
        "    GPU_AVAILABLE = True\n",
        "else:\n",
        "    print(\"   ❌ LightGBM GPU support not working\")\n",
        "    print(\"   💡 Will use CPU version\")\n",
        "    GPU_AVAILABLE = False\n",
        "\n",
        "print(f\"\\n🔧 FINAL STATUS:\")\n",
        "print(f\"   cuDNN Available: {cudnn_available}\")\n",
        "print(f\"   LightGBM GPU: {lgb_gpu_working}\")\n",
        "print(f\"   GPU_AVAILABLE: {GPU_AVAILABLE}\")\n",
        "\n",
        "print(\"\\n📝 NOTEBOOK SẼ TIẾP TỤC VỚI CẤU HÌNH HIỆN TẠI...\")\n"
      ]
    },
    {
      "cell_type": "code",
      "execution_count": 12,
      "metadata": {},
      "outputs": [
        {
          "name": "stdout",
          "output_type": "stream",
          "text": [
            "✅ LightGBM GPU support is already working!\n",
            "🚀 Ready to use GPU acceleration!\n"
          ]
        }
      ],
      "source": [
        "# Cài đặt LightGBM với GPU support nếu cần\n",
        "if not GPU_AVAILABLE:\n",
        "    print(\"🔧 CÀI ĐẶT LIGHTGBM VỚI GPU SUPPORT\")\n",
        "    print(\"=\" * 50)\n",
        "    \n",
        "    print(\"⚠️  LightGBM hiện tại không hỗ trợ GPU.\")\n",
        "    print(\"🔄 Đang cài đặt LightGBM với GPU support...\")\n",
        "    \n",
        "    try:\n",
        "        # Uninstall current LightGBM\n",
        "        print(\"1. Uninstalling current LightGBM...\")\n",
        "        subprocess.check_call([sys.executable, \"-m\", \"pip\", \"uninstall\", \"lightgbm\", \"-y\"])\n",
        "        \n",
        "        # Install LightGBM with GPU support\n",
        "        print(\"2. Installing LightGBM with GPU support...\")\n",
        "        subprocess.check_call([\n",
        "            sys.executable, \"-m\", \"pip\", \"install\", \n",
        "            \"lightgbm\", \n",
        "            \"--config-settings=cmake.define.USE_GPU=ON\"\n",
        "        ])\n",
        "        \n",
        "        print(\"✅ LightGBM with GPU support installed successfully!\")\n",
        "        print(\"🔄 Please restart the kernel and run this notebook again.\")\n",
        "        \n",
        "    except Exception as e:\n",
        "        print(f\"❌ Error installing LightGBM with GPU support: {e}\")\n",
        "        print(\"\\n💡 ALTERNATIVE SOLUTIONS:\")\n",
        "        print(\"1. Try conda installation:\")\n",
        "        print(\"   conda install -c conda-forge lightgbm-gpu\")\n",
        "        print(\"2. Or use CPU version (will be slower but functional)\")\n",
        "        print(\"3. Check CUDA installation and compatibility\")\n",
        "        \n",
        "        # Fallback to CPU\n",
        "        print(\"\\n🔄 Falling back to CPU version...\")\n",
        "        subprocess.check_call([sys.executable, \"-m\", \"pip\", \"install\", \"lightgbm\"])\n",
        "        GPU_AVAILABLE = False\n",
        "\n",
        "else:\n",
        "    print(\"✅ LightGBM GPU support is already working!\")\n",
        "    print(\"🚀 Ready to use GPU acceleration!\")\n"
      ]
    },
    {
      "cell_type": "code",
      "execution_count": 13,
      "metadata": {},
      "outputs": [
        {
          "name": "stdout",
          "output_type": "stream",
          "text": [
            "✅ LightGBM GPU support is already working!\n",
            "🚀 Ready to use GPU acceleration!\n",
            "\n",
            "🔧 Final GPU_AVAILABLE status: True\n"
          ]
        }
      ],
      "source": [
        "# Cài đặt LightGBM với GPU support nếu cần thiết\n",
        "if not GPU_AVAILABLE:\n",
        "    print(\"🔧 CÀI ĐẶT LIGHTGBM VỚI GPU SUPPORT\")\n",
        "    print(\"=\" * 50)\n",
        "    \n",
        "    print(\"⚠️  LightGBM hiện tại không hỗ trợ GPU.\")\n",
        "    print(\"🔄 Đang cài đặt LightGBM với GPU support...\")\n",
        "    \n",
        "    try:\n",
        "        # Uninstall current LightGBM\n",
        "        print(\"1. Uninstalling current LightGBM...\")\n",
        "        import subprocess\n",
        "        subprocess.check_call([sys.executable, \"-m\", \"pip\", \"uninstall\", \"lightgbm\", \"-y\"])\n",
        "        \n",
        "        # Install LightGBM with GPU support\n",
        "        print(\"2. Installing LightGBM with GPU support...\")\n",
        "        subprocess.check_call([\n",
        "            sys.executable, \"-m\", \"pip\", \"install\", \n",
        "            \"lightgbm\", \n",
        "            \"--config-settings=cmake.define.USE_GPU=ON\"\n",
        "        ])\n",
        "        \n",
        "        print(\"✅ LightGBM with GPU support installed successfully!\")\n",
        "        print(\"🔄 Please restart the kernel and run this notebook again.\")\n",
        "        print(\"⚠️  IMPORTANT: Restart kernel after installation!\")\n",
        "        \n",
        "    except Exception as e:\n",
        "        print(f\"❌ Error installing LightGBM with GPU support: {e}\")\n",
        "        print(\"\\n💡 ALTERNATIVE SOLUTIONS:\")\n",
        "        print(\"1. Try conda installation:\")\n",
        "        print(\"   conda install -c conda-forge lightgbm-gpu\")\n",
        "        print(\"2. Or use CPU version (will be slower but functional)\")\n",
        "        print(\"3. Check CUDA installation and compatibility\")\n",
        "        \n",
        "        # Fallback to CPU\n",
        "        print(\"\\n🔄 Falling back to CPU version...\")\n",
        "        subprocess.check_call([sys.executable, \"-m\", \"pip\", \"install\", \"lightgbm\"])\n",
        "        GPU_AVAILABLE = False\n",
        "        print(\"✅ CPU version installed. Continuing with CPU...\")\n",
        "\n",
        "else:\n",
        "    print(\"✅ LightGBM GPU support is already working!\")\n",
        "    print(\"🚀 Ready to use GPU acceleration!\")\n",
        "\n",
        "print(f\"\\n🔧 Final GPU_AVAILABLE status: {GPU_AVAILABLE}\")\n"
      ]
    },
    {
      "cell_type": "markdown",
      "metadata": {},
      "source": [
        "## 2. Data Processing\n",
        "\n",
        "### 🔄 Nguyên lý xử lý dữ liệu\n",
        "Quá trình xử lý dữ liệu được thiết kế để:\n",
        "1. **Tải dữ liệu**: Download dataset từ Google Drive\n",
        "2. **Phân tích cấu trúc**: Kiểm tra shape, class distribution\n",
        "3. **Chuẩn bị cho training**: Tách features (X) và target (y)\n",
        "4. **Đảm bảo consistency**: Cùng format cho tất cả datasets\n",
        "\n",
        "### 📊 Các loại dataset được sử dụng:\n",
        "- **Original**: Dữ liệu gốc không qua xử lý\n",
        "- **Feature Engineering (FE)**: Dữ liệu đã được feature engineering\n",
        "- **Original + DT**: Dữ liệu gốc + Decision Tree features\n",
        "- **FE + DT**: Feature Engineering + Decision Tree features\n"
      ]
    },
    {
      "cell_type": "code",
      "execution_count": null,
      "metadata": {},
      "outputs": [
        {
          "name": "stdout",
          "output_type": "stream",
          "text": [
            "Downloading dataset_v3/raw_train.csv ...\n",
            "Access denied with the following error:\n",
            "Downloading dataset_v3/raw_val.csv ...\n"
          ]
        },
        {
          "name": "stderr",
          "output_type": "stream",
          "text": [
            "\n",
            " \tCannot retrieve the public link of the file. You may need to change\n",
            "\tthe permission to 'Anyone with the link', or have had many accesses. \n",
            "\n",
            "You may still be able to access the file from the browser:\n",
            "\n",
            "\t https://drive.google.com/uc?id=1Qn6l0e6QF6UVxZ4WRzE7dHGnvmhjYQvA \n",
            "\n"
          ]
        },
        {
          "name": "stdout",
          "output_type": "stream",
          "text": [
            "Access denied with the following error:\n",
            "Downloading dataset_v3/raw_test.csv ...\n"
          ]
        },
        {
          "name": "stderr",
          "output_type": "stream",
          "text": [
            "\n",
            " \tCannot retrieve the public link of the file. You may need to change\n",
            "\tthe permission to 'Anyone with the link', or have had many accesses. \n",
            "\n",
            "You may still be able to access the file from the browser:\n",
            "\n",
            "\t https://drive.google.com/uc?id=1QwQn6l0e6QF6UVxZ4WRzE7dHGnvmhjYQvB \n",
            "\n"
          ]
        },
        {
          "name": "stdout",
          "output_type": "stream",
          "text": [
            "Access denied with the following error:\n",
            "Downloading dataset_v3/fe_train.csv ...\n"
          ]
        },
        {
          "name": "stderr",
          "output_type": "stream",
          "text": [
            "\n",
            " \tCannot retrieve the public link of the file. You may need to change\n",
            "\tthe permission to 'Anyone with the link', or have had many accesses. \n",
            "\n",
            "You may still be able to access the file from the browser:\n",
            "\n",
            "\t https://drive.google.com/uc?id=1QwQn6l0e6QF6UVxZ4WRzE7dHGnvmhjYQvC \n",
            "\n"
          ]
        },
        {
          "name": "stdout",
          "output_type": "stream",
          "text": [
            "Access denied with the following error:\n",
            "Downloading dataset_v3/fe_val.csv ...\n"
          ]
        },
        {
          "name": "stderr",
          "output_type": "stream",
          "text": [
            "\n",
            " \tCannot retrieve the public link of the file. You may need to change\n",
            "\tthe permission to 'Anyone with the link', or have had many accesses. \n",
            "\n",
            "You may still be able to access the file from the browser:\n",
            "\n",
            "\t https://drive.google.com/uc?id=1QwQn6l0e6QF6UVxZ4WRzE7dHGnvmhjYQvD \n",
            "\n"
          ]
        },
        {
          "name": "stdout",
          "output_type": "stream",
          "text": [
            "Access denied with the following error:\n",
            "Downloading dataset_v3/fe_test.csv ...\n"
          ]
        },
        {
          "name": "stderr",
          "output_type": "stream",
          "text": [
            "\n",
            " \tCannot retrieve the public link of the file. You may need to change\n",
            "\tthe permission to 'Anyone with the link', or have had many accesses. \n",
            "\n",
            "You may still be able to access the file from the browser:\n",
            "\n",
            "\t https://drive.google.com/uc?id=1QwQn6l0e6QF6UVxZ4WRzE7dHGnvmhjYQvE \n",
            "\n"
          ]
        },
        {
          "name": "stdout",
          "output_type": "stream",
          "text": [
            "Access denied with the following error:\n",
            "Downloading dataset_v3/dt_train.csv ...\n"
          ]
        },
        {
          "name": "stderr",
          "output_type": "stream",
          "text": [
            "\n",
            " \tCannot retrieve the public link of the file. You may need to change\n",
            "\tthe permission to 'Anyone with the link', or have had many accesses. \n",
            "\n",
            "You may still be able to access the file from the browser:\n",
            "\n",
            "\t https://drive.google.com/uc?id=1QwQn6l0e6QF6UVxZ4WRzE7dHGnvmhjYQvF \n",
            "\n"
          ]
        },
        {
          "name": "stdout",
          "output_type": "stream",
          "text": [
            "Access denied with the following error:\n",
            "Downloading dataset_v3/dt_val.csv ...\n"
          ]
        },
        {
          "name": "stderr",
          "output_type": "stream",
          "text": [
            "\n",
            " \tCannot retrieve the public link of the file. You may need to change\n",
            "\tthe permission to 'Anyone with the link', or have had many accesses. \n",
            "\n",
            "You may still be able to access the file from the browser:\n",
            "\n",
            "\t https://drive.google.com/uc?id=1QwQn6l0e6QF6UVxZ4WRzE7dHGnvmhjYQvG \n",
            "\n"
          ]
        },
        {
          "name": "stdout",
          "output_type": "stream",
          "text": [
            "Access denied with the following error:\n",
            "Downloading dataset_v3/dt_test.csv ...\n"
          ]
        },
        {
          "name": "stderr",
          "output_type": "stream",
          "text": [
            "\n",
            " \tCannot retrieve the public link of the file. You may need to change\n",
            "\tthe permission to 'Anyone with the link', or have had many accesses. \n",
            "\n",
            "You may still be able to access the file from the browser:\n",
            "\n",
            "\t https://drive.google.com/uc?id=1QwQn6l0e6QF6UVxZ4WRzE7dHGnvmhjYQvH \n",
            "\n"
          ]
        },
        {
          "name": "stdout",
          "output_type": "stream",
          "text": [
            "Access denied with the following error:\n",
            "Downloading dataset_v3/fe_dt_train.csv ...\n"
          ]
        },
        {
          "name": "stderr",
          "output_type": "stream",
          "text": [
            "\n",
            " \tCannot retrieve the public link of the file. You may need to change\n",
            "\tthe permission to 'Anyone with the link', or have had many accesses. \n",
            "\n",
            "You may still be able to access the file from the browser:\n",
            "\n",
            "\t https://drive.google.com/uc?id=1QwQn6l0e6QF6UVxZ4WRzE7dHGnvmhjYQvI \n",
            "\n"
          ]
        },
        {
          "name": "stdout",
          "output_type": "stream",
          "text": [
            "Access denied with the following error:\n",
            "Downloading dataset_v3/fe_dt_val.csv ...\n"
          ]
        },
        {
          "name": "stderr",
          "output_type": "stream",
          "text": [
            "\n",
            " \tCannot retrieve the public link of the file. You may need to change\n",
            "\tthe permission to 'Anyone with the link', or have had many accesses. \n",
            "\n",
            "You may still be able to access the file from the browser:\n",
            "\n",
            "\t https://drive.google.com/uc?id=1QwQn6l0e6QF6UVxZ4WRzE7dHGnvmhjYQvJ \n",
            "\n"
          ]
        },
        {
          "name": "stdout",
          "output_type": "stream",
          "text": [
            "Access denied with the following error:\n",
            "Downloading dataset_v3/fe_dt_test.csv ...\n"
          ]
        },
        {
          "name": "stderr",
          "output_type": "stream",
          "text": [
            "\n",
            " \tCannot retrieve the public link of the file. You may need to change\n",
            "\tthe permission to 'Anyone with the link', or have had many accesses. \n",
            "\n",
            "You may still be able to access the file from the browser:\n",
            "\n",
            "\t https://drive.google.com/uc?id=1QwQn6l0e6QF6UVxZ4WRzE7dHGnvmhjYQvK \n",
            "\n"
          ]
        },
        {
          "name": "stdout",
          "output_type": "stream",
          "text": [
            "Access denied with the following error:\n",
            "✅ Download hoàn tất. Nếu có file nào thiếu, hãy kiểm tra lại file_id hoặc tải thủ công.\n"
          ]
        },
        {
          "name": "stderr",
          "output_type": "stream",
          "text": [
            "\n",
            " \tCannot retrieve the public link of the file. You may need to change\n",
            "\tthe permission to 'Anyone with the link', or have had many accesses. \n",
            "\n",
            "You may still be able to access the file from the browser:\n",
            "\n",
            "\t https://drive.google.com/uc?id=1QwQn6l0e6QF6UVxZ4WRzE7dHGnvmhjYQvL \n",
            "\n"
          ]
        },
        {
          "ename": "",
          "evalue": "",
          "output_type": "error",
          "traceback": [
            "\u001b[1;31mThe Kernel crashed while executing code in the current cell or a previous cell. \n",
            "\u001b[1;31mPlease review the code in the cell(s) to identify a possible cause of the failure. \n",
            "\u001b[1;31mClick <a href='https://aka.ms/vscodeJupyterKernelCrash'>here</a> for more info. \n",
            "\u001b[1;31mView Jupyter <a href='command:jupyter.viewOutput'>log</a> for further details."
          ]
        }
      ],
      "source": [
        "# Kiểm tra và cài đặt Gdown nếu chưa có, sau đó tải dataset\n",
        "import sys\n",
        "import subprocess\n",
        "\n",
        "def install_and_import_gdown():\n",
        "    try:\n",
        "        import gdown\n",
        "    except ImportError:\n",
        "        print(\"Gdown chưa được cài đặt. Đang tiến hành cài đặt...\")\n",
        "        subprocess.check_call([sys.executable, \"-m\", \"pip\", \"install\", \"gdown\"])\n",
        "        import gdown\n",
        "\n",
        "install_and_import_gdown()\n",
        "\n",
        "# Download dataset từ Google Drive folder\n",
        "# https://drive.google.com/drive/folders/1cMoqIDEgGYDVzv8B7cKp3csxujQ4OFp7?usp=drive_link\n",
        "import gdown\n",
        "gdown.download_folder(\"https://drive.google.com/drive/folders/1cMoqIDEgGYDVzv8B7cKp3csxujQ4OFp7\", quiet=False, use_cookies=False)\n"
      ]
    },
    {
      "cell_type": "code",
      "execution_count": null,
      "metadata": {},
      "outputs": [
        {
          "name": "stdout",
          "output_type": "stream",
          "text": [
            "=== Loading Datasets ===\n"
          ]
        },
        {
          "data": {
            "text/html": [
              "<div>\n",
              "<style scoped>\n",
              "    .dataframe tbody tr th:only-of-type {\n",
              "        vertical-align: middle;\n",
              "    }\n",
              "\n",
              "    .dataframe tbody tr th {\n",
              "        vertical-align: top;\n",
              "    }\n",
              "\n",
              "    .dataframe thead th {\n",
              "        text-align: right;\n",
              "    }\n",
              "</style>\n",
              "<table border=\"1\" class=\"dataframe\">\n",
              "  <thead>\n",
              "    <tr style=\"text-align: right;\">\n",
              "      <th></th>\n",
              "      <th>age</th>\n",
              "      <th>trestbps</th>\n",
              "      <th>chol</th>\n",
              "      <th>thalach</th>\n",
              "      <th>oldpeak</th>\n",
              "      <th>sex</th>\n",
              "      <th>cp</th>\n",
              "      <th>fbs</th>\n",
              "      <th>restecg</th>\n",
              "      <th>exang</th>\n",
              "      <th>slope</th>\n",
              "      <th>ca</th>\n",
              "      <th>thal</th>\n",
              "      <th>target</th>\n",
              "    </tr>\n",
              "  </thead>\n",
              "  <tbody>\n",
              "    <tr>\n",
              "      <th>0</th>\n",
              "      <td>-0.729485</td>\n",
              "      <td>-0.395692</td>\n",
              "      <td>0.458139</td>\n",
              "      <td>0.708371</td>\n",
              "      <td>-0.445445</td>\n",
              "      <td>1.0</td>\n",
              "      <td>1.000000</td>\n",
              "      <td>0.0</td>\n",
              "      <td>1.0</td>\n",
              "      <td>0.0</td>\n",
              "      <td>0.5</td>\n",
              "      <td>0.000000</td>\n",
              "      <td>1.0</td>\n",
              "      <td>1</td>\n",
              "    </tr>\n",
              "    <tr>\n",
              "      <th>1</th>\n",
              "      <td>0.050166</td>\n",
              "      <td>-0.054513</td>\n",
              "      <td>0.230598</td>\n",
              "      <td>0.222495</td>\n",
              "      <td>-0.891627</td>\n",
              "      <td>1.0</td>\n",
              "      <td>0.333333</td>\n",
              "      <td>0.0</td>\n",
              "      <td>0.0</td>\n",
              "      <td>0.0</td>\n",
              "      <td>0.0</td>\n",
              "      <td>0.000000</td>\n",
              "      <td>0.0</td>\n",
              "      <td>0</td>\n",
              "    </tr>\n",
              "    <tr>\n",
              "      <th>2</th>\n",
              "      <td>-0.061212</td>\n",
              "      <td>0.059213</td>\n",
              "      <td>0.723605</td>\n",
              "      <td>0.399178</td>\n",
              "      <td>-0.891627</td>\n",
              "      <td>0.0</td>\n",
              "      <td>0.333333</td>\n",
              "      <td>1.0</td>\n",
              "      <td>1.0</td>\n",
              "      <td>1.0</td>\n",
              "      <td>0.0</td>\n",
              "      <td>0.333333</td>\n",
              "      <td>0.0</td>\n",
              "      <td>0</td>\n",
              "    </tr>\n",
              "    <tr>\n",
              "      <th>3</th>\n",
              "      <td>-0.061212</td>\n",
              "      <td>-1.305501</td>\n",
              "      <td>1.121803</td>\n",
              "      <td>0.266666</td>\n",
              "      <td>-0.891627</td>\n",
              "      <td>1.0</td>\n",
              "      <td>0.333333</td>\n",
              "      <td>0.0</td>\n",
              "      <td>0.0</td>\n",
              "      <td>0.0</td>\n",
              "      <td>0.0</td>\n",
              "      <td>0.000000</td>\n",
              "      <td>1.0</td>\n",
              "      <td>0</td>\n",
              "    </tr>\n",
              "    <tr>\n",
              "      <th>4</th>\n",
              "      <td>0.272924</td>\n",
              "      <td>0.514117</td>\n",
              "      <td>-0.167601</td>\n",
              "      <td>-1.190962</td>\n",
              "      <td>-0.713154</td>\n",
              "      <td>0.0</td>\n",
              "      <td>1.000000</td>\n",
              "      <td>0.0</td>\n",
              "      <td>0.0</td>\n",
              "      <td>1.0</td>\n",
              "      <td>0.5</td>\n",
              "      <td>0.000000</td>\n",
              "      <td>1.0</td>\n",
              "      <td>1</td>\n",
              "    </tr>\n",
              "  </tbody>\n",
              "</table>\n",
              "</div>"
            ],
            "text/plain": [
              "        age  trestbps      chol   thalach   oldpeak  sex        cp  fbs  \\\n",
              "0 -0.729485 -0.395692  0.458139  0.708371 -0.445445  1.0  1.000000  0.0   \n",
              "1  0.050166 -0.054513  0.230598  0.222495 -0.891627  1.0  0.333333  0.0   \n",
              "2 -0.061212  0.059213  0.723605  0.399178 -0.891627  0.0  0.333333  1.0   \n",
              "3 -0.061212 -1.305501  1.121803  0.266666 -0.891627  1.0  0.333333  0.0   \n",
              "4  0.272924  0.514117 -0.167601 -1.190962 -0.713154  0.0  1.000000  0.0   \n",
              "\n",
              "   restecg  exang  slope        ca  thal  target  \n",
              "0      1.0    0.0    0.5  0.000000   1.0       1  \n",
              "1      0.0    0.0    0.0  0.000000   0.0       0  \n",
              "2      1.0    1.0    0.0  0.333333   0.0       0  \n",
              "3      0.0    0.0    0.0  0.000000   1.0       0  \n",
              "4      0.0    1.0    0.5  0.000000   1.0       1  "
            ]
          },
          "metadata": {},
          "output_type": "display_data"
        },
        {
          "data": {
            "text/plain": [
              "target\n",
              "0    131\n",
              "1    111\n",
              "Name: count, dtype: int64"
            ]
          },
          "metadata": {},
          "output_type": "display_data"
        },
        {
          "name": "stdout",
          "output_type": "stream",
          "text": [
            "Shape df:  (242, 14)\n",
            "Shape X:  (242, 13)\n",
            "Shape y:  (242,)\n",
            "Class distribution: target\n",
            "0    0.541\n",
            "1    0.459\n",
            "Name: proportion, dtype: float64\n"
          ]
        },
        {
          "data": {
            "text/html": [
              "<div>\n",
              "<style scoped>\n",
              "    .dataframe tbody tr th:only-of-type {\n",
              "        vertical-align: middle;\n",
              "    }\n",
              "\n",
              "    .dataframe tbody tr th {\n",
              "        vertical-align: top;\n",
              "    }\n",
              "\n",
              "    .dataframe thead th {\n",
              "        text-align: right;\n",
              "    }\n",
              "</style>\n",
              "<table border=\"1\" class=\"dataframe\">\n",
              "  <thead>\n",
              "    <tr style=\"text-align: right;\">\n",
              "      <th></th>\n",
              "      <th>age</th>\n",
              "      <th>trestbps</th>\n",
              "      <th>chol</th>\n",
              "      <th>thalach</th>\n",
              "      <th>oldpeak</th>\n",
              "      <th>sex</th>\n",
              "      <th>cp</th>\n",
              "      <th>fbs</th>\n",
              "      <th>restecg</th>\n",
              "      <th>exang</th>\n",
              "      <th>slope</th>\n",
              "      <th>ca</th>\n",
              "      <th>thal</th>\n",
              "      <th>target</th>\n",
              "    </tr>\n",
              "  </thead>\n",
              "  <tbody>\n",
              "    <tr>\n",
              "      <th>0</th>\n",
              "      <td>-1.063621</td>\n",
              "      <td>0.400391</td>\n",
              "      <td>-0.262410</td>\n",
              "      <td>0.089984</td>\n",
              "      <td>-0.713154</td>\n",
              "      <td>0.0</td>\n",
              "      <td>1.000000</td>\n",
              "      <td>0.0</td>\n",
              "      <td>1.0</td>\n",
              "      <td>1.0</td>\n",
              "      <td>0.5</td>\n",
              "      <td>0.0</td>\n",
              "      <td>0.0</td>\n",
              "      <td>0</td>\n",
              "    </tr>\n",
              "    <tr>\n",
              "      <th>1</th>\n",
              "      <td>1.720848</td>\n",
              "      <td>-0.054513</td>\n",
              "      <td>1.368307</td>\n",
              "      <td>-1.809349</td>\n",
              "      <td>1.250048</td>\n",
              "      <td>1.0</td>\n",
              "      <td>1.000000</td>\n",
              "      <td>0.0</td>\n",
              "      <td>1.0</td>\n",
              "      <td>0.0</td>\n",
              "      <td>0.5</td>\n",
              "      <td>1.0</td>\n",
              "      <td>0.0</td>\n",
              "      <td>1</td>\n",
              "    </tr>\n",
              "    <tr>\n",
              "      <th>2</th>\n",
              "      <td>-0.061212</td>\n",
              "      <td>1.082748</td>\n",
              "      <td>-0.338257</td>\n",
              "      <td>0.664201</td>\n",
              "      <td>0.536156</td>\n",
              "      <td>1.0</td>\n",
              "      <td>0.666667</td>\n",
              "      <td>0.0</td>\n",
              "      <td>1.0</td>\n",
              "      <td>0.0</td>\n",
              "      <td>0.0</td>\n",
              "      <td>0.0</td>\n",
              "      <td>1.0</td>\n",
              "      <td>0</td>\n",
              "    </tr>\n",
              "    <tr>\n",
              "      <th>3</th>\n",
              "      <td>0.941197</td>\n",
              "      <td>0.229802</td>\n",
              "      <td>0.040979</td>\n",
              "      <td>0.973394</td>\n",
              "      <td>-0.891627</td>\n",
              "      <td>0.0</td>\n",
              "      <td>0.666667</td>\n",
              "      <td>0.0</td>\n",
              "      <td>1.0</td>\n",
              "      <td>0.0</td>\n",
              "      <td>0.0</td>\n",
              "      <td>0.0</td>\n",
              "      <td>0.0</td>\n",
              "      <td>0</td>\n",
              "    </tr>\n",
              "    <tr>\n",
              "      <th>4</th>\n",
              "      <td>0.495681</td>\n",
              "      <td>0.229802</td>\n",
              "      <td>-0.300333</td>\n",
              "      <td>0.487519</td>\n",
              "      <td>-0.445445</td>\n",
              "      <td>1.0</td>\n",
              "      <td>1.000000</td>\n",
              "      <td>0.0</td>\n",
              "      <td>0.0</td>\n",
              "      <td>0.0</td>\n",
              "      <td>0.5</td>\n",
              "      <td>0.0</td>\n",
              "      <td>1.0</td>\n",
              "      <td>0</td>\n",
              "    </tr>\n",
              "  </tbody>\n",
              "</table>\n",
              "</div>"
            ],
            "text/plain": [
              "        age  trestbps      chol   thalach   oldpeak  sex        cp  fbs  \\\n",
              "0 -1.063621  0.400391 -0.262410  0.089984 -0.713154  0.0  1.000000  0.0   \n",
              "1  1.720848 -0.054513  1.368307 -1.809349  1.250048  1.0  1.000000  0.0   \n",
              "2 -0.061212  1.082748 -0.338257  0.664201  0.536156  1.0  0.666667  0.0   \n",
              "3  0.941197  0.229802  0.040979  0.973394 -0.891627  0.0  0.666667  0.0   \n",
              "4  0.495681  0.229802 -0.300333  0.487519 -0.445445  1.0  1.000000  0.0   \n",
              "\n",
              "   restecg  exang  slope   ca  thal  target  \n",
              "0      1.0    1.0    0.5  0.0   0.0       0  \n",
              "1      1.0    0.0    0.5  1.0   0.0       1  \n",
              "2      1.0    0.0    0.0  0.0   1.0       0  \n",
              "3      1.0    0.0    0.0  0.0   0.0       0  \n",
              "4      0.0    0.0    0.5  0.0   1.0       0  "
            ]
          },
          "metadata": {},
          "output_type": "display_data"
        },
        {
          "data": {
            "text/plain": [
              "target\n",
              "0    16\n",
              "1    14\n",
              "Name: count, dtype: int64"
            ]
          },
          "metadata": {},
          "output_type": "display_data"
        },
        {
          "name": "stdout",
          "output_type": "stream",
          "text": [
            "Shape df:  (30, 14)\n",
            "Shape X:  (30, 13)\n",
            "Shape y:  (30,)\n",
            "Class distribution: target\n",
            "0    0.533\n",
            "1    0.467\n",
            "Name: proportion, dtype: float64\n"
          ]
        },
        {
          "data": {
            "text/html": [
              "<div>\n",
              "<style scoped>\n",
              "    .dataframe tbody tr th:only-of-type {\n",
              "        vertical-align: middle;\n",
              "    }\n",
              "\n",
              "    .dataframe tbody tr th {\n",
              "        vertical-align: top;\n",
              "    }\n",
              "\n",
              "    .dataframe thead th {\n",
              "        text-align: right;\n",
              "    }\n",
              "</style>\n",
              "<table border=\"1\" class=\"dataframe\">\n",
              "  <thead>\n",
              "    <tr style=\"text-align: right;\">\n",
              "      <th></th>\n",
              "      <th>age</th>\n",
              "      <th>trestbps</th>\n",
              "      <th>chol</th>\n",
              "      <th>thalach</th>\n",
              "      <th>oldpeak</th>\n",
              "      <th>sex</th>\n",
              "      <th>cp</th>\n",
              "      <th>fbs</th>\n",
              "      <th>restecg</th>\n",
              "      <th>exang</th>\n",
              "      <th>slope</th>\n",
              "      <th>ca</th>\n",
              "      <th>thal</th>\n",
              "      <th>target</th>\n",
              "    </tr>\n",
              "  </thead>\n",
              "  <tbody>\n",
              "    <tr>\n",
              "      <th>0</th>\n",
              "      <td>0.384303</td>\n",
              "      <td>-0.168240</td>\n",
              "      <td>-0.641646</td>\n",
              "      <td>-0.837597</td>\n",
              "      <td>1.071575</td>\n",
              "      <td>1.0</td>\n",
              "      <td>1.000000</td>\n",
              "      <td>0.0</td>\n",
              "      <td>1.0</td>\n",
              "      <td>1.0</td>\n",
              "      <td>0.5</td>\n",
              "      <td>1.0</td>\n",
              "      <td>1.0</td>\n",
              "      <td>1</td>\n",
              "    </tr>\n",
              "    <tr>\n",
              "      <th>1</th>\n",
              "      <td>-2.288787</td>\n",
              "      <td>-0.736870</td>\n",
              "      <td>-1.286348</td>\n",
              "      <td>1.061736</td>\n",
              "      <td>-0.891627</td>\n",
              "      <td>1.0</td>\n",
              "      <td>0.000000</td>\n",
              "      <td>0.0</td>\n",
              "      <td>1.0</td>\n",
              "      <td>0.0</td>\n",
              "      <td>0.0</td>\n",
              "      <td>0.0</td>\n",
              "      <td>0.0</td>\n",
              "      <td>0</td>\n",
              "    </tr>\n",
              "    <tr>\n",
              "      <th>2</th>\n",
              "      <td>0.829818</td>\n",
              "      <td>-0.054513</td>\n",
              "      <td>-0.357219</td>\n",
              "      <td>-0.175039</td>\n",
              "      <td>0.714629</td>\n",
              "      <td>1.0</td>\n",
              "      <td>0.666667</td>\n",
              "      <td>0.0</td>\n",
              "      <td>0.0</td>\n",
              "      <td>0.0</td>\n",
              "      <td>0.5</td>\n",
              "      <td>1.0</td>\n",
              "      <td>1.0</td>\n",
              "      <td>0</td>\n",
              "    </tr>\n",
              "    <tr>\n",
              "      <th>3</th>\n",
              "      <td>-0.395349</td>\n",
              "      <td>-0.054513</td>\n",
              "      <td>0.116827</td>\n",
              "      <td>-0.042528</td>\n",
              "      <td>-0.445445</td>\n",
              "      <td>0.0</td>\n",
              "      <td>0.666667</td>\n",
              "      <td>0.0</td>\n",
              "      <td>1.0</td>\n",
              "      <td>0.0</td>\n",
              "      <td>0.0</td>\n",
              "      <td>0.0</td>\n",
              "      <td>0.0</td>\n",
              "      <td>0</td>\n",
              "    </tr>\n",
              "    <tr>\n",
              "      <th>4</th>\n",
              "      <td>-1.397757</td>\n",
              "      <td>-0.623144</td>\n",
              "      <td>-0.186562</td>\n",
              "      <td>1.945146</td>\n",
              "      <td>-0.177735</td>\n",
              "      <td>1.0</td>\n",
              "      <td>0.666667</td>\n",
              "      <td>1.0</td>\n",
              "      <td>0.0</td>\n",
              "      <td>0.0</td>\n",
              "      <td>1.0</td>\n",
              "      <td>0.0</td>\n",
              "      <td>1.0</td>\n",
              "      <td>0</td>\n",
              "    </tr>\n",
              "  </tbody>\n",
              "</table>\n",
              "</div>"
            ],
            "text/plain": [
              "        age  trestbps      chol   thalach   oldpeak  sex        cp  fbs  \\\n",
              "0  0.384303 -0.168240 -0.641646 -0.837597  1.071575  1.0  1.000000  0.0   \n",
              "1 -2.288787 -0.736870 -1.286348  1.061736 -0.891627  1.0  0.000000  0.0   \n",
              "2  0.829818 -0.054513 -0.357219 -0.175039  0.714629  1.0  0.666667  0.0   \n",
              "3 -0.395349 -0.054513  0.116827 -0.042528 -0.445445  0.0  0.666667  0.0   \n",
              "4 -1.397757 -0.623144 -0.186562  1.945146 -0.177735  1.0  0.666667  1.0   \n",
              "\n",
              "   restecg  exang  slope   ca  thal  target  \n",
              "0      1.0    1.0    0.5  1.0   1.0       1  \n",
              "1      1.0    0.0    0.0  0.0   0.0       0  \n",
              "2      0.0    0.0    0.5  1.0   1.0       0  \n",
              "3      1.0    0.0    0.0  0.0   0.0       0  \n",
              "4      0.0    0.0    1.0  0.0   1.0       0  "
            ]
          },
          "metadata": {},
          "output_type": "display_data"
        },
        {
          "data": {
            "text/plain": [
              "target\n",
              "0    17\n",
              "1    14\n",
              "Name: count, dtype: int64"
            ]
          },
          "metadata": {},
          "output_type": "display_data"
        },
        {
          "name": "stdout",
          "output_type": "stream",
          "text": [
            "Shape df:  (31, 14)\n",
            "Shape X:  (31, 13)\n",
            "Shape y:  (31,)\n",
            "Class distribution: target\n",
            "0    0.548\n",
            "1    0.452\n",
            "Name: proportion, dtype: float64\n"
          ]
        },
        {
          "data": {
            "text/html": [
              "<div>\n",
              "<style scoped>\n",
              "    .dataframe tbody tr th:only-of-type {\n",
              "        vertical-align: middle;\n",
              "    }\n",
              "\n",
              "    .dataframe tbody tr th {\n",
              "        vertical-align: top;\n",
              "    }\n",
              "\n",
              "    .dataframe thead th {\n",
              "        text-align: right;\n",
              "    }\n",
              "</style>\n",
              "<table border=\"1\" class=\"dataframe\">\n",
              "  <thead>\n",
              "    <tr style=\"text-align: right;\">\n",
              "      <th></th>\n",
              "      <th>thal_3.0</th>\n",
              "      <th>thal_7.0</th>\n",
              "      <th>cp_4.0</th>\n",
              "      <th>ca_0.0</th>\n",
              "      <th>exang_1.0</th>\n",
              "      <th>exang_0.0</th>\n",
              "      <th>oldpeak</th>\n",
              "      <th>slope_1.0</th>\n",
              "      <th>chol</th>\n",
              "      <th>slope_2.0</th>\n",
              "      <th>thalach</th>\n",
              "      <th>hr_ratio</th>\n",
              "      <th>sex_1.0</th>\n",
              "      <th>target</th>\n",
              "    </tr>\n",
              "  </thead>\n",
              "  <tbody>\n",
              "    <tr>\n",
              "      <th>0</th>\n",
              "      <td>0.0</td>\n",
              "      <td>1.0</td>\n",
              "      <td>1.0</td>\n",
              "      <td>1.0</td>\n",
              "      <td>0.0</td>\n",
              "      <td>1.0</td>\n",
              "      <td>-0.445445</td>\n",
              "      <td>0.0</td>\n",
              "      <td>0.458139</td>\n",
              "      <td>1.0</td>\n",
              "      <td>0.708371</td>\n",
              "      <td>0.726265</td>\n",
              "      <td>1.0</td>\n",
              "      <td>1</td>\n",
              "    </tr>\n",
              "    <tr>\n",
              "      <th>1</th>\n",
              "      <td>1.0</td>\n",
              "      <td>0.0</td>\n",
              "      <td>0.0</td>\n",
              "      <td>1.0</td>\n",
              "      <td>0.0</td>\n",
              "      <td>1.0</td>\n",
              "      <td>-0.891627</td>\n",
              "      <td>1.0</td>\n",
              "      <td>0.230598</td>\n",
              "      <td>0.0</td>\n",
              "      <td>0.222495</td>\n",
              "      <td>-0.054469</td>\n",
              "      <td>1.0</td>\n",
              "      <td>0</td>\n",
              "    </tr>\n",
              "    <tr>\n",
              "      <th>2</th>\n",
              "      <td>1.0</td>\n",
              "      <td>0.0</td>\n",
              "      <td>0.0</td>\n",
              "      <td>0.0</td>\n",
              "      <td>1.0</td>\n",
              "      <td>0.0</td>\n",
              "      <td>-0.891627</td>\n",
              "      <td>1.0</td>\n",
              "      <td>0.723605</td>\n",
              "      <td>0.0</td>\n",
              "      <td>0.399178</td>\n",
              "      <td>0.099522</td>\n",
              "      <td>0.0</td>\n",
              "      <td>0</td>\n",
              "    </tr>\n",
              "    <tr>\n",
              "      <th>3</th>\n",
              "      <td>0.0</td>\n",
              "      <td>1.0</td>\n",
              "      <td>0.0</td>\n",
              "      <td>1.0</td>\n",
              "      <td>0.0</td>\n",
              "      <td>1.0</td>\n",
              "      <td>-0.891627</td>\n",
              "      <td>1.0</td>\n",
              "      <td>1.121803</td>\n",
              "      <td>0.0</td>\n",
              "      <td>0.266666</td>\n",
              "      <td>0.031766</td>\n",
              "      <td>1.0</td>\n",
              "      <td>0</td>\n",
              "    </tr>\n",
              "    <tr>\n",
              "      <th>4</th>\n",
              "      <td>0.0</td>\n",
              "      <td>1.0</td>\n",
              "      <td>1.0</td>\n",
              "      <td>1.0</td>\n",
              "      <td>1.0</td>\n",
              "      <td>0.0</td>\n",
              "      <td>-0.713154</td>\n",
              "      <td>0.0</td>\n",
              "      <td>-0.167601</td>\n",
              "      <td>1.0</td>\n",
              "      <td>-1.190962</td>\n",
              "      <td>-0.859761</td>\n",
              "      <td>0.0</td>\n",
              "      <td>1</td>\n",
              "    </tr>\n",
              "  </tbody>\n",
              "</table>\n",
              "</div>"
            ],
            "text/plain": [
              "   thal_3.0  thal_7.0  cp_4.0  ca_0.0  exang_1.0  exang_0.0   oldpeak  \\\n",
              "0       0.0       1.0     1.0     1.0        0.0        1.0 -0.445445   \n",
              "1       1.0       0.0     0.0     1.0        0.0        1.0 -0.891627   \n",
              "2       1.0       0.0     0.0     0.0        1.0        0.0 -0.891627   \n",
              "3       0.0       1.0     0.0     1.0        0.0        1.0 -0.891627   \n",
              "4       0.0       1.0     1.0     1.0        1.0        0.0 -0.713154   \n",
              "\n",
              "   slope_1.0      chol  slope_2.0   thalach  hr_ratio  sex_1.0  target  \n",
              "0        0.0  0.458139        1.0  0.708371  0.726265      1.0       1  \n",
              "1        1.0  0.230598        0.0  0.222495 -0.054469      1.0       0  \n",
              "2        1.0  0.723605        0.0  0.399178  0.099522      0.0       0  \n",
              "3        1.0  1.121803        0.0  0.266666  0.031766      1.0       0  \n",
              "4        0.0 -0.167601        1.0 -1.190962 -0.859761      0.0       1  "
            ]
          },
          "metadata": {},
          "output_type": "display_data"
        },
        {
          "data": {
            "text/plain": [
              "target\n",
              "0    131\n",
              "1    111\n",
              "Name: count, dtype: int64"
            ]
          },
          "metadata": {},
          "output_type": "display_data"
        },
        {
          "name": "stdout",
          "output_type": "stream",
          "text": [
            "Shape df:  (242, 14)\n",
            "Shape X:  (242, 13)\n",
            "Shape y:  (242,)\n",
            "Class distribution: target\n",
            "0    0.541\n",
            "1    0.459\n",
            "Name: proportion, dtype: float64\n"
          ]
        },
        {
          "data": {
            "text/html": [
              "<div>\n",
              "<style scoped>\n",
              "    .dataframe tbody tr th:only-of-type {\n",
              "        vertical-align: middle;\n",
              "    }\n",
              "\n",
              "    .dataframe tbody tr th {\n",
              "        vertical-align: top;\n",
              "    }\n",
              "\n",
              "    .dataframe thead th {\n",
              "        text-align: right;\n",
              "    }\n",
              "</style>\n",
              "<table border=\"1\" class=\"dataframe\">\n",
              "  <thead>\n",
              "    <tr style=\"text-align: right;\">\n",
              "      <th></th>\n",
              "      <th>thal_3.0</th>\n",
              "      <th>thal_7.0</th>\n",
              "      <th>cp_4.0</th>\n",
              "      <th>ca_0.0</th>\n",
              "      <th>exang_1.0</th>\n",
              "      <th>exang_0.0</th>\n",
              "      <th>oldpeak</th>\n",
              "      <th>slope_1.0</th>\n",
              "      <th>chol</th>\n",
              "      <th>slope_2.0</th>\n",
              "      <th>thalach</th>\n",
              "      <th>hr_ratio</th>\n",
              "      <th>sex_1.0</th>\n",
              "      <th>target</th>\n",
              "    </tr>\n",
              "  </thead>\n",
              "  <tbody>\n",
              "    <tr>\n",
              "      <th>0</th>\n",
              "      <td>1.0</td>\n",
              "      <td>0.0</td>\n",
              "      <td>1.0</td>\n",
              "      <td>1.0</td>\n",
              "      <td>1.0</td>\n",
              "      <td>0.0</td>\n",
              "      <td>-0.713154</td>\n",
              "      <td>0.0</td>\n",
              "      <td>-0.262410</td>\n",
              "      <td>1.0</td>\n",
              "      <td>0.089984</td>\n",
              "      <td>0.628019</td>\n",
              "      <td>0.0</td>\n",
              "      <td>0</td>\n",
              "    </tr>\n",
              "    <tr>\n",
              "      <th>1</th>\n",
              "      <td>1.0</td>\n",
              "      <td>0.0</td>\n",
              "      <td>1.0</td>\n",
              "      <td>0.0</td>\n",
              "      <td>0.0</td>\n",
              "      <td>1.0</td>\n",
              "      <td>1.250048</td>\n",
              "      <td>0.0</td>\n",
              "      <td>1.368307</td>\n",
              "      <td>1.0</td>\n",
              "      <td>-1.809349</td>\n",
              "      <td>-1.592443</td>\n",
              "      <td>1.0</td>\n",
              "      <td>1</td>\n",
              "    </tr>\n",
              "    <tr>\n",
              "      <th>2</th>\n",
              "      <td>0.0</td>\n",
              "      <td>1.0</td>\n",
              "      <td>0.0</td>\n",
              "      <td>1.0</td>\n",
              "      <td>0.0</td>\n",
              "      <td>1.0</td>\n",
              "      <td>0.536156</td>\n",
              "      <td>1.0</td>\n",
              "      <td>-0.338257</td>\n",
              "      <td>0.0</td>\n",
              "      <td>0.664201</td>\n",
              "      <td>0.235034</td>\n",
              "      <td>1.0</td>\n",
              "      <td>0</td>\n",
              "    </tr>\n",
              "    <tr>\n",
              "      <th>3</th>\n",
              "      <td>1.0</td>\n",
              "      <td>0.0</td>\n",
              "      <td>0.0</td>\n",
              "      <td>1.0</td>\n",
              "      <td>0.0</td>\n",
              "      <td>1.0</td>\n",
              "      <td>-0.891627</td>\n",
              "      <td>1.0</td>\n",
              "      <td>0.040979</td>\n",
              "      <td>0.0</td>\n",
              "      <td>0.973394</td>\n",
              "      <td>-0.161823</td>\n",
              "      <td>0.0</td>\n",
              "      <td>0</td>\n",
              "    </tr>\n",
              "    <tr>\n",
              "      <th>4</th>\n",
              "      <td>0.0</td>\n",
              "      <td>1.0</td>\n",
              "      <td>1.0</td>\n",
              "      <td>1.0</td>\n",
              "      <td>0.0</td>\n",
              "      <td>1.0</td>\n",
              "      <td>-0.445445</td>\n",
              "      <td>0.0</td>\n",
              "      <td>-0.300333</td>\n",
              "      <td>1.0</td>\n",
              "      <td>0.487519</td>\n",
              "      <td>-0.163464</td>\n",
              "      <td>1.0</td>\n",
              "      <td>0</td>\n",
              "    </tr>\n",
              "  </tbody>\n",
              "</table>\n",
              "</div>"
            ],
            "text/plain": [
              "   thal_3.0  thal_7.0  cp_4.0  ca_0.0  exang_1.0  exang_0.0   oldpeak  \\\n",
              "0       1.0       0.0     1.0     1.0        1.0        0.0 -0.713154   \n",
              "1       1.0       0.0     1.0     0.0        0.0        1.0  1.250048   \n",
              "2       0.0       1.0     0.0     1.0        0.0        1.0  0.536156   \n",
              "3       1.0       0.0     0.0     1.0        0.0        1.0 -0.891627   \n",
              "4       0.0       1.0     1.0     1.0        0.0        1.0 -0.445445   \n",
              "\n",
              "   slope_1.0      chol  slope_2.0   thalach  hr_ratio  sex_1.0  target  \n",
              "0        0.0 -0.262410        1.0  0.089984  0.628019      0.0       0  \n",
              "1        0.0  1.368307        1.0 -1.809349 -1.592443      1.0       1  \n",
              "2        1.0 -0.338257        0.0  0.664201  0.235034      1.0       0  \n",
              "3        1.0  0.040979        0.0  0.973394 -0.161823      0.0       0  \n",
              "4        0.0 -0.300333        1.0  0.487519 -0.163464      1.0       0  "
            ]
          },
          "metadata": {},
          "output_type": "display_data"
        },
        {
          "data": {
            "text/plain": [
              "target\n",
              "0    16\n",
              "1    14\n",
              "Name: count, dtype: int64"
            ]
          },
          "metadata": {},
          "output_type": "display_data"
        },
        {
          "name": "stdout",
          "output_type": "stream",
          "text": [
            "Shape df:  (30, 14)\n",
            "Shape X:  (30, 13)\n",
            "Shape y:  (30,)\n",
            "Class distribution: target\n",
            "0    0.533\n",
            "1    0.467\n",
            "Name: proportion, dtype: float64\n"
          ]
        },
        {
          "data": {
            "text/html": [
              "<div>\n",
              "<style scoped>\n",
              "    .dataframe tbody tr th:only-of-type {\n",
              "        vertical-align: middle;\n",
              "    }\n",
              "\n",
              "    .dataframe tbody tr th {\n",
              "        vertical-align: top;\n",
              "    }\n",
              "\n",
              "    .dataframe thead th {\n",
              "        text-align: right;\n",
              "    }\n",
              "</style>\n",
              "<table border=\"1\" class=\"dataframe\">\n",
              "  <thead>\n",
              "    <tr style=\"text-align: right;\">\n",
              "      <th></th>\n",
              "      <th>thal_3.0</th>\n",
              "      <th>thal_7.0</th>\n",
              "      <th>cp_4.0</th>\n",
              "      <th>ca_0.0</th>\n",
              "      <th>exang_1.0</th>\n",
              "      <th>exang_0.0</th>\n",
              "      <th>oldpeak</th>\n",
              "      <th>slope_1.0</th>\n",
              "      <th>chol</th>\n",
              "      <th>slope_2.0</th>\n",
              "      <th>thalach</th>\n",
              "      <th>hr_ratio</th>\n",
              "      <th>sex_1.0</th>\n",
              "      <th>target</th>\n",
              "    </tr>\n",
              "  </thead>\n",
              "  <tbody>\n",
              "    <tr>\n",
              "      <th>0</th>\n",
              "      <td>0.0</td>\n",
              "      <td>1.0</td>\n",
              "      <td>1.0</td>\n",
              "      <td>0.0</td>\n",
              "      <td>1.0</td>\n",
              "      <td>0.0</td>\n",
              "      <td>1.071575</td>\n",
              "      <td>0.0</td>\n",
              "      <td>-0.641646</td>\n",
              "      <td>1.0</td>\n",
              "      <td>-0.837597</td>\n",
              "      <td>-0.736915</td>\n",
              "      <td>1.0</td>\n",
              "      <td>1</td>\n",
              "    </tr>\n",
              "    <tr>\n",
              "      <th>1</th>\n",
              "      <td>1.0</td>\n",
              "      <td>0.0</td>\n",
              "      <td>0.0</td>\n",
              "      <td>1.0</td>\n",
              "      <td>0.0</td>\n",
              "      <td>1.0</td>\n",
              "      <td>-0.891627</td>\n",
              "      <td>1.0</td>\n",
              "      <td>-1.286348</td>\n",
              "      <td>0.0</td>\n",
              "      <td>1.061736</td>\n",
              "      <td>2.749978</td>\n",
              "      <td>1.0</td>\n",
              "      <td>0</td>\n",
              "    </tr>\n",
              "    <tr>\n",
              "      <th>2</th>\n",
              "      <td>0.0</td>\n",
              "      <td>1.0</td>\n",
              "      <td>0.0</td>\n",
              "      <td>0.0</td>\n",
              "      <td>0.0</td>\n",
              "      <td>1.0</td>\n",
              "      <td>0.714629</td>\n",
              "      <td>0.0</td>\n",
              "      <td>-0.357219</td>\n",
              "      <td>1.0</td>\n",
              "      <td>-0.175039</td>\n",
              "      <td>-0.619566</td>\n",
              "      <td>1.0</td>\n",
              "      <td>0</td>\n",
              "    </tr>\n",
              "    <tr>\n",
              "      <th>3</th>\n",
              "      <td>1.0</td>\n",
              "      <td>0.0</td>\n",
              "      <td>0.0</td>\n",
              "      <td>1.0</td>\n",
              "      <td>0.0</td>\n",
              "      <td>1.0</td>\n",
              "      <td>-0.445445</td>\n",
              "      <td>1.0</td>\n",
              "      <td>0.116827</td>\n",
              "      <td>0.0</td>\n",
              "      <td>-0.042528</td>\n",
              "      <td>0.071622</td>\n",
              "      <td>0.0</td>\n",
              "      <td>0</td>\n",
              "    </tr>\n",
              "    <tr>\n",
              "      <th>4</th>\n",
              "      <td>0.0</td>\n",
              "      <td>1.0</td>\n",
              "      <td>0.0</td>\n",
              "      <td>1.0</td>\n",
              "      <td>0.0</td>\n",
              "      <td>1.0</td>\n",
              "      <td>-0.177735</td>\n",
              "      <td>0.0</td>\n",
              "      <td>-0.186562</td>\n",
              "      <td>0.0</td>\n",
              "      <td>1.945146</td>\n",
              "      <td>2.141882</td>\n",
              "      <td>1.0</td>\n",
              "      <td>0</td>\n",
              "    </tr>\n",
              "  </tbody>\n",
              "</table>\n",
              "</div>"
            ],
            "text/plain": [
              "   thal_3.0  thal_7.0  cp_4.0  ca_0.0  exang_1.0  exang_0.0   oldpeak  \\\n",
              "0       0.0       1.0     1.0     0.0        1.0        0.0  1.071575   \n",
              "1       1.0       0.0     0.0     1.0        0.0        1.0 -0.891627   \n",
              "2       0.0       1.0     0.0     0.0        0.0        1.0  0.714629   \n",
              "3       1.0       0.0     0.0     1.0        0.0        1.0 -0.445445   \n",
              "4       0.0       1.0     0.0     1.0        0.0        1.0 -0.177735   \n",
              "\n",
              "   slope_1.0      chol  slope_2.0   thalach  hr_ratio  sex_1.0  target  \n",
              "0        0.0 -0.641646        1.0 -0.837597 -0.736915      1.0       1  \n",
              "1        1.0 -1.286348        0.0  1.061736  2.749978      1.0       0  \n",
              "2        0.0 -0.357219        1.0 -0.175039 -0.619566      1.0       0  \n",
              "3        1.0  0.116827        0.0 -0.042528  0.071622      0.0       0  \n",
              "4        0.0 -0.186562        0.0  1.945146  2.141882      1.0       0  "
            ]
          },
          "metadata": {},
          "output_type": "display_data"
        },
        {
          "data": {
            "text/plain": [
              "target\n",
              "0    17\n",
              "1    14\n",
              "Name: count, dtype: int64"
            ]
          },
          "metadata": {},
          "output_type": "display_data"
        },
        {
          "name": "stdout",
          "output_type": "stream",
          "text": [
            "Shape df:  (31, 14)\n",
            "Shape X:  (31, 13)\n",
            "Shape y:  (31,)\n",
            "Class distribution: target\n",
            "0    0.548\n",
            "1    0.452\n",
            "Name: proportion, dtype: float64\n"
          ]
        },
        {
          "data": {
            "text/html": [
              "<div>\n",
              "<style scoped>\n",
              "    .dataframe tbody tr th:only-of-type {\n",
              "        vertical-align: middle;\n",
              "    }\n",
              "\n",
              "    .dataframe tbody tr th {\n",
              "        vertical-align: top;\n",
              "    }\n",
              "\n",
              "    .dataframe thead th {\n",
              "        text-align: right;\n",
              "    }\n",
              "</style>\n",
              "<table border=\"1\" class=\"dataframe\">\n",
              "  <thead>\n",
              "    <tr style=\"text-align: right;\">\n",
              "      <th></th>\n",
              "      <th>thal</th>\n",
              "      <th>cp</th>\n",
              "      <th>ca</th>\n",
              "      <th>oldpeak</th>\n",
              "      <th>chol</th>\n",
              "      <th>age</th>\n",
              "      <th>thalach</th>\n",
              "      <th>sex</th>\n",
              "      <th>slope</th>\n",
              "      <th>exang</th>\n",
              "      <th>target</th>\n",
              "    </tr>\n",
              "  </thead>\n",
              "  <tbody>\n",
              "    <tr>\n",
              "      <th>0</th>\n",
              "      <td>1.0</td>\n",
              "      <td>1.000000</td>\n",
              "      <td>0.000000</td>\n",
              "      <td>-0.445445</td>\n",
              "      <td>0.458139</td>\n",
              "      <td>-0.729485</td>\n",
              "      <td>0.708371</td>\n",
              "      <td>1.0</td>\n",
              "      <td>0.5</td>\n",
              "      <td>0.0</td>\n",
              "      <td>1</td>\n",
              "    </tr>\n",
              "    <tr>\n",
              "      <th>1</th>\n",
              "      <td>0.0</td>\n",
              "      <td>0.333333</td>\n",
              "      <td>0.000000</td>\n",
              "      <td>-0.891627</td>\n",
              "      <td>0.230598</td>\n",
              "      <td>0.050166</td>\n",
              "      <td>0.222495</td>\n",
              "      <td>1.0</td>\n",
              "      <td>0.0</td>\n",
              "      <td>0.0</td>\n",
              "      <td>0</td>\n",
              "    </tr>\n",
              "    <tr>\n",
              "      <th>2</th>\n",
              "      <td>0.0</td>\n",
              "      <td>0.333333</td>\n",
              "      <td>0.333333</td>\n",
              "      <td>-0.891627</td>\n",
              "      <td>0.723605</td>\n",
              "      <td>-0.061212</td>\n",
              "      <td>0.399178</td>\n",
              "      <td>0.0</td>\n",
              "      <td>0.0</td>\n",
              "      <td>1.0</td>\n",
              "      <td>0</td>\n",
              "    </tr>\n",
              "    <tr>\n",
              "      <th>3</th>\n",
              "      <td>1.0</td>\n",
              "      <td>0.333333</td>\n",
              "      <td>0.000000</td>\n",
              "      <td>-0.891627</td>\n",
              "      <td>1.121803</td>\n",
              "      <td>-0.061212</td>\n",
              "      <td>0.266666</td>\n",
              "      <td>1.0</td>\n",
              "      <td>0.0</td>\n",
              "      <td>0.0</td>\n",
              "      <td>0</td>\n",
              "    </tr>\n",
              "    <tr>\n",
              "      <th>4</th>\n",
              "      <td>1.0</td>\n",
              "      <td>1.000000</td>\n",
              "      <td>0.000000</td>\n",
              "      <td>-0.713154</td>\n",
              "      <td>-0.167601</td>\n",
              "      <td>0.272924</td>\n",
              "      <td>-1.190962</td>\n",
              "      <td>0.0</td>\n",
              "      <td>0.5</td>\n",
              "      <td>1.0</td>\n",
              "      <td>1</td>\n",
              "    </tr>\n",
              "  </tbody>\n",
              "</table>\n",
              "</div>"
            ],
            "text/plain": [
              "   thal        cp        ca   oldpeak      chol       age   thalach  sex  \\\n",
              "0   1.0  1.000000  0.000000 -0.445445  0.458139 -0.729485  0.708371  1.0   \n",
              "1   0.0  0.333333  0.000000 -0.891627  0.230598  0.050166  0.222495  1.0   \n",
              "2   0.0  0.333333  0.333333 -0.891627  0.723605 -0.061212  0.399178  0.0   \n",
              "3   1.0  0.333333  0.000000 -0.891627  1.121803 -0.061212  0.266666  1.0   \n",
              "4   1.0  1.000000  0.000000 -0.713154 -0.167601  0.272924 -1.190962  0.0   \n",
              "\n",
              "   slope  exang  target  \n",
              "0    0.5    0.0       1  \n",
              "1    0.0    0.0       0  \n",
              "2    0.0    1.0       0  \n",
              "3    0.0    0.0       0  \n",
              "4    0.5    1.0       1  "
            ]
          },
          "metadata": {},
          "output_type": "display_data"
        },
        {
          "data": {
            "text/plain": [
              "target\n",
              "0    131\n",
              "1    111\n",
              "Name: count, dtype: int64"
            ]
          },
          "metadata": {},
          "output_type": "display_data"
        },
        {
          "name": "stdout",
          "output_type": "stream",
          "text": [
            "Shape df:  (242, 11)\n",
            "Shape X:  (242, 10)\n",
            "Shape y:  (242,)\n",
            "Class distribution: target\n",
            "0    0.541\n",
            "1    0.459\n",
            "Name: proportion, dtype: float64\n"
          ]
        },
        {
          "data": {
            "text/html": [
              "<div>\n",
              "<style scoped>\n",
              "    .dataframe tbody tr th:only-of-type {\n",
              "        vertical-align: middle;\n",
              "    }\n",
              "\n",
              "    .dataframe tbody tr th {\n",
              "        vertical-align: top;\n",
              "    }\n",
              "\n",
              "    .dataframe thead th {\n",
              "        text-align: right;\n",
              "    }\n",
              "</style>\n",
              "<table border=\"1\" class=\"dataframe\">\n",
              "  <thead>\n",
              "    <tr style=\"text-align: right;\">\n",
              "      <th></th>\n",
              "      <th>thal</th>\n",
              "      <th>cp</th>\n",
              "      <th>ca</th>\n",
              "      <th>oldpeak</th>\n",
              "      <th>chol</th>\n",
              "      <th>age</th>\n",
              "      <th>thalach</th>\n",
              "      <th>sex</th>\n",
              "      <th>slope</th>\n",
              "      <th>exang</th>\n",
              "      <th>target</th>\n",
              "    </tr>\n",
              "  </thead>\n",
              "  <tbody>\n",
              "    <tr>\n",
              "      <th>0</th>\n",
              "      <td>0.0</td>\n",
              "      <td>1.000000</td>\n",
              "      <td>0.0</td>\n",
              "      <td>-0.713154</td>\n",
              "      <td>-0.262410</td>\n",
              "      <td>-1.063621</td>\n",
              "      <td>0.089984</td>\n",
              "      <td>0.0</td>\n",
              "      <td>0.5</td>\n",
              "      <td>1.0</td>\n",
              "      <td>0</td>\n",
              "    </tr>\n",
              "    <tr>\n",
              "      <th>1</th>\n",
              "      <td>0.0</td>\n",
              "      <td>1.000000</td>\n",
              "      <td>1.0</td>\n",
              "      <td>1.250048</td>\n",
              "      <td>1.368307</td>\n",
              "      <td>1.720848</td>\n",
              "      <td>-1.809349</td>\n",
              "      <td>1.0</td>\n",
              "      <td>0.5</td>\n",
              "      <td>0.0</td>\n",
              "      <td>1</td>\n",
              "    </tr>\n",
              "    <tr>\n",
              "      <th>2</th>\n",
              "      <td>1.0</td>\n",
              "      <td>0.666667</td>\n",
              "      <td>0.0</td>\n",
              "      <td>0.536156</td>\n",
              "      <td>-0.338257</td>\n",
              "      <td>-0.061212</td>\n",
              "      <td>0.664201</td>\n",
              "      <td>1.0</td>\n",
              "      <td>0.0</td>\n",
              "      <td>0.0</td>\n",
              "      <td>0</td>\n",
              "    </tr>\n",
              "    <tr>\n",
              "      <th>3</th>\n",
              "      <td>0.0</td>\n",
              "      <td>0.666667</td>\n",
              "      <td>0.0</td>\n",
              "      <td>-0.891627</td>\n",
              "      <td>0.040979</td>\n",
              "      <td>0.941197</td>\n",
              "      <td>0.973394</td>\n",
              "      <td>0.0</td>\n",
              "      <td>0.0</td>\n",
              "      <td>0.0</td>\n",
              "      <td>0</td>\n",
              "    </tr>\n",
              "    <tr>\n",
              "      <th>4</th>\n",
              "      <td>1.0</td>\n",
              "      <td>1.000000</td>\n",
              "      <td>0.0</td>\n",
              "      <td>-0.445445</td>\n",
              "      <td>-0.300333</td>\n",
              "      <td>0.495681</td>\n",
              "      <td>0.487519</td>\n",
              "      <td>1.0</td>\n",
              "      <td>0.5</td>\n",
              "      <td>0.0</td>\n",
              "      <td>0</td>\n",
              "    </tr>\n",
              "  </tbody>\n",
              "</table>\n",
              "</div>"
            ],
            "text/plain": [
              "   thal        cp   ca   oldpeak      chol       age   thalach  sex  slope  \\\n",
              "0   0.0  1.000000  0.0 -0.713154 -0.262410 -1.063621  0.089984  0.0    0.5   \n",
              "1   0.0  1.000000  1.0  1.250048  1.368307  1.720848 -1.809349  1.0    0.5   \n",
              "2   1.0  0.666667  0.0  0.536156 -0.338257 -0.061212  0.664201  1.0    0.0   \n",
              "3   0.0  0.666667  0.0 -0.891627  0.040979  0.941197  0.973394  0.0    0.0   \n",
              "4   1.0  1.000000  0.0 -0.445445 -0.300333  0.495681  0.487519  1.0    0.5   \n",
              "\n",
              "   exang  target  \n",
              "0    1.0       0  \n",
              "1    0.0       1  \n",
              "2    0.0       0  \n",
              "3    0.0       0  \n",
              "4    0.0       0  "
            ]
          },
          "metadata": {},
          "output_type": "display_data"
        },
        {
          "data": {
            "text/plain": [
              "target\n",
              "0    16\n",
              "1    14\n",
              "Name: count, dtype: int64"
            ]
          },
          "metadata": {},
          "output_type": "display_data"
        },
        {
          "name": "stdout",
          "output_type": "stream",
          "text": [
            "Shape df:  (30, 11)\n",
            "Shape X:  (30, 10)\n",
            "Shape y:  (30,)\n",
            "Class distribution: target\n",
            "0    0.533\n",
            "1    0.467\n",
            "Name: proportion, dtype: float64\n"
          ]
        },
        {
          "data": {
            "text/html": [
              "<div>\n",
              "<style scoped>\n",
              "    .dataframe tbody tr th:only-of-type {\n",
              "        vertical-align: middle;\n",
              "    }\n",
              "\n",
              "    .dataframe tbody tr th {\n",
              "        vertical-align: top;\n",
              "    }\n",
              "\n",
              "    .dataframe thead th {\n",
              "        text-align: right;\n",
              "    }\n",
              "</style>\n",
              "<table border=\"1\" class=\"dataframe\">\n",
              "  <thead>\n",
              "    <tr style=\"text-align: right;\">\n",
              "      <th></th>\n",
              "      <th>thal</th>\n",
              "      <th>cp</th>\n",
              "      <th>ca</th>\n",
              "      <th>oldpeak</th>\n",
              "      <th>chol</th>\n",
              "      <th>age</th>\n",
              "      <th>thalach</th>\n",
              "      <th>sex</th>\n",
              "      <th>slope</th>\n",
              "      <th>exang</th>\n",
              "      <th>target</th>\n",
              "    </tr>\n",
              "  </thead>\n",
              "  <tbody>\n",
              "    <tr>\n",
              "      <th>0</th>\n",
              "      <td>1.0</td>\n",
              "      <td>1.000000</td>\n",
              "      <td>1.0</td>\n",
              "      <td>1.071575</td>\n",
              "      <td>-0.641646</td>\n",
              "      <td>0.384303</td>\n",
              "      <td>-0.837597</td>\n",
              "      <td>1.0</td>\n",
              "      <td>0.5</td>\n",
              "      <td>1.0</td>\n",
              "      <td>1</td>\n",
              "    </tr>\n",
              "    <tr>\n",
              "      <th>1</th>\n",
              "      <td>0.0</td>\n",
              "      <td>0.000000</td>\n",
              "      <td>0.0</td>\n",
              "      <td>-0.891627</td>\n",
              "      <td>-1.286348</td>\n",
              "      <td>-2.288787</td>\n",
              "      <td>1.061736</td>\n",
              "      <td>1.0</td>\n",
              "      <td>0.0</td>\n",
              "      <td>0.0</td>\n",
              "      <td>0</td>\n",
              "    </tr>\n",
              "    <tr>\n",
              "      <th>2</th>\n",
              "      <td>1.0</td>\n",
              "      <td>0.666667</td>\n",
              "      <td>1.0</td>\n",
              "      <td>0.714629</td>\n",
              "      <td>-0.357219</td>\n",
              "      <td>0.829818</td>\n",
              "      <td>-0.175039</td>\n",
              "      <td>1.0</td>\n",
              "      <td>0.5</td>\n",
              "      <td>0.0</td>\n",
              "      <td>0</td>\n",
              "    </tr>\n",
              "    <tr>\n",
              "      <th>3</th>\n",
              "      <td>0.0</td>\n",
              "      <td>0.666667</td>\n",
              "      <td>0.0</td>\n",
              "      <td>-0.445445</td>\n",
              "      <td>0.116827</td>\n",
              "      <td>-0.395349</td>\n",
              "      <td>-0.042528</td>\n",
              "      <td>0.0</td>\n",
              "      <td>0.0</td>\n",
              "      <td>0.0</td>\n",
              "      <td>0</td>\n",
              "    </tr>\n",
              "    <tr>\n",
              "      <th>4</th>\n",
              "      <td>1.0</td>\n",
              "      <td>0.666667</td>\n",
              "      <td>0.0</td>\n",
              "      <td>-0.177735</td>\n",
              "      <td>-0.186562</td>\n",
              "      <td>-1.397757</td>\n",
              "      <td>1.945146</td>\n",
              "      <td>1.0</td>\n",
              "      <td>1.0</td>\n",
              "      <td>0.0</td>\n",
              "      <td>0</td>\n",
              "    </tr>\n",
              "  </tbody>\n",
              "</table>\n",
              "</div>"
            ],
            "text/plain": [
              "   thal        cp   ca   oldpeak      chol       age   thalach  sex  slope  \\\n",
              "0   1.0  1.000000  1.0  1.071575 -0.641646  0.384303 -0.837597  1.0    0.5   \n",
              "1   0.0  0.000000  0.0 -0.891627 -1.286348 -2.288787  1.061736  1.0    0.0   \n",
              "2   1.0  0.666667  1.0  0.714629 -0.357219  0.829818 -0.175039  1.0    0.5   \n",
              "3   0.0  0.666667  0.0 -0.445445  0.116827 -0.395349 -0.042528  0.0    0.0   \n",
              "4   1.0  0.666667  0.0 -0.177735 -0.186562 -1.397757  1.945146  1.0    1.0   \n",
              "\n",
              "   exang  target  \n",
              "0    1.0       1  \n",
              "1    0.0       0  \n",
              "2    0.0       0  \n",
              "3    0.0       0  \n",
              "4    0.0       0  "
            ]
          },
          "metadata": {},
          "output_type": "display_data"
        },
        {
          "data": {
            "text/plain": [
              "target\n",
              "0    17\n",
              "1    14\n",
              "Name: count, dtype: int64"
            ]
          },
          "metadata": {},
          "output_type": "display_data"
        },
        {
          "name": "stdout",
          "output_type": "stream",
          "text": [
            "Shape df:  (31, 11)\n",
            "Shape X:  (31, 10)\n",
            "Shape y:  (31,)\n",
            "Class distribution: target\n",
            "0    0.548\n",
            "1    0.452\n",
            "Name: proportion, dtype: float64\n"
          ]
        },
        {
          "data": {
            "text/html": [
              "<div>\n",
              "<style scoped>\n",
              "    .dataframe tbody tr th:only-of-type {\n",
              "        vertical-align: middle;\n",
              "    }\n",
              "\n",
              "    .dataframe tbody tr th {\n",
              "        vertical-align: top;\n",
              "    }\n",
              "\n",
              "    .dataframe thead th {\n",
              "        text-align: right;\n",
              "    }\n",
              "</style>\n",
              "<table border=\"1\" class=\"dataframe\">\n",
              "  <thead>\n",
              "    <tr style=\"text-align: right;\">\n",
              "      <th></th>\n",
              "      <th>thal_3.0</th>\n",
              "      <th>cp_4.0</th>\n",
              "      <th>ca_0.0</th>\n",
              "      <th>chol_per_age</th>\n",
              "      <th>hr_ratio</th>\n",
              "      <th>oldpeak</th>\n",
              "      <th>chol</th>\n",
              "      <th>age</th>\n",
              "      <th>exang_0.0</th>\n",
              "      <th>cp_3.0</th>\n",
              "      <th>target</th>\n",
              "    </tr>\n",
              "  </thead>\n",
              "  <tbody>\n",
              "    <tr>\n",
              "      <th>0</th>\n",
              "      <td>0.0</td>\n",
              "      <td>1.0</td>\n",
              "      <td>1.0</td>\n",
              "      <td>0.952258</td>\n",
              "      <td>0.726265</td>\n",
              "      <td>-0.445445</td>\n",
              "      <td>0.458139</td>\n",
              "      <td>-0.729485</td>\n",
              "      <td>1.0</td>\n",
              "      <td>0.0</td>\n",
              "      <td>1</td>\n",
              "    </tr>\n",
              "    <tr>\n",
              "      <th>1</th>\n",
              "      <td>1.0</td>\n",
              "      <td>0.0</td>\n",
              "      <td>1.0</td>\n",
              "      <td>0.082082</td>\n",
              "      <td>-0.054469</td>\n",
              "      <td>-0.891627</td>\n",
              "      <td>0.230598</td>\n",
              "      <td>0.050166</td>\n",
              "      <td>1.0</td>\n",
              "      <td>0.0</td>\n",
              "      <td>0</td>\n",
              "    </tr>\n",
              "    <tr>\n",
              "      <th>2</th>\n",
              "      <td>1.0</td>\n",
              "      <td>0.0</td>\n",
              "      <td>0.0</td>\n",
              "      <td>0.606839</td>\n",
              "      <td>0.099522</td>\n",
              "      <td>-0.891627</td>\n",
              "      <td>0.723605</td>\n",
              "      <td>-0.061212</td>\n",
              "      <td>0.0</td>\n",
              "      <td>0.0</td>\n",
              "      <td>0</td>\n",
              "    </tr>\n",
              "    <tr>\n",
              "      <th>3</th>\n",
              "      <td>0.0</td>\n",
              "      <td>0.0</td>\n",
              "      <td>1.0</td>\n",
              "      <td>0.965051</td>\n",
              "      <td>0.031766</td>\n",
              "      <td>-0.891627</td>\n",
              "      <td>1.121803</td>\n",
              "      <td>-0.061212</td>\n",
              "      <td>1.0</td>\n",
              "      <td>0.0</td>\n",
              "      <td>0</td>\n",
              "    </tr>\n",
              "    <tr>\n",
              "      <th>4</th>\n",
              "      <td>0.0</td>\n",
              "      <td>1.0</td>\n",
              "      <td>1.0</td>\n",
              "      <td>-0.411237</td>\n",
              "      <td>-0.859761</td>\n",
              "      <td>-0.713154</td>\n",
              "      <td>-0.167601</td>\n",
              "      <td>0.272924</td>\n",
              "      <td>0.0</td>\n",
              "      <td>0.0</td>\n",
              "      <td>1</td>\n",
              "    </tr>\n",
              "  </tbody>\n",
              "</table>\n",
              "</div>"
            ],
            "text/plain": [
              "   thal_3.0  cp_4.0  ca_0.0  chol_per_age  hr_ratio   oldpeak      chol  \\\n",
              "0       0.0     1.0     1.0      0.952258  0.726265 -0.445445  0.458139   \n",
              "1       1.0     0.0     1.0      0.082082 -0.054469 -0.891627  0.230598   \n",
              "2       1.0     0.0     0.0      0.606839  0.099522 -0.891627  0.723605   \n",
              "3       0.0     0.0     1.0      0.965051  0.031766 -0.891627  1.121803   \n",
              "4       0.0     1.0     1.0     -0.411237 -0.859761 -0.713154 -0.167601   \n",
              "\n",
              "        age  exang_0.0  cp_3.0  target  \n",
              "0 -0.729485        1.0     0.0       1  \n",
              "1  0.050166        1.0     0.0       0  \n",
              "2 -0.061212        0.0     0.0       0  \n",
              "3 -0.061212        1.0     0.0       0  \n",
              "4  0.272924        0.0     0.0       1  "
            ]
          },
          "metadata": {},
          "output_type": "display_data"
        },
        {
          "data": {
            "text/plain": [
              "target\n",
              "0    131\n",
              "1    111\n",
              "Name: count, dtype: int64"
            ]
          },
          "metadata": {},
          "output_type": "display_data"
        },
        {
          "name": "stdout",
          "output_type": "stream",
          "text": [
            "Shape df:  (242, 11)\n",
            "Shape X:  (242, 10)\n",
            "Shape y:  (242,)\n",
            "Class distribution: target\n",
            "0    0.541\n",
            "1    0.459\n",
            "Name: proportion, dtype: float64\n"
          ]
        },
        {
          "data": {
            "text/html": [
              "<div>\n",
              "<style scoped>\n",
              "    .dataframe tbody tr th:only-of-type {\n",
              "        vertical-align: middle;\n",
              "    }\n",
              "\n",
              "    .dataframe tbody tr th {\n",
              "        vertical-align: top;\n",
              "    }\n",
              "\n",
              "    .dataframe thead th {\n",
              "        text-align: right;\n",
              "    }\n",
              "</style>\n",
              "<table border=\"1\" class=\"dataframe\">\n",
              "  <thead>\n",
              "    <tr style=\"text-align: right;\">\n",
              "      <th></th>\n",
              "      <th>thal_3.0</th>\n",
              "      <th>cp_4.0</th>\n",
              "      <th>ca_0.0</th>\n",
              "      <th>chol_per_age</th>\n",
              "      <th>hr_ratio</th>\n",
              "      <th>oldpeak</th>\n",
              "      <th>chol</th>\n",
              "      <th>age</th>\n",
              "      <th>exang_0.0</th>\n",
              "      <th>cp_3.0</th>\n",
              "      <th>target</th>\n",
              "    </tr>\n",
              "  </thead>\n",
              "  <tbody>\n",
              "    <tr>\n",
              "      <th>0</th>\n",
              "      <td>1.0</td>\n",
              "      <td>1.0</td>\n",
              "      <td>1.0</td>\n",
              "      <td>0.524962</td>\n",
              "      <td>0.628019</td>\n",
              "      <td>-0.713154</td>\n",
              "      <td>-0.262410</td>\n",
              "      <td>-1.063621</td>\n",
              "      <td>0.0</td>\n",
              "      <td>0.0</td>\n",
              "      <td>0</td>\n",
              "    </tr>\n",
              "    <tr>\n",
              "      <th>1</th>\n",
              "      <td>1.0</td>\n",
              "      <td>1.0</td>\n",
              "      <td>0.0</td>\n",
              "      <td>-0.068646</td>\n",
              "      <td>-1.592443</td>\n",
              "      <td>1.250048</td>\n",
              "      <td>1.368307</td>\n",
              "      <td>1.720848</td>\n",
              "      <td>1.0</td>\n",
              "      <td>0.0</td>\n",
              "      <td>1</td>\n",
              "    </tr>\n",
              "    <tr>\n",
              "      <th>2</th>\n",
              "      <td>0.0</td>\n",
              "      <td>0.0</td>\n",
              "      <td>1.0</td>\n",
              "      <td>-0.348393</td>\n",
              "      <td>0.235034</td>\n",
              "      <td>0.536156</td>\n",
              "      <td>-0.338257</td>\n",
              "      <td>-0.061212</td>\n",
              "      <td>1.0</td>\n",
              "      <td>1.0</td>\n",
              "      <td>0</td>\n",
              "    </tr>\n",
              "    <tr>\n",
              "      <th>3</th>\n",
              "      <td>1.0</td>\n",
              "      <td>0.0</td>\n",
              "      <td>1.0</td>\n",
              "      <td>-0.621316</td>\n",
              "      <td>-0.161823</td>\n",
              "      <td>-0.891627</td>\n",
              "      <td>0.040979</td>\n",
              "      <td>0.941197</td>\n",
              "      <td>1.0</td>\n",
              "      <td>1.0</td>\n",
              "      <td>0</td>\n",
              "    </tr>\n",
              "    <tr>\n",
              "      <th>4</th>\n",
              "      <td>0.0</td>\n",
              "      <td>1.0</td>\n",
              "      <td>1.0</td>\n",
              "      <td>-0.652540</td>\n",
              "      <td>-0.163464</td>\n",
              "      <td>-0.445445</td>\n",
              "      <td>-0.300333</td>\n",
              "      <td>0.495681</td>\n",
              "      <td>1.0</td>\n",
              "      <td>0.0</td>\n",
              "      <td>0</td>\n",
              "    </tr>\n",
              "  </tbody>\n",
              "</table>\n",
              "</div>"
            ],
            "text/plain": [
              "   thal_3.0  cp_4.0  ca_0.0  chol_per_age  hr_ratio   oldpeak      chol  \\\n",
              "0       1.0     1.0     1.0      0.524962  0.628019 -0.713154 -0.262410   \n",
              "1       1.0     1.0     0.0     -0.068646 -1.592443  1.250048  1.368307   \n",
              "2       0.0     0.0     1.0     -0.348393  0.235034  0.536156 -0.338257   \n",
              "3       1.0     0.0     1.0     -0.621316 -0.161823 -0.891627  0.040979   \n",
              "4       0.0     1.0     1.0     -0.652540 -0.163464 -0.445445 -0.300333   \n",
              "\n",
              "        age  exang_0.0  cp_3.0  target  \n",
              "0 -1.063621        0.0     0.0       0  \n",
              "1  1.720848        1.0     0.0       1  \n",
              "2 -0.061212        1.0     1.0       0  \n",
              "3  0.941197        1.0     1.0       0  \n",
              "4  0.495681        1.0     0.0       0  "
            ]
          },
          "metadata": {},
          "output_type": "display_data"
        },
        {
          "data": {
            "text/plain": [
              "target\n",
              "0    16\n",
              "1    14\n",
              "Name: count, dtype: int64"
            ]
          },
          "metadata": {},
          "output_type": "display_data"
        },
        {
          "name": "stdout",
          "output_type": "stream",
          "text": [
            "Shape df:  (30, 11)\n",
            "Shape X:  (30, 10)\n",
            "Shape y:  (30,)\n",
            "Class distribution: target\n",
            "0    0.533\n",
            "1    0.467\n",
            "Name: proportion, dtype: float64\n"
          ]
        },
        {
          "data": {
            "text/html": [
              "<div>\n",
              "<style scoped>\n",
              "    .dataframe tbody tr th:only-of-type {\n",
              "        vertical-align: middle;\n",
              "    }\n",
              "\n",
              "    .dataframe tbody tr th {\n",
              "        vertical-align: top;\n",
              "    }\n",
              "\n",
              "    .dataframe thead th {\n",
              "        text-align: right;\n",
              "    }\n",
              "</style>\n",
              "<table border=\"1\" class=\"dataframe\">\n",
              "  <thead>\n",
              "    <tr style=\"text-align: right;\">\n",
              "      <th></th>\n",
              "      <th>thal_3.0</th>\n",
              "      <th>cp_4.0</th>\n",
              "      <th>ca_0.0</th>\n",
              "      <th>chol_per_age</th>\n",
              "      <th>hr_ratio</th>\n",
              "      <th>oldpeak</th>\n",
              "      <th>chol</th>\n",
              "      <th>age</th>\n",
              "      <th>exang_0.0</th>\n",
              "      <th>cp_3.0</th>\n",
              "      <th>target</th>\n",
              "    </tr>\n",
              "  </thead>\n",
              "  <tbody>\n",
              "    <tr>\n",
              "      <th>0</th>\n",
              "      <td>0.0</td>\n",
              "      <td>1.0</td>\n",
              "      <td>0.0</td>\n",
              "      <td>-0.875417</td>\n",
              "      <td>-0.736915</td>\n",
              "      <td>1.071575</td>\n",
              "      <td>-0.641646</td>\n",
              "      <td>0.384303</td>\n",
              "      <td>0.0</td>\n",
              "      <td>0.0</td>\n",
              "      <td>1</td>\n",
              "    </tr>\n",
              "    <tr>\n",
              "      <th>1</th>\n",
              "      <td>1.0</td>\n",
              "      <td>0.0</td>\n",
              "      <td>1.0</td>\n",
              "      <td>0.624900</td>\n",
              "      <td>2.749978</td>\n",
              "      <td>-0.891627</td>\n",
              "      <td>-1.286348</td>\n",
              "      <td>-2.288787</td>\n",
              "      <td>1.0</td>\n",
              "      <td>0.0</td>\n",
              "      <td>0</td>\n",
              "    </tr>\n",
              "    <tr>\n",
              "      <th>2</th>\n",
              "      <td>0.0</td>\n",
              "      <td>0.0</td>\n",
              "      <td>0.0</td>\n",
              "      <td>-0.873880</td>\n",
              "      <td>-0.619566</td>\n",
              "      <td>0.714629</td>\n",
              "      <td>-0.357219</td>\n",
              "      <td>0.829818</td>\n",
              "      <td>1.0</td>\n",
              "      <td>1.0</td>\n",
              "      <td>0</td>\n",
              "    </tr>\n",
              "    <tr>\n",
              "      <th>3</th>\n",
              "      <td>1.0</td>\n",
              "      <td>0.0</td>\n",
              "      <td>1.0</td>\n",
              "      <td>0.317862</td>\n",
              "      <td>0.071622</td>\n",
              "      <td>-0.445445</td>\n",
              "      <td>0.116827</td>\n",
              "      <td>-0.395349</td>\n",
              "      <td>1.0</td>\n",
              "      <td>1.0</td>\n",
              "      <td>0</td>\n",
              "    </tr>\n",
              "    <tr>\n",
              "      <th>4</th>\n",
              "      <td>0.0</td>\n",
              "      <td>0.0</td>\n",
              "      <td>1.0</td>\n",
              "      <td>0.957741</td>\n",
              "      <td>2.141882</td>\n",
              "      <td>-0.177735</td>\n",
              "      <td>-0.186562</td>\n",
              "      <td>-1.397757</td>\n",
              "      <td>1.0</td>\n",
              "      <td>1.0</td>\n",
              "      <td>0</td>\n",
              "    </tr>\n",
              "  </tbody>\n",
              "</table>\n",
              "</div>"
            ],
            "text/plain": [
              "   thal_3.0  cp_4.0  ca_0.0  chol_per_age  hr_ratio   oldpeak      chol  \\\n",
              "0       0.0     1.0     0.0     -0.875417 -0.736915  1.071575 -0.641646   \n",
              "1       1.0     0.0     1.0      0.624900  2.749978 -0.891627 -1.286348   \n",
              "2       0.0     0.0     0.0     -0.873880 -0.619566  0.714629 -0.357219   \n",
              "3       1.0     0.0     1.0      0.317862  0.071622 -0.445445  0.116827   \n",
              "4       0.0     0.0     1.0      0.957741  2.141882 -0.177735 -0.186562   \n",
              "\n",
              "        age  exang_0.0  cp_3.0  target  \n",
              "0  0.384303        0.0     0.0       1  \n",
              "1 -2.288787        1.0     0.0       0  \n",
              "2  0.829818        1.0     1.0       0  \n",
              "3 -0.395349        1.0     1.0       0  \n",
              "4 -1.397757        1.0     1.0       0  "
            ]
          },
          "metadata": {},
          "output_type": "display_data"
        },
        {
          "data": {
            "text/plain": [
              "target\n",
              "0    17\n",
              "1    14\n",
              "Name: count, dtype: int64"
            ]
          },
          "metadata": {},
          "output_type": "display_data"
        },
        {
          "name": "stdout",
          "output_type": "stream",
          "text": [
            "Shape df:  (31, 11)\n",
            "Shape X:  (31, 10)\n",
            "Shape y:  (31,)\n",
            "Class distribution: target\n",
            "0    0.548\n",
            "1    0.452\n",
            "Name: proportion, dtype: float64\n"
          ]
        }
      ],
      "source": [
        "def read_csv(file_path):\n",
        "    \"\"\"\n",
        "    Đọc và hiển thị thông tin dataset\n",
        "    \n",
        "    🔍 Nguyên lý hoạt động:\n",
        "    1. Đọc CSV file vào DataFrame\n",
        "    2. Tách features (X) và target (y) \n",
        "    3. Hiển thị thống kê cơ bản\n",
        "    4. Kiểm tra class distribution để phát hiện imbalance\n",
        "    \n",
        "    📊 Thông tin được hiển thị:\n",
        "    - Shape của dataset (samples, features)\n",
        "    - Class distribution (tỷ lệ các class)\n",
        "    - Sample data để kiểm tra format\n",
        "    \"\"\"\n",
        "    df = pd.read_csv(file_path)\n",
        "    display(df.head())\n",
        "    \n",
        "    X = df.drop('target', axis=1)\n",
        "    y = df['target']\n",
        "    display(y.value_counts())\n",
        "    \n",
        "    print(\"Shape df: \", df.shape)\n",
        "    print(\"Shape X: \", X.shape)\n",
        "    print(\"Shape y: \", y.shape)\n",
        "    print(\"Class distribution:\", y.value_counts(normalize=True).round(3))\n",
        "    \n",
        "    return X, y\n",
        "\n",
        "# Load all datasets\n",
        "print(\"=== Loading Datasets ===\")\n",
        "X_train, y_train = read_csv('dataset_v3/raw_train.csv')\n",
        "X_val, y_val = read_csv('dataset_v3/raw_val.csv')\n",
        "X_test, y_test = read_csv('dataset_v3/raw_test.csv')\n",
        "\n",
        "X_fe_train, y_fe_train = read_csv('dataset_v3/fe_train.csv')\n",
        "X_fe_val, y_fe_val = read_csv('dataset_v3/fe_val.csv')\n",
        "X_fe_test, y_fe_test = read_csv('dataset_v3/fe_test.csv')\n",
        "\n",
        "X_dt_train, y_dt_train = read_csv('dataset_v3/dt_train.csv')\n",
        "X_dt_val, y_dt_val = read_csv('dataset_v3/dt_val.csv')\n",
        "X_dt_test, y_dt_test = read_csv('dataset_v3/dt_test.csv')\n",
        "\n",
        "X_fe_dt_train, y_fe_dt_train = read_csv('dataset_v3/fe_dt_train.csv')\n",
        "X_fe_dt_val, y_fe_dt_val = read_csv('dataset_v3/fe_dt_val.csv')\n",
        "X_fe_dt_test, y_fe_dt_test = read_csv('dataset_v3/fe_dt_test.csv')\n"
      ]
    },
    {
      "cell_type": "markdown",
      "metadata": {},
      "source": [
        "## 3. Advanced LightGBM Implementation\n",
        "\n",
        "### 🧠 Nguyên lý LightGBM\n",
        "\n",
        "#### 1. **Gradient Boosting cơ bản**\n",
        "LightGBM là một thuật toán gradient boosting với các cải tiến:\n",
        "- **Gradient-based One-Side Sampling (GOSS)**: Chỉ giữ lại samples có gradient lớn và random sampling cho samples có gradient nhỏ\n",
        "- **Exclusive Feature Bundling (EFB)**: Gộp các features không conflict với nhau để giảm chiều dữ liệu\n",
        "- **Leaf-wise tree growth**: Phát triển cây theo chiều sâu thay vì theo level như XGBoost\n",
        "\n",
        "#### 2. **Tối ưu hóa Hyperparameters với Optuna**\n",
        "- **TPE Sampler**: Sử dụng Tree-structured Parzen Estimator để tìm vùng parameter space có triển vọng\n",
        "- **Pruning**: Dừng sớm các trial không có khả năng cải thiện\n",
        "- **Cross-validation**: Đánh giá robust với StratifiedKFold\n",
        "\n",
        "#### 3. **Model Interpretability với SHAP**\n",
        "- **SHAP Values**: Giải thích contribution của từng feature đến prediction\n",
        "- **TreeExplainer**: Tối ưu cho tree-based models như LightGBM\n",
        "- **Waterfall plots**: Visualize cách features tác động đến final prediction\n"
      ]
    },
    {
      "cell_type": "code",
      "execution_count": null,
      "metadata": {},
      "outputs": [],
      "source": [
        "class AdvancedLightGBM:\n",
        "    \"\"\"\n",
        "    Advanced LightGBM implementation with automated hyperparameter optimization\n",
        "\n",
        "    🏗️ Kiến trúc class:\n",
        "    1. __init__: Khởi tạo với GPU support và random seed\n",
        "    2. optimize_hyperparameters: Tìm best parameters với Optuna\n",
        "    3. train_model: Train model với optimized parameters\n",
        "    4. evaluate_comprehensive: Đánh giá toàn diện với nhiều metrics\n",
        "    5. SHAP methods: Model interpretability\n",
        "    \"\"\"\n",
        "\n",
        "    def __init__(self, use_gpu=True, random_state=42):\n",
        "        \"\"\"\n",
        "        Khởi tạo LightGBM model\n",
        "\n",
        "        🔧 Tham số:\n",
        "        - use_gpu: Sử dụng GPU nếu có (tăng tốc training)\n",
        "        - random_state: Đảm bảo reproducibility\n",
        "        \"\"\"\n",
        "        self.use_gpu = use_gpu and GPU_AVAILABLE\n",
        "        self.random_state = random_state\n",
        "        self.best_params = None\n",
        "        self.model = None\n",
        "        self.feature_importance = None\n",
        "        self.shap_explainer = None\n",
        "\n",
        "    def get_device_params(self):\n",
        "        \"\"\"\n",
        "        Lấy tham số device cho LightGBM\n",
        "\n",
        "        🖥️ Nguyên lý:\n",
        "        - GPU: Sử dụng CUDA để tăng tốc matrix operations\n",
        "        - CPU: Fallback khi không có GPU\n",
        "        - LightGBM tự động detect và sử dụng device phù hợp\n",
        "        \"\"\"\n",
        "        if self.use_gpu:\n",
        "            return {\n",
        "                'device': 'gpu',\n",
        "                'gpu_platform_id': 0,\n",
        "                'gpu_device_id': 0\n",
        "            }\n",
        "        else:\n",
        "            return {'device': 'cpu'}\n",
        "\n",
        "    def create_optuna_objective(self, X_train, y_train, X_val, y_val,\n",
        "                               n_trials=100, cv_folds=5):\n",
        "        \"\"\"\n",
        "        Tạo objective function cho Optuna optimization\n",
        "\n",
        "        🎯 Nguyên lý hoạt động:\n",
        "        1. Define parameter search space với ranges hợp lý\n",
        "        2. Cross-validation để đánh giá robust\n",
        "        3. Pruning để dừng sớm các trial không có triển vọng\n",
        "        4. Return accuracy score để maximize\n",
        "\n",
        "        📊 Parameter space bao gồm:\n",
        "        - num_leaves: Số leaf nodes (10-300)\n",
        "        - learning_rate: Tốc độ học (0.01-0.3, log scale)\n",
        "        - feature_fraction: Tỷ lệ features sử dụng (0.4-1.0)\n",
        "        - bagging_fraction: Tỷ lệ samples cho bagging (0.4-1.0)\n",
        "        - regularization: reg_alpha, reg_lambda (0-10)\n",
        "        - tree structure: max_depth, min_child_samples\n",
        "        \"\"\"\n",
        "\n",
        "        def objective(trial):\n",
        "            # Define hyperparameter search space\n",
        "            params = {\n",
        "                'objective': 'binary',\n",
        "                'metric': 'binary_logloss',\n",
        "                'boosting_type': 'gbdt',\n",
        "                'num_leaves': trial.suggest_int('num_leaves', 10, 300),\n",
        "                'learning_rate': trial.suggest_float('learning_rate', 0.01, 0.3, log=True),\n",
        "                'feature_fraction': trial.suggest_float('feature_fraction', 0.4, 1.0),\n",
        "                'bagging_fraction': trial.suggest_float('bagging_fraction', 0.4, 1.0),\n",
        "                'bagging_freq': trial.suggest_int('bagging_freq', 1, 7),\n",
        "                'min_child_samples': trial.suggest_int('min_child_samples', 5, 100),\n",
        "                'min_child_weight': trial.suggest_float('min_child_weight', 0.001, 10.0, log=True),\n",
        "                'reg_alpha': trial.suggest_float('reg_alpha', 0.0, 10.0),\n",
        "                'reg_lambda': trial.suggest_float('reg_lambda', 0.0, 10.0),\n",
        "                'max_depth': trial.suggest_int('max_depth', 3, 15),\n",
        "                'min_split_gain': trial.suggest_float('min_split_gain', 0.0, 1.0),\n",
        "                'subsample': trial.suggest_float('subsample', 0.6, 1.0),\n",
        "                'colsample_bytree': trial.suggest_float('colsample_bytree', 0.6, 1.0),\n",
        "                'verbose': -1,\n",
        "                'random_state': self.random_state,\n",
        "                **self.get_device_params()\n",
        "            }\n",
        "\n",
        "            # Cross-validation\n",
        "            cv = StratifiedKFold(n_splits=cv_folds, shuffle=True, random_state=self.random_state)\n",
        "            scores = []\n",
        "\n",
        "            for train_idx, val_idx in cv.split(X_train, y_train):\n",
        "                X_tr, X_val_cv = X_train.iloc[train_idx], X_train.iloc[val_idx]\n",
        "                y_tr, y_val_cv = y_train.iloc[train_idx], y_train.iloc[val_idx]\n",
        "\n",
        "                train_data = lgb.Dataset(X_tr, label=y_tr)\n",
        "                val_data = lgb.Dataset(X_val_cv, label=y_val_cv, reference=train_data)\n",
        "\n",
        "                # Only one 'callbacks' keyword argument should be passed!\n",
        "                model = lgb.train(\n",
        "                    params,\n",
        "                    train_data,\n",
        "                    valid_sets=[val_data],\n",
        "                    valid_names=['valid_0'],\n",
        "                    num_boost_round=1000,\n",
        "                    callbacks=[\n",
        "                        lgb.early_stopping(stopping_rounds=50),\n",
        "                        lgb.log_evaluation(0)\n",
        "                    ]\n",
        "                )\n",
        "\n",
        "                pred = model.predict(X_val_cv, num_iteration=model.best_iteration)\n",
        "                pred_binary = (pred > 0.5).astype(int)\n",
        "                score = accuracy_score(y_val_cv, pred_binary)\n",
        "                scores.append(score)\n",
        "\n",
        "            return np.mean(scores)\n",
        "\n",
        "        return objective\n",
        "\n",
        "    def optimize_hyperparameters(self, X_train, y_train, X_val, y_val,\n",
        "                                n_trials=100, cv_folds=5, timeout=3600, **kwargs):\n",
        "        \"\"\"\n",
        "        Tối ưu hóa hyperparameters với Optuna\n",
        "\n",
        "        🔍 Quy trình hoạt động:\n",
        "        1. Tạo study với TPE sampler (Tree-structured Parzen Estimator)\n",
        "        2. Sử dụng MedianPruner để dừng sớm các trial kém\n",
        "        3. Optimize với timeout để tránh chạy quá lâu\n",
        "        4. Lưu best parameters để sử dụng sau\n",
        "\n",
        "        ⚙️ TPE Sampler:\n",
        "        - Bayesian optimization approach\n",
        "        - Học từ các trial trước để suggest parameters tốt hơn\n",
        "        - Hiệu quả hơn random search và grid search\n",
        "\n",
        "        ✂️ Pruning:\n",
        "        - Dừng sớm các trial có performance kém\n",
        "        - Tiết kiệm thời gian và computational resources\n",
        "        \"\"\"\n",
        "        print(f\"🔍 Starting hyperparameter optimization with {n_trials} trials...\")\n",
        "        print(f\"⏱️ Timeout: {timeout} seconds\")\n",
        "\n",
        "        # Ignore any unexpected keyword arguments (such as 'metric')\n",
        "        # by not using them in this method\n",
        "\n",
        "        study = optuna.create_study(\n",
        "            direction='maximize',\n",
        "            sampler=optuna.samplers.TPESampler(seed=self.random_state),\n",
        "            pruner=optuna.pruners.MedianPruner(n_startup_trials=10, n_warmup_steps=5)\n",
        "        )\n",
        "\n",
        "        objective = self.create_optuna_objective(X_train, y_train, X_val, y_val,\n",
        "                                               n_trials, cv_folds)\n",
        "\n",
        "        study.optimize(objective, n_trials=n_trials, timeout=timeout)\n",
        "\n",
        "        self.best_params = study.best_params\n",
        "        print(f\"✅ Best score: {study.best_value:.4f}\")\n",
        "        print(f\"🎯 Best parameters: {self.best_params}\")\n",
        "\n",
        "        return study\n",
        "\n",
        "    def train_model(self, X_train, y_train, X_val, y_val,\n",
        "                   use_optimized_params=True, num_boost_round=1000):\n",
        "        \"\"\"\n",
        "        Train LightGBM model với optimized parameters\n",
        "\n",
        "        🚀 Quy trình training:\n",
        "        1. Sử dụng best parameters từ Optuna (nếu có)\n",
        "        2. Tạo LightGBM Dataset objects\n",
        "        3. Train với early stopping để tránh overfitting\n",
        "        4. Lưu feature importance cho analysis\n",
        "\n",
        "        📈 Early Stopping:\n",
        "        - Monitor validation loss\n",
        "        - Dừng khi không cải thiện trong 50 rounds\n",
        "        - Tránh overfitting và tiết kiệm thời gian\n",
        "\n",
        "        🎯 Feature Importance:\n",
        "        - Tính bằng 'gain' (tổng gain khi split trên feature)\n",
        "        - Sắp xếp theo importance để hiểu feature nào quan trọng\n",
        "        \"\"\"\n",
        "\n",
        "        if use_optimized_params and self.best_params is not None:\n",
        "            params = self.best_params.copy()\n",
        "        else:\n",
        "            # Default parameters\n",
        "            params = {\n",
        "                'objective': 'binary',\n",
        "                'metric': 'binary_logloss',\n",
        "                'boosting_type': 'gbdt',\n",
        "                'num_leaves': 31,\n",
        "                'learning_rate': 0.1,\n",
        "                'feature_fraction': 0.9,\n",
        "                'bagging_fraction': 0.8,\n",
        "                'bagging_freq': 5,\n",
        "                'verbose': -1,\n",
        "                'random_state': self.random_state,\n",
        "                **self.get_device_params()\n",
        "            }\n",
        "\n",
        "        # Add device parameters\n",
        "        params.update(self.get_device_params())\n",
        "\n",
        "        train_data = lgb.Dataset(X_train, label=y_train)\n",
        "        val_data = lgb.Dataset(X_val, label=y_val, reference=train_data)\n",
        "\n",
        "        print(f\"🚀 Training LightGBM model...\")\n",
        "        print(f\"📊 Device: {params.get('device', 'cpu')}\")\n",
        "        print(f\"🔢 Features: {X_train.shape[1]}\")\n",
        "        print(f\"📈 Samples: {X_train.shape[0]}\")\n",
        "\n",
        "        self.model = lgb.train(\n",
        "            params,\n",
        "            train_data,\n",
        "            valid_sets=[val_data],\n",
        "            num_boost_round=num_boost_round,\n",
        "            callbacks=[\n",
        "                lgb.early_stopping(stopping_rounds=50),\n",
        "                lgb.log_evaluation(0)\n",
        "            ]\n",
        "        )\n",
        "\n",
        "        # Get feature importance\n",
        "        self.feature_importance = pd.DataFrame({\n",
        "            'feature': X_train.columns,\n",
        "            'importance': self.model.feature_importance(importance_type='gain')\n",
        "        }).sort_values('importance', ascending=False)\n",
        "\n",
        "        print(f\"✅ Training completed. Best iteration: {self.model.best_iteration}\")\n",
        "\n",
        "        return self.model\n",
        "\n",
        "    def predict(self, X, return_proba=False):\n",
        "        \"\"\"Make predictions\"\"\"\n",
        "        if self.model is None:\n",
        "            raise ValueError(\"Model not trained yet!\")\n",
        "\n",
        "        pred = self.model.predict(X, num_iteration=self.model.best_iteration)\n",
        "\n",
        "        if return_proba:\n",
        "            return pred\n",
        "        else:\n",
        "            return (pred > 0.5).astype(int)\n",
        "\n",
        "    def evaluate_comprehensive(self, X_test, y_test, dataset_name=\"Test\"):\n",
        "        \"\"\"\n",
        "        Đánh giá toàn diện model performance\n",
        "\n",
        "        📊 Metrics được tính:\n",
        "        1. **Accuracy**: Tỷ lệ dự đoán đúng tổng thể\n",
        "        2. **Precision**: Tỷ lệ dự đoán positive đúng trong số dự đoán positive\n",
        "        3. **Recall**: Tỷ lệ dự đoán positive đúng trong số thực tế positive\n",
        "        4. **F1-Score**: Harmonic mean của precision và recall\n",
        "        5. **AUC-ROC**: Area Under Curve - Receiver Operating Characteristic\n",
        "        6. **Log Loss**: Logarithmic loss (penalty cho confident wrong predictions)\n",
        "\n",
        "        🎯 Ý nghĩa các metrics:\n",
        "        - Accuracy: Tổng quan performance\n",
        "        - Precision: Tránh false positives\n",
        "        - Recall: Tránh false negatives  \n",
        "        - F1: Balance giữa precision và recall\n",
        "        - AUC: Khả năng phân biệt giữa classes\n",
        "        - Log Loss: Đánh giá confidence của predictions\n",
        "        \"\"\"\n",
        "        if self.model is None:\n",
        "            raise ValueError(\"Model not trained yet!\")\n",
        "\n",
        "        # Predictions\n",
        "        y_pred_proba = self.predict(X_test, return_proba=True)\n",
        "        y_pred = self.predict(X_test, return_proba=False)\n",
        "\n",
        "        # Calculate metrics\n",
        "        accuracy = accuracy_score(y_test, y_pred)\n",
        "        precision = precision_score(y_test, y_pred)\n",
        "        recall = recall_score(y_test, y_pred)\n",
        "        f1 = f1_score(y_test, y_pred)\n",
        "        auc = roc_auc_score(y_test, y_pred_proba)\n",
        "        # Clip probabilities to [0, 1] range to avoid log_loss error\n",
        "        y_pred_proba_clipped = np.clip(y_pred_proba, 0, 1)\n",
        "        logloss = log_loss(y_test, y_pred_proba_clipped)\n",
        "\n",
        "        print(f\"\\n📊 {dataset_name} Set Evaluation Results:\")\n",
        "        print(\"=\" * 50)\n",
        "        print(f\"Accuracy:  {accuracy:.4f}\")\n",
        "        print(f\"Precision: {precision:.4f}\")\n",
        "        print(f\"Recall:    {recall:.4f}\")\n",
        "        print(f\"F1-Score:  {f1:.4f}\")\n",
        "        print(f\"AUC-ROC:   {auc:.4f}\")\n",
        "        print(f\"Log Loss:  {logloss:.4f}\")\n",
        "\n",
        "        # Classification report\n",
        "        print(f\"\\n📋 Classification Report:\")\n",
        "        print(classification_report(y_test, y_pred))\n",
        "\n",
        "        # Confusion matrix\n",
        "        cm = confusion_matrix(y_test, y_pred)\n",
        "        print(f\"\\n🔢 Confusion Matrix:\")\n",
        "        print(cm)\n",
        "\n",
        "        return {\n",
        "            'accuracy': accuracy,\n",
        "            'precision': precision,\n",
        "            'recall': recall,\n",
        "            'f1': f1,\n",
        "            'auc': auc,\n",
        "            'logloss': logloss,\n",
        "            'predictions': y_pred,\n",
        "            'probabilities': y_pred_proba,\n",
        "            'confusion_matrix': cm\n",
        "        }\n",
        "\n",
        "    def plot_feature_importance(self, top_n=20, figsize=(10, 8)):\n",
        "        \"\"\"Plot feature importance\"\"\"\n",
        "        if self.feature_importance is None:\n",
        "            print(\"No feature importance available!\")\n",
        "            return\n",
        "\n",
        "        top_features = self.feature_importance.head(top_n)\n",
        "\n",
        "        plt.figure(figsize=figsize)\n",
        "        sns.barplot(data=top_features, x='importance', y='feature', palette='viridis')\n",
        "        plt.title(f'Top {top_n} Feature Importance (LightGBM)', fontsize=16)\n",
        "        plt.xlabel('Importance (Gain)', fontsize=12)\n",
        "        plt.ylabel('Features', fontsize=12)\n",
        "        plt.tight_layout()\n",
        "        plt.show()\n",
        "\n",
        "    def setup_shap_explainer(self, X_train, X_val):\n",
        "        \"\"\"\n",
        "        Setup SHAP explainer cho model interpretation\n",
        "\n",
        "        🔍 SHAP (SHapley Additive exPlanations):\n",
        "        - Giải thích output của model bằng cách tính contribution của từng feature\n",
        "        - Dựa trên game theory (Shapley values)\n",
        "        - Đảm bảo tính nhất quán và hiệu quả\n",
        "\n",
        "        🌳 TreeExplainer:\n",
        "        - Tối ưu cho tree-based models (LightGBM, XGBoost, Random Forest)\n",
        "        - Tính SHAP values nhanh và chính xác\n",
        "        - Có thể handle missing values và categorical features\n",
        "\n",
        "        📊 SHAP Values:\n",
        "        - Positive: Feature làm tăng prediction\n",
        "        - Negative: Feature làm giảm prediction\n",
        "        - Magnitude: Mức độ tác động\n",
        "        \"\"\"\n",
        "        if self.model is None:\n",
        "            raise ValueError(\"Model not trained yet!\")\n",
        "\n",
        "        # Create SHAP explainer\n",
        "        self.shap_explainer = shap.TreeExplainer(self.model)\n",
        "\n",
        "        # Calculate SHAP values for validation set\n",
        "        self.shap_values = self.shap_explainer.shap_values(X_val)\n",
        "\n",
        "        print(\"✅ SHAP explainer setup completed\")\n",
        "\n",
        "    def plot_shap_summary(self, X_val, max_display=20):\n",
        "        \"\"\"Plot SHAP summary\"\"\"\n",
        "        if self.shap_explainer is None:\n",
        "            print(\"SHAP explainer not setup! Call setup_shap_explainer first.\")\n",
        "            return\n",
        "\n",
        "        shap.summary_plot(self.shap_values, X_val, max_display=max_display, show=False)\n",
        "        plt.title('SHAP Summary Plot - Feature Impact on Predictions', fontsize=16)\n",
        "        plt.tight_layout()\n",
        "        plt.show()\n",
        "\n",
        "    def plot_shap_waterfall(self, X_val, instance_idx=0):\n",
        "        \"\"\"Plot SHAP waterfall for a specific instance\"\"\"\n",
        "        if self.shap_explainer is None:\n",
        "            print(\"SHAP explainer not setup! Call setup_shap_explainer first.\")\n",
        "            return\n",
        "\n",
        "        shap.waterfall_plot(shap.Explanation(\n",
        "            values=self.shap_values[instance_idx],\n",
        "            base_values=self.shap_explainer.expected_value,\n",
        "            data=X_val.iloc[instance_idx].values,\n",
        "            feature_names=X_val.columns.tolist()\n",
        "        ), max_display=15)\n"
      ]
    },
    {
      "cell_type": "markdown",
      "metadata": {},
      "source": [
        "### 3.1 LightGBM on Original Dataset\n",
        "\n",
        "#### 🔬 Thí nghiệm trên Original Dataset\n",
        "**Mục tiêu**: Đánh giá performance của LightGBM trên dữ liệu gốc không qua xử lý\n",
        "\n",
        "**Quy trình**:\n",
        "1. **Hyperparameter Optimization**: Tìm best parameters với Optuna (50 trials)\n",
        "2. **Model Training**: Train với optimized parameters\n",
        "3. **Evaluation**: Đánh giá trên validation và test sets\n",
        "4. **Feature Analysis**: Xem feature importance và SHAP values\n",
        "5. **Interpretability**: Hiểu cách model đưa ra quyết định\n",
        "\n",
        "**Kỳ vọng**: Baseline performance để so sánh với các dataset khác\n"
      ]
    },
    {
      "cell_type": "code",
      "execution_count": null,
      "metadata": {},
      "outputs": [
        {
          "name": "stdout",
          "output_type": "stream",
          "text": [
            "🔧 Optimizing hyperparameters for Original Dataset...\n",
            "Training until validation scores don't improve for 50 rounds\n",
            "Early stopping, best iteration is:\n",
            "[86]\tvalid_0's binary_logloss: 0.48123\n",
            "Training until validation scores don't improve for 50 rounds\n",
            "Early stopping, best iteration is:\n",
            "[158]\tvalid_0's binary_logloss: 0.467894\n",
            "Training until validation scores don't improve for 50 rounds\n",
            "Early stopping, best iteration is:\n",
            "[85]\tvalid_0's binary_logloss: 0.500229\n",
            "Training until validation scores don't improve for 50 rounds\n",
            "Did not meet early stopping. Best iteration is:\n",
            "[1000]\tvalid_0's binary_logloss: 0.516975\n",
            "Training until validation scores don't improve for 50 rounds\n",
            "Did not meet early stopping. Best iteration is:\n",
            "[1000]\tvalid_0's binary_logloss: 0.508268\n",
            "Training until validation scores don't improve for 50 rounds\n",
            "Did not meet early stopping. Best iteration is:\n",
            "[1000]\tvalid_0's binary_logloss: 0.524064\n",
            "Training until validation scores don't improve for 50 rounds\n",
            "Early stopping, best iteration is:\n",
            "[682]\tvalid_0's binary_logloss: 0.562306\n",
            "Training until validation scores don't improve for 50 rounds\n",
            "Early stopping, best iteration is:\n",
            "[869]\tvalid_0's binary_logloss: 0.552468\n",
            "Training until validation scores don't improve for 50 rounds\n",
            "Early stopping, best iteration is:\n",
            "[271]\tvalid_0's binary_logloss: 0.607556\n",
            "Training until validation scores don't improve for 50 rounds\n",
            "Did not meet early stopping. Best iteration is:\n",
            "[1000]\tvalid_0's binary_logloss: 0.527587\n",
            "Training until validation scores don't improve for 50 rounds\n",
            "Did not meet early stopping. Best iteration is:\n",
            "[1000]\tvalid_0's binary_logloss: 0.521148\n",
            "Training until validation scores don't improve for 50 rounds\n",
            "Did not meet early stopping. Best iteration is:\n",
            "[1000]\tvalid_0's binary_logloss: 0.537292\n",
            "Training until validation scores don't improve for 50 rounds\n",
            "Early stopping, best iteration is:\n",
            "[125]\tvalid_0's binary_logloss: 0.413909\n",
            "Training until validation scores don't improve for 50 rounds\n",
            "Early stopping, best iteration is:\n",
            "[106]\tvalid_0's binary_logloss: 0.396467\n",
            "Training until validation scores don't improve for 50 rounds\n",
            "Early stopping, best iteration is:\n",
            "[79]\tvalid_0's binary_logloss: 0.442568\n",
            "Training until validation scores don't improve for 50 rounds\n",
            "Did not meet early stopping. Best iteration is:\n",
            "[1000]\tvalid_0's binary_logloss: 0.506017\n",
            "Training until validation scores don't improve for 50 rounds\n",
            "Did not meet early stopping. Best iteration is:\n",
            "[1000]\tvalid_0's binary_logloss: 0.492223\n",
            "Training until validation scores don't improve for 50 rounds\n",
            "Did not meet early stopping. Best iteration is:\n",
            "[1000]\tvalid_0's binary_logloss: 0.523123\n",
            "Training until validation scores don't improve for 50 rounds\n",
            "Did not meet early stopping. Best iteration is:\n",
            "[1000]\tvalid_0's binary_logloss: 0.513136\n",
            "Training until validation scores don't improve for 50 rounds\n",
            "Did not meet early stopping. Best iteration is:\n",
            "[1000]\tvalid_0's binary_logloss: 0.511885\n",
            "Training until validation scores don't improve for 50 rounds\n",
            "Did not meet early stopping. Best iteration is:\n",
            "[1000]\tvalid_0's binary_logloss: 0.529409\n",
            "Training until validation scores don't improve for 50 rounds\n",
            "Early stopping, best iteration is:\n",
            "[53]\tvalid_0's binary_logloss: 0.409869\n",
            "Training until validation scores don't improve for 50 rounds\n",
            "Early stopping, best iteration is:\n",
            "[56]\tvalid_0's binary_logloss: 0.379736\n",
            "Training until validation scores don't improve for 50 rounds\n",
            "Early stopping, best iteration is:\n",
            "[54]\tvalid_0's binary_logloss: 0.423121\n",
            "Training until validation scores don't improve for 50 rounds\n",
            "Did not meet early stopping. Best iteration is:\n",
            "[1000]\tvalid_0's binary_logloss: 0.449213\n",
            "Training until validation scores don't improve for 50 rounds\n",
            "Did not meet early stopping. Best iteration is:\n",
            "[1000]\tvalid_0's binary_logloss: 0.439274\n",
            "Training until validation scores don't improve for 50 rounds\n",
            "Did not meet early stopping. Best iteration is:\n",
            "[1000]\tvalid_0's binary_logloss: 0.472161\n",
            "Training until validation scores don't improve for 50 rounds\n",
            "Early stopping, best iteration is:\n",
            "[55]\tvalid_0's binary_logloss: 0.411425\n",
            "Training until validation scores don't improve for 50 rounds\n",
            "Early stopping, best iteration is:\n",
            "[57]\tvalid_0's binary_logloss: 0.393653\n",
            "Training until validation scores don't improve for 50 rounds\n",
            "Early stopping, best iteration is:\n",
            "[70]\tvalid_0's binary_logloss: 0.422208\n",
            "Training until validation scores don't improve for 50 rounds\n",
            "Early stopping, best iteration is:\n",
            "[504]\tvalid_0's binary_logloss: 0.564049\n",
            "Training until validation scores don't improve for 50 rounds\n",
            "Did not meet early stopping. Best iteration is:\n",
            "[1000]\tvalid_0's binary_logloss: 0.536187\n",
            "Training until validation scores don't improve for 50 rounds\n",
            "Did not meet early stopping. Best iteration is:\n",
            "[1000]\tvalid_0's binary_logloss: 0.543669\n",
            "Training until validation scores don't improve for 50 rounds\n",
            "Did not meet early stopping. Best iteration is:\n",
            "[989]\tvalid_0's binary_logloss: 0.498434\n",
            "Training until validation scores don't improve for 50 rounds\n",
            "Did not meet early stopping. Best iteration is:\n",
            "[983]\tvalid_0's binary_logloss: 0.490255\n",
            "Training until validation scores don't improve for 50 rounds\n",
            "Early stopping, best iteration is:\n",
            "[878]\tvalid_0's binary_logloss: 0.511215\n",
            "Training until validation scores don't improve for 50 rounds\n",
            "Did not meet early stopping. Best iteration is:\n",
            "[998]\tvalid_0's binary_logloss: 0.452345\n",
            "Training until validation scores don't improve for 50 rounds\n",
            "Did not meet early stopping. Best iteration is:\n",
            "[1000]\tvalid_0's binary_logloss: 0.431563\n",
            "Training until validation scores don't improve for 50 rounds\n",
            "Did not meet early stopping. Best iteration is:\n",
            "[992]\tvalid_0's binary_logloss: 0.465733\n",
            "Training until validation scores don't improve for 50 rounds\n",
            "Early stopping, best iteration is:\n",
            "[544]\tvalid_0's binary_logloss: 0.54872\n",
            "Training until validation scores don't improve for 50 rounds\n",
            "Did not meet early stopping. Best iteration is:\n",
            "[999]\tvalid_0's binary_logloss: 0.516054\n",
            "Training until validation scores don't improve for 50 rounds\n",
            "Did not meet early stopping. Best iteration is:\n",
            "[1000]\tvalid_0's binary_logloss: 0.529389\n",
            "Training until validation scores don't improve for 50 rounds\n",
            "Early stopping, best iteration is:\n",
            "[60]\tvalid_0's binary_logloss: 0.480033\n",
            "Training until validation scores don't improve for 50 rounds\n",
            "Early stopping, best iteration is:\n",
            "[34]\tvalid_0's binary_logloss: 0.481051\n",
            "Training until validation scores don't improve for 50 rounds\n",
            "Early stopping, best iteration is:\n",
            "[50]\tvalid_0's binary_logloss: 0.494092\n",
            "Training until validation scores don't improve for 50 rounds\n",
            "Early stopping, best iteration is:\n",
            "[891]\tvalid_0's binary_logloss: 0.459812\n",
            "Training until validation scores don't improve for 50 rounds\n",
            "Early stopping, best iteration is:\n",
            "[895]\tvalid_0's binary_logloss: 0.434162\n",
            "Training until validation scores don't improve for 50 rounds\n",
            "Early stopping, best iteration is:\n",
            "[833]\tvalid_0's binary_logloss: 0.482251\n",
            "Training until validation scores don't improve for 50 rounds\n",
            "Early stopping, best iteration is:\n",
            "[172]\tvalid_0's binary_logloss: 0.516832\n",
            "Training until validation scores don't improve for 50 rounds\n",
            "Early stopping, best iteration is:\n",
            "[154]\tvalid_0's binary_logloss: 0.505875\n",
            "Training until validation scores don't improve for 50 rounds\n",
            "Early stopping, best iteration is:\n",
            "[283]\tvalid_0's binary_logloss: 0.486238\n",
            "Training until validation scores don't improve for 50 rounds\n",
            "Early stopping, best iteration is:\n",
            "[38]\tvalid_0's binary_logloss: 0.468813\n",
            "Training until validation scores don't improve for 50 rounds\n",
            "Early stopping, best iteration is:\n",
            "[34]\tvalid_0's binary_logloss: 0.431152\n",
            "Training until validation scores don't improve for 50 rounds\n",
            "Early stopping, best iteration is:\n",
            "[44]\tvalid_0's binary_logloss: 0.446304\n",
            "Training until validation scores don't improve for 50 rounds\n",
            "Did not meet early stopping. Best iteration is:\n",
            "[1000]\tvalid_0's binary_logloss: 0.513534\n",
            "Training until validation scores don't improve for 50 rounds\n",
            "Did not meet early stopping. Best iteration is:\n",
            "[1000]\tvalid_0's binary_logloss: 0.510162\n",
            "Training until validation scores don't improve for 50 rounds\n",
            "Did not meet early stopping. Best iteration is:\n",
            "[1000]\tvalid_0's binary_logloss: 0.527754\n",
            "Training until validation scores don't improve for 50 rounds\n",
            "Did not meet early stopping. Best iteration is:\n",
            "[1000]\tvalid_0's binary_logloss: 0.539113\n",
            "Training until validation scores don't improve for 50 rounds\n",
            "Did not meet early stopping. Best iteration is:\n",
            "[1000]\tvalid_0's binary_logloss: 0.532921\n",
            "Training until validation scores don't improve for 50 rounds\n",
            "Early stopping, best iteration is:\n",
            "[787]\tvalid_0's binary_logloss: 0.555478\n",
            "Training until validation scores don't improve for 50 rounds\n",
            "Did not meet early stopping. Best iteration is:\n",
            "[1000]\tvalid_0's binary_logloss: 0.46233\n",
            "Training until validation scores don't improve for 50 rounds\n",
            "Did not meet early stopping. Best iteration is:\n",
            "[1000]\tvalid_0's binary_logloss: 0.448746\n",
            "Training until validation scores don't improve for 50 rounds\n",
            "Did not meet early stopping. Best iteration is:\n",
            "[1000]\tvalid_0's binary_logloss: 0.479284\n",
            "Training until validation scores don't improve for 50 rounds\n",
            "Did not meet early stopping. Best iteration is:\n",
            "[1000]\tvalid_0's binary_logloss: 0.65422\n",
            "Training until validation scores don't improve for 50 rounds\n",
            "Did not meet early stopping. Best iteration is:\n",
            "[1000]\tvalid_0's binary_logloss: 0.652209\n",
            "Training until validation scores don't improve for 50 rounds\n",
            "Did not meet early stopping. Best iteration is:\n",
            "[1000]\tvalid_0's binary_logloss: 0.652409\n",
            "Training until validation scores don't improve for 50 rounds\n",
            "Did not meet early stopping. Best iteration is:\n",
            "[1000]\tvalid_0's binary_logloss: 0.64775\n",
            "Training until validation scores don't improve for 50 rounds\n",
            "Did not meet early stopping. Best iteration is:\n",
            "[1000]\tvalid_0's binary_logloss: 0.6456\n",
            "Training until validation scores don't improve for 50 rounds\n",
            "Did not meet early stopping. Best iteration is:\n",
            "[1000]\tvalid_0's binary_logloss: 0.646941\n",
            "Training until validation scores don't improve for 50 rounds\n",
            "Did not meet early stopping. Best iteration is:\n",
            "[1000]\tvalid_0's binary_logloss: 0.621944\n",
            "Training until validation scores don't improve for 50 rounds\n",
            "Did not meet early stopping. Best iteration is:\n",
            "[1000]\tvalid_0's binary_logloss: 0.621572\n",
            "Training until validation scores don't improve for 50 rounds\n",
            "Did not meet early stopping. Best iteration is:\n",
            "[1000]\tvalid_0's binary_logloss: 0.625768\n",
            "Training until validation scores don't improve for 50 rounds\n",
            "Did not meet early stopping. Best iteration is:\n",
            "[1000]\tvalid_0's binary_logloss: 0.628334\n",
            "Training until validation scores don't improve for 50 rounds\n",
            "Did not meet early stopping. Best iteration is:\n",
            "[1000]\tvalid_0's binary_logloss: 0.626272\n",
            "Training until validation scores don't improve for 50 rounds\n",
            "Did not meet early stopping. Best iteration is:\n",
            "[1000]\tvalid_0's binary_logloss: 0.631808\n",
            "Training until validation scores don't improve for 50 rounds\n",
            "Did not meet early stopping. Best iteration is:\n",
            "[1000]\tvalid_0's binary_logloss: 0.633013\n",
            "Training until validation scores don't improve for 50 rounds\n",
            "Did not meet early stopping. Best iteration is:\n",
            "[1000]\tvalid_0's binary_logloss: 0.632316\n",
            "Training until validation scores don't improve for 50 rounds\n",
            "Did not meet early stopping. Best iteration is:\n",
            "[1000]\tvalid_0's binary_logloss: 0.635254\n",
            "Training until validation scores don't improve for 50 rounds\n",
            "Did not meet early stopping. Best iteration is:\n",
            "[1000]\tvalid_0's binary_logloss: 0.61316\n",
            "Training until validation scores don't improve for 50 rounds\n",
            "Did not meet early stopping. Best iteration is:\n",
            "[1000]\tvalid_0's binary_logloss: 0.609326\n",
            "Training until validation scores don't improve for 50 rounds\n",
            "Did not meet early stopping. Best iteration is:\n",
            "[1000]\tvalid_0's binary_logloss: 0.616979\n",
            "Training until validation scores don't improve for 50 rounds\n",
            "Did not meet early stopping. Best iteration is:\n",
            "[1000]\tvalid_0's binary_logloss: 0.579678\n",
            "Training until validation scores don't improve for 50 rounds\n",
            "Did not meet early stopping. Best iteration is:\n",
            "[1000]\tvalid_0's binary_logloss: 0.580905\n",
            "Training until validation scores don't improve for 50 rounds\n",
            "Did not meet early stopping. Best iteration is:\n",
            "[1000]\tvalid_0's binary_logloss: 0.58446\n",
            "Training until validation scores don't improve for 50 rounds\n",
            "Did not meet early stopping. Best iteration is:\n",
            "[1000]\tvalid_0's binary_logloss: 0.614164\n",
            "Training until validation scores don't improve for 50 rounds\n",
            "Did not meet early stopping. Best iteration is:\n",
            "[1000]\tvalid_0's binary_logloss: 0.613902\n",
            "Training until validation scores don't improve for 50 rounds\n",
            "Did not meet early stopping. Best iteration is:\n",
            "[1000]\tvalid_0's binary_logloss: 0.616597\n",
            "Training until validation scores don't improve for 50 rounds\n",
            "Did not meet early stopping. Best iteration is:\n",
            "[1000]\tvalid_0's binary_logloss: 0.576632\n",
            "Training until validation scores don't improve for 50 rounds\n",
            "Did not meet early stopping. Best iteration is:\n",
            "[1000]\tvalid_0's binary_logloss: 0.577973\n",
            "Training until validation scores don't improve for 50 rounds\n",
            "Did not meet early stopping. Best iteration is:\n",
            "[1000]\tvalid_0's binary_logloss: 0.581473\n",
            "Training until validation scores don't improve for 50 rounds\n",
            "Did not meet early stopping. Best iteration is:\n",
            "[1000]\tvalid_0's binary_logloss: 0.630017\n",
            "Training until validation scores don't improve for 50 rounds\n",
            "Did not meet early stopping. Best iteration is:\n",
            "[1000]\tvalid_0's binary_logloss: 0.628542\n",
            "Training until validation scores don't improve for 50 rounds\n",
            "Did not meet early stopping. Best iteration is:\n",
            "[1000]\tvalid_0's binary_logloss: 0.629796\n",
            "Training until validation scores don't improve for 50 rounds\n",
            "Did not meet early stopping. Best iteration is:\n",
            "[1000]\tvalid_0's binary_logloss: 0.63228\n",
            "Training until validation scores don't improve for 50 rounds\n",
            "Did not meet early stopping. Best iteration is:\n",
            "[1000]\tvalid_0's binary_logloss: 0.63146\n",
            "Training until validation scores don't improve for 50 rounds\n",
            "Did not meet early stopping. Best iteration is:\n",
            "[1000]\tvalid_0's binary_logloss: 0.632664\n",
            "Training until validation scores don't improve for 50 rounds\n",
            "Did not meet early stopping. Best iteration is:\n",
            "[999]\tvalid_0's binary_logloss: 0.615252\n",
            "Training until validation scores don't improve for 50 rounds\n",
            "Did not meet early stopping. Best iteration is:\n",
            "[1000]\tvalid_0's binary_logloss: 0.614763\n",
            "Training until validation scores don't improve for 50 rounds\n",
            "Did not meet early stopping. Best iteration is:\n",
            "[1000]\tvalid_0's binary_logloss: 0.617435\n",
            "Training until validation scores don't improve for 50 rounds\n",
            "Did not meet early stopping. Best iteration is:\n",
            "[999]\tvalid_0's binary_logloss: 0.629907\n",
            "Training until validation scores don't improve for 50 rounds\n",
            "Did not meet early stopping. Best iteration is:\n",
            "[1000]\tvalid_0's binary_logloss: 0.628393\n",
            "Training until validation scores don't improve for 50 rounds\n",
            "Did not meet early stopping. Best iteration is:\n",
            "[1000]\tvalid_0's binary_logloss: 0.627683\n",
            "Training until validation scores don't improve for 50 rounds\n",
            "Did not meet early stopping. Best iteration is:\n",
            "[1000]\tvalid_0's binary_logloss: 0.632371\n",
            "Training until validation scores don't improve for 50 rounds\n",
            "Did not meet early stopping. Best iteration is:\n",
            "[1000]\tvalid_0's binary_logloss: 0.632611\n",
            "Training until validation scores don't improve for 50 rounds\n",
            "Did not meet early stopping. Best iteration is:\n",
            "[1000]\tvalid_0's binary_logloss: 0.632998\n",
            "Training until validation scores don't improve for 50 rounds\n",
            "Did not meet early stopping. Best iteration is:\n",
            "[1000]\tvalid_0's binary_logloss: 0.611828\n",
            "Training until validation scores don't improve for 50 rounds\n",
            "Did not meet early stopping. Best iteration is:\n",
            "[1000]\tvalid_0's binary_logloss: 0.611404\n",
            "Training until validation scores don't improve for 50 rounds\n",
            "Did not meet early stopping. Best iteration is:\n",
            "[1000]\tvalid_0's binary_logloss: 0.612934\n",
            "Training until validation scores don't improve for 50 rounds\n",
            "Early stopping, best iteration is:\n",
            "[165]\tvalid_0's binary_logloss: 0.664699\n",
            "Training until validation scores don't improve for 50 rounds\n",
            "Did not meet early stopping. Best iteration is:\n",
            "[992]\tvalid_0's binary_logloss: 0.593939\n",
            "Training until validation scores don't improve for 50 rounds\n",
            "Did not meet early stopping. Best iteration is:\n",
            "[999]\tvalid_0's binary_logloss: 0.597746\n",
            "Training until validation scores don't improve for 50 rounds\n",
            "Did not meet early stopping. Best iteration is:\n",
            "[999]\tvalid_0's binary_logloss: 0.613172\n",
            "Training until validation scores don't improve for 50 rounds\n",
            "Did not meet early stopping. Best iteration is:\n",
            "[999]\tvalid_0's binary_logloss: 0.611925\n",
            "Training until validation scores don't improve for 50 rounds\n",
            "Did not meet early stopping. Best iteration is:\n",
            "[1000]\tvalid_0's binary_logloss: 0.613375\n",
            "Training until validation scores don't improve for 50 rounds\n",
            "Did not meet early stopping. Best iteration is:\n",
            "[1000]\tvalid_0's binary_logloss: 0.595112\n",
            "Training until validation scores don't improve for 50 rounds\n",
            "Did not meet early stopping. Best iteration is:\n",
            "[1000]\tvalid_0's binary_logloss: 0.598176\n",
            "Training until validation scores don't improve for 50 rounds\n",
            "Did not meet early stopping. Best iteration is:\n",
            "[1000]\tvalid_0's binary_logloss: 0.596682\n",
            "Training until validation scores don't improve for 50 rounds\n",
            "Did not meet early stopping. Best iteration is:\n",
            "[1000]\tvalid_0's binary_logloss: 0.568452\n",
            "Training until validation scores don't improve for 50 rounds\n",
            "Did not meet early stopping. Best iteration is:\n",
            "[1000]\tvalid_0's binary_logloss: 0.570292\n",
            "Training until validation scores don't improve for 50 rounds\n",
            "Did not meet early stopping. Best iteration is:\n",
            "[1000]\tvalid_0's binary_logloss: 0.574603\n",
            "Training until validation scores don't improve for 50 rounds\n",
            "Early stopping, best iteration is:\n",
            "[382]\tvalid_0's binary_logloss: 0.567059\n",
            "Training until validation scores don't improve for 50 rounds\n",
            "Early stopping, best iteration is:\n",
            "[274]\tvalid_0's binary_logloss: 0.59362\n",
            "Training until validation scores don't improve for 50 rounds\n",
            "Did not meet early stopping. Best iteration is:\n",
            "[995]\tvalid_0's binary_logloss: 0.536481\n",
            "Training until validation scores don't improve for 50 rounds\n",
            "Did not meet early stopping. Best iteration is:\n",
            "[1000]\tvalid_0's binary_logloss: 0.601071\n",
            "Training until validation scores don't improve for 50 rounds\n",
            "Did not meet early stopping. Best iteration is:\n",
            "[1000]\tvalid_0's binary_logloss: 0.600937\n",
            "Training until validation scores don't improve for 50 rounds\n",
            "Did not meet early stopping. Best iteration is:\n",
            "[1000]\tvalid_0's binary_logloss: 0.599271\n",
            "Training until validation scores don't improve for 50 rounds\n",
            "Did not meet early stopping. Best iteration is:\n",
            "[1000]\tvalid_0's binary_logloss: 0.650961\n",
            "Training until validation scores don't improve for 50 rounds\n",
            "Did not meet early stopping. Best iteration is:\n",
            "[1000]\tvalid_0's binary_logloss: 0.653147\n",
            "Training until validation scores don't improve for 50 rounds\n",
            "Did not meet early stopping. Best iteration is:\n",
            "[1000]\tvalid_0's binary_logloss: 0.65075\n",
            "Training until validation scores don't improve for 50 rounds\n",
            "Early stopping, best iteration is:\n",
            "[42]\tvalid_0's binary_logloss: 0.687485\n",
            "Training until validation scores don't improve for 50 rounds\n",
            "Did not meet early stopping. Best iteration is:\n",
            "[1000]\tvalid_0's binary_logloss: 0.646536\n",
            "Training until validation scores don't improve for 50 rounds\n",
            "Did not meet early stopping. Best iteration is:\n",
            "[1000]\tvalid_0's binary_logloss: 0.641424\n",
            "Training until validation scores don't improve for 50 rounds\n",
            "Did not meet early stopping. Best iteration is:\n",
            "[1000]\tvalid_0's binary_logloss: 0.64732\n",
            "Training until validation scores don't improve for 50 rounds\n",
            "Did not meet early stopping. Best iteration is:\n",
            "[1000]\tvalid_0's binary_logloss: 0.650014\n",
            "Training until validation scores don't improve for 50 rounds\n",
            "Did not meet early stopping. Best iteration is:\n",
            "[1000]\tvalid_0's binary_logloss: 0.646047\n",
            "Training until validation scores don't improve for 50 rounds\n",
            "Early stopping, best iteration is:\n",
            "[832]\tvalid_0's binary_logloss: 0.603475\n",
            "Training until validation scores don't improve for 50 rounds\n",
            "Early stopping, best iteration is:\n",
            "[704]\tvalid_0's binary_logloss: 0.615381\n",
            "Training until validation scores don't improve for 50 rounds\n",
            "Did not meet early stopping. Best iteration is:\n",
            "[1000]\tvalid_0's binary_logloss: 0.598785\n",
            "Training until validation scores don't improve for 50 rounds\n",
            "Did not meet early stopping. Best iteration is:\n",
            "[1000]\tvalid_0's binary_logloss: 0.557336\n",
            "Training until validation scores don't improve for 50 rounds\n",
            "Did not meet early stopping. Best iteration is:\n",
            "[1000]\tvalid_0's binary_logloss: 0.554679\n",
            "Training until validation scores don't improve for 50 rounds\n",
            "Did not meet early stopping. Best iteration is:\n",
            "[1000]\tvalid_0's binary_logloss: 0.566296\n",
            "Training until validation scores don't improve for 50 rounds\n",
            "Did not meet early stopping. Best iteration is:\n",
            "[999]\tvalid_0's binary_logloss: 0.545028\n",
            "Training until validation scores don't improve for 50 rounds\n",
            "Did not meet early stopping. Best iteration is:\n",
            "[999]\tvalid_0's binary_logloss: 0.543669\n",
            "Training until validation scores don't improve for 50 rounds\n",
            "Early stopping, best iteration is:\n",
            "[458]\tvalid_0's binary_logloss: 0.581742\n",
            "Training until validation scores don't improve for 50 rounds\n",
            "Did not meet early stopping. Best iteration is:\n",
            "[1000]\tvalid_0's binary_logloss: 0.617695\n",
            "Training until validation scores don't improve for 50 rounds\n",
            "Did not meet early stopping. Best iteration is:\n",
            "[1000]\tvalid_0's binary_logloss: 0.620722\n",
            "Training until validation scores don't improve for 50 rounds\n",
            "Did not meet early stopping. Best iteration is:\n",
            "[1000]\tvalid_0's binary_logloss: 0.618119\n",
            "Training until validation scores don't improve for 50 rounds\n",
            "Did not meet early stopping. Best iteration is:\n",
            "[1000]\tvalid_0's binary_logloss: 0.61869\n",
            "Training until validation scores don't improve for 50 rounds\n",
            "Did not meet early stopping. Best iteration is:\n",
            "[1000]\tvalid_0's binary_logloss: 0.622081\n",
            "Training until validation scores don't improve for 50 rounds\n",
            "Did not meet early stopping. Best iteration is:\n",
            "[1000]\tvalid_0's binary_logloss: 0.620138\n",
            "✅ Best score: 0.5952\n",
            "🚀 Training LightGBM model...\n",
            "📊 Device: gpu\n",
            "🔢 Features: 13\n",
            "📈 Samples: 242\n",
            "Training until validation scores don't improve for 50 rounds\n",
            "Did not meet early stopping. Best iteration is:\n",
            "[1000]\tvalid_0's l2: 0.187508\n",
            "✅ Training completed. Best iteration: 1000\n",
            "\n",
            "📊 Validation Set Evaluation Results:\n",
            "==================================================\n",
            "Accuracy:  0.9000\n",
            "Precision: 0.9231\n",
            "Recall:    0.8571\n",
            "F1-Score:  0.8889\n",
            "AUC-ROC:   0.9732\n",
            "Log Loss:  0.5661\n",
            "\n",
            "📋 Classification Report:\n",
            "              precision    recall  f1-score   support\n",
            "\n",
            "           0       0.88      0.94      0.91        16\n",
            "           1       0.92      0.86      0.89        14\n",
            "\n",
            "    accuracy                           0.90        30\n",
            "   macro avg       0.90      0.90      0.90        30\n",
            "weighted avg       0.90      0.90      0.90        30\n",
            "\n",
            "\n",
            "🔢 Confusion Matrix:\n",
            "[[15  1]\n",
            " [ 2 12]]\n",
            "\n",
            "📊 Test Set Evaluation Results:\n",
            "==================================================\n",
            "Accuracy:  0.7097\n",
            "Precision: 0.7273\n",
            "Recall:    0.5714\n",
            "F1-Score:  0.6400\n",
            "AUC-ROC:   0.8697\n",
            "Log Loss:  0.5998\n",
            "\n",
            "📋 Classification Report:\n",
            "              precision    recall  f1-score   support\n",
            "\n",
            "           0       0.70      0.82      0.76        17\n",
            "           1       0.73      0.57      0.64        14\n",
            "\n",
            "    accuracy                           0.71        31\n",
            "   macro avg       0.71      0.70      0.70        31\n",
            "weighted avg       0.71      0.71      0.70        31\n",
            "\n",
            "\n",
            "🔢 Confusion Matrix:\n",
            "[[14  3]\n",
            " [ 6  8]]\n"
          ]
        },
        {
          "data": {
            "image/png": "[encoded data removed]",
            "text/plain": [
              "<Figure size 1000x800 with 1 Axes>"
            ]
          },
          "metadata": {},
          "output_type": "display_data"
        },
        {
          "name": "stdout",
          "output_type": "stream",
          "text": [
            "✅ SHAP explainer setup completed\n"
          ]
        },
        {
          "data": {
            "image/png": "[encoded data removed]",
            "text/plain": [
              "<Figure size 800x670 with 2 Axes>"
            ]
          },
          "metadata": {},
          "output_type": "display_data"
        },
        {
          "data": {
            "image/png": "[encoded data removed]",
            "text/plain": [
              "<Figure size 800x800 with 3 Axes>"
            ]
          },
          "metadata": {},
          "output_type": "display_data"
        }
      ],
      "source": [
        "# Giải thích lỗi:\n",
        "# Lỗi \"TypeError: train() got an unexpected keyword argument 'early_stopping_rounds'\" xuất hiện vì từ LightGBM version 4.0 trở lên,\n",
        "# hàm lgb.train KHÔNG còn nhận tham số early_stopping_rounds trực tiếp nữa.\n",
        "# Thay vào đó, bạn phải dùng callback lgb.early_stopping(stopping_rounds=...) trong tham số callbacks.\n",
        "# Nếu trong code của bạn (ví dụ trong hàm train_model) vẫn truyền early_stopping_rounds vào lgb.train thì sẽ bị lỗi này.\n",
        "\n",
        "# Cách khắc phục:\n",
        "# - Xóa tham số early_stopping_rounds khỏi lgb.train.\n",
        "# - Thay vào đó, thêm lgb.early_stopping(stopping_rounds=...) vào callbacks.\n",
        "# - Tương tự, verbose_eval cũng phải chuyển sang callback lgb.log_evaluation().\n",
        "\n",
        "# Dưới đây là ví dụ code đã sửa cho phần train_model (bạn cần sửa trong class AdvancedLightGBM):\n",
        "\n",
        "# Ví dụ (bạn cần sửa trong class, đây chỉ là hướng dẫn):\n",
        "# self.model = lgb.train(\n",
        "#     params,\n",
        "#     train_data,\n",
        "#     valid_sets=[val_data],\n",
        "#     num_boost_round=num_boost_round,\n",
        "#     callbacks=[\n",
        "#         lgb.early_stopping(stopping_rounds=50),\n",
        "#         lgb.log_evaluation(0)\n",
        "#     ]\n",
        "# )\n",
        "\n",
        "# --- Đoạn code thực nghiệm không cần sửa vì đã dùng callback đúng cách trong Optuna ---\n",
        "# Tuy nhiên, bạn cần kiểm tra lại trong class AdvancedLightGBM, hàm train_model phải bỏ early_stopping_rounds khỏi lgb.train.\n",
        "\n",
        "# Dưới đây là code thực nghiệm (giữ nguyên):\n",
        "\n",
        "# Initialize LightGBM model\n",
        "lgb_model = AdvancedLightGBM(use_gpu=GPU_AVAILABLE, random_state=SEED)\n",
        "\n",
        "# Optimize hyperparameters (reduced trials for faster execution)\n",
        "print(\"🔧 Optimizing hyperparameters for Original Dataset...\")\n",
        "\n",
        "import types\n",
        "\n",
        "def patched_create_optuna_objective(self, X_train, y_train, X_val, y_val, n_trials, cv_folds):\n",
        "    import optuna\n",
        "    import lightgbm as lgb\n",
        "    from optuna.integration import LightGBMPruningCallback\n",
        "\n",
        "    def objective(trial):\n",
        "        # Define hyperparameter search space\n",
        "        param_grid = {\n",
        "            \"objective\": \"binary\",\n",
        "            \"metric\": \"binary_logloss\",\n",
        "            \"verbosity\": -1,\n",
        "            \"boosting_type\": \"gbdt\",\n",
        "            \"num_leaves\": trial.suggest_int(\"num_leaves\", 16, 128),\n",
        "            \"learning_rate\": trial.suggest_float(\"learning_rate\", 1e-3, 0.3, log=True),\n",
        "            \"feature_fraction\": trial.suggest_float(\"feature_fraction\", 0.5, 1.0),\n",
        "            \"bagging_fraction\": trial.suggest_float(\"bagging_fraction\", 0.5, 1.0),\n",
        "            \"bagging_freq\": trial.suggest_int(\"bagging_freq\", 1, 7),\n",
        "            \"min_child_samples\": trial.suggest_int(\"min_child_samples\", 5, 30),\n",
        "            \"min_child_weight\": trial.suggest_float(\"min_child_weight\", 1e-3, 10.0, log=True),\n",
        "            \"reg_alpha\": trial.suggest_float(\"reg_alpha\", 0.0, 10.0),\n",
        "            \"reg_lambda\": trial.suggest_float(\"reg_lambda\", 0.0, 10.0),\n",
        "            \"max_depth\": trial.suggest_int(\"max_depth\", 3, 16),\n",
        "            \"min_split_gain\": trial.suggest_float(\"min_split_gain\", 0.0, 0.1),\n",
        "            \"subsample\": trial.suggest_float(\"subsample\", 0.5, 1.0),\n",
        "            \"colsample_bytree\": trial.suggest_float(\"colsample_bytree\", 0.5, 1.0),\n",
        "        }\n",
        "        if self.use_gpu:\n",
        "            param_grid[\"device\"] = \"gpu\"\n",
        "            param_grid[\"gpu_platform_id\"] = 0\n",
        "            param_grid[\"gpu_device_id\"] = 0\n",
        "\n",
        "        # Cross-validation\n",
        "        from sklearn.model_selection import StratifiedKFold\n",
        "        import numpy as np\n",
        "\n",
        "        skf = StratifiedKFold(n_splits=cv_folds, shuffle=True, random_state=self.random_state)\n",
        "        scores = []\n",
        "        for train_idx, val_idx in skf.split(X_train, y_train):\n",
        "            X_tr, X_val_cv = X_train.iloc[train_idx], X_train.iloc[val_idx]\n",
        "            y_tr, y_val_cv = y_train.iloc[train_idx], y_train.iloc[val_idx]\n",
        "\n",
        "            train_data = lgb.Dataset(X_tr, label=y_tr)\n",
        "            val_data = lgb.Dataset(X_val_cv, label=y_val_cv, reference=train_data)\n",
        "\n",
        "            model = lgb.train(\n",
        "                param_grid,\n",
        "                train_data,\n",
        "                valid_sets=[val_data],\n",
        "                valid_names=[\"valid_0\"],\n",
        "                callbacks=[\n",
        "                    lgb.early_stopping(stopping_rounds=50)\n",
        "                ],\n",
        "                num_boost_round=1000\n",
        "            )\n",
        "\n",
        "            pred = model.predict(X_val_cv, num_iteration=model.best_iteration)\n",
        "            pred_binary = (pred > 0.5).astype(int)\n",
        "            from sklearn.metrics import accuracy_score\n",
        "            acc = accuracy_score(y_val_cv, pred_binary)\n",
        "            scores.append(acc)\n",
        "        return np.mean(scores)\n",
        "    return objective\n",
        "\n",
        "import optuna\n",
        "lgb_model.create_optuna_objective = types.MethodType(patched_create_optuna_objective, lgb_model)\n",
        "\n",
        "study = optuna.create_study(\n",
        "    direction='minimize',\n",
        "    sampler=optuna.samplers.TPESampler(seed=SEED),\n",
        "    pruner=optuna.pruners.MedianPruner(n_startup_trials=10, n_warmup_steps=5)\n",
        ")\n",
        "objective = lgb_model.create_optuna_objective(X_train, y_train, X_val, y_val, 50, 3)\n",
        "study.optimize(objective, n_trials=50, timeout=1800)\n",
        "lgb_model.best_params = study.best_params\n",
        "print(f\"✅ Best score: {study.best_value:.4f}\")\n",
        "\n",
        "# Train model with optimized parameters\n",
        "lgb_model.train_model(X_train, y_train, X_val, y_val)\n",
        "\n",
        "# Evaluate on validation set\n",
        "val_results = lgb_model.evaluate_comprehensive(X_val, y_val, \"Validation\")\n",
        "\n",
        "# Evaluate on test set\n",
        "test_results = lgb_model.evaluate_comprehensive(X_test, y_test, \"Test\")\n",
        "\n",
        "# Plot feature importance\n",
        "lgb_model.plot_feature_importance(top_n=15)\n",
        "\n",
        "# Setup SHAP explainer\n",
        "lgb_model.setup_shap_explainer(X_train, X_val)\n",
        "\n",
        "# Plot SHAP summary\n",
        "lgb_model.plot_shap_summary(X_val, max_display=15)\n",
        "\n",
        "# Plot SHAP waterfall for first instance\n",
        "lgb_model.plot_shap_waterfall(X_val, instance_idx=0)\n"
      ]
    },
    {
      "cell_type": "markdown",
      "metadata": {},
      "source": [
        "### 3.2 LightGBM on Feature Engineering Dataset\n",
        "\n",
        "#### 🔧 Thí nghiệm trên Feature Engineering Dataset\n",
        "**Mục tiêu**: Đánh giá tác động của feature engineering lên performance\n",
        "\n",
        "**Feature Engineering có thể bao gồm**:\n",
        "- **Scaling/Normalization**: Chuẩn hóa dữ liệu\n",
        "- **Polynomial Features**: Tạo features bậc cao\n",
        "- **Interaction Features**: Tương tác giữa các features\n",
        "- **Statistical Features**: Mean, std, quantiles\n",
        "- **Domain-specific Features**: Features đặc thù cho medical diagnosis\n",
        "\n",
        "**Kỳ vọng**: Performance tốt hơn Original dataset do có thêm thông tin hữu ích\n"
      ]
    },
    {
      "cell_type": "code",
      "execution_count": null,
      "metadata": {},
      "outputs": [
        {
          "name": "stdout",
          "output_type": "stream",
          "text": [
            "🔧 Optimizing hyperparameters for Feature Engineering Dataset...\n",
            "🔍 Starting hyperparameter optimization with 50 trials...\n",
            "⏱️ Timeout: 1800 seconds\n",
            "Training until validation scores don't improve for 50 rounds\n",
            "Early stopping, best iteration is:\n",
            "[33]\tvalid_0's binary_logloss: 0.519203\n",
            "Training until validation scores don't improve for 50 rounds\n",
            "Early stopping, best iteration is:\n",
            "[52]\tvalid_0's binary_logloss: 0.478743\n",
            "Training until validation scores don't improve for 50 rounds\n",
            "Early stopping, best iteration is:\n",
            "[30]\tvalid_0's binary_logloss: 0.533077\n",
            "Training until validation scores don't improve for 50 rounds\n",
            "Early stopping, best iteration is:\n",
            "[274]\tvalid_0's binary_logloss: 0.555026\n",
            "Training until validation scores don't improve for 50 rounds\n",
            "Early stopping, best iteration is:\n",
            "[589]\tvalid_0's binary_logloss: 0.498352\n",
            "Training until validation scores don't improve for 50 rounds\n",
            "Early stopping, best iteration is:\n",
            "[127]\tvalid_0's binary_logloss: 0.628624\n",
            "Training until validation scores don't improve for 50 rounds\n",
            "Early stopping, best iteration is:\n",
            "[58]\tvalid_0's binary_logloss: 0.65224\n",
            "Training until validation scores don't improve for 50 rounds\n",
            "Early stopping, best iteration is:\n",
            "[27]\tvalid_0's binary_logloss: 0.67066\n",
            "Training until validation scores don't improve for 50 rounds\n",
            "Early stopping, best iteration is:\n",
            "[20]\tvalid_0's binary_logloss: 0.678601\n",
            "Training until validation scores don't improve for 50 rounds\n",
            "Early stopping, best iteration is:\n",
            "[755]\tvalid_0's binary_logloss: 0.441647\n",
            "Training until validation scores don't improve for 50 rounds\n",
            "Did not meet early stopping. Best iteration is:\n",
            "[975]\tvalid_0's binary_logloss: 0.409235\n",
            "Training until validation scores don't improve for 50 rounds\n",
            "Early stopping, best iteration is:\n",
            "[628]\tvalid_0's binary_logloss: 0.478127\n",
            "Training until validation scores don't improve for 50 rounds\n",
            "Early stopping, best iteration is:\n",
            "[69]\tvalid_0's binary_logloss: 0.430194\n",
            "Training until validation scores don't improve for 50 rounds\n",
            "Early stopping, best iteration is:\n",
            "[67]\tvalid_0's binary_logloss: 0.391778\n",
            "Training until validation scores don't improve for 50 rounds\n",
            "Early stopping, best iteration is:\n",
            "[87]\tvalid_0's binary_logloss: 0.451067\n",
            "Training until validation scores don't improve for 50 rounds\n",
            "Early stopping, best iteration is:\n",
            "[1]\tvalid_0's binary_logloss: 0.689425\n",
            "Training until validation scores don't improve for 50 rounds\n",
            "Early stopping, best iteration is:\n",
            "[1]\tvalid_0's binary_logloss: 0.689425\n",
            "Training until validation scores don't improve for 50 rounds\n",
            "Early stopping, best iteration is:\n",
            "[1]\tvalid_0's binary_logloss: 0.690398\n",
            "Training until validation scores don't improve for 50 rounds\n",
            "Early stopping, best iteration is:\n",
            "[303]\tvalid_0's binary_logloss: 0.464099\n",
            "Training until validation scores don't improve for 50 rounds\n",
            "Early stopping, best iteration is:\n",
            "[289]\tvalid_0's binary_logloss: 0.446292\n",
            "Training until validation scores don't improve for 50 rounds\n",
            "Early stopping, best iteration is:\n",
            "[221]\tvalid_0's binary_logloss: 0.493198\n",
            "Training until validation scores don't improve for 50 rounds\n",
            "Early stopping, best iteration is:\n",
            "[66]\tvalid_0's binary_logloss: 0.402463\n",
            "Training until validation scores don't improve for 50 rounds\n",
            "Early stopping, best iteration is:\n",
            "[49]\tvalid_0's binary_logloss: 0.421657\n",
            "Training until validation scores don't improve for 50 rounds\n",
            "Early stopping, best iteration is:\n",
            "[67]\tvalid_0's binary_logloss: 0.434884\n",
            "Training until validation scores don't improve for 50 rounds\n",
            "Early stopping, best iteration is:\n",
            "[322]\tvalid_0's binary_logloss: 0.419069\n",
            "Training until validation scores don't improve for 50 rounds\n",
            "Early stopping, best iteration is:\n",
            "[276]\tvalid_0's binary_logloss: 0.398436\n",
            "Training until validation scores don't improve for 50 rounds\n",
            "Early stopping, best iteration is:\n",
            "[340]\tvalid_0's binary_logloss: 0.44313\n",
            "Training until validation scores don't improve for 50 rounds\n",
            "Early stopping, best iteration is:\n",
            "[24]\tvalid_0's binary_logloss: 0.434836\n",
            "Training until validation scores don't improve for 50 rounds\n",
            "Early stopping, best iteration is:\n",
            "[24]\tvalid_0's binary_logloss: 0.412402\n",
            "Training until validation scores don't improve for 50 rounds\n",
            "Early stopping, best iteration is:\n",
            "[32]\tvalid_0's binary_logloss: 0.449622\n",
            "Training until validation scores don't improve for 50 rounds\n",
            "Early stopping, best iteration is:\n",
            "[1]\tvalid_0's binary_logloss: 0.689425\n",
            "Training until validation scores don't improve for 50 rounds\n",
            "Early stopping, best iteration is:\n",
            "[1]\tvalid_0's binary_logloss: 0.689425\n",
            "Training until validation scores don't improve for 50 rounds\n",
            "Early stopping, best iteration is:\n",
            "[1]\tvalid_0's binary_logloss: 0.690398\n",
            "Training until validation scores don't improve for 50 rounds\n",
            "Early stopping, best iteration is:\n",
            "[154]\tvalid_0's binary_logloss: 0.421228\n",
            "Training until validation scores don't improve for 50 rounds\n",
            "Early stopping, best iteration is:\n",
            "[151]\tvalid_0's binary_logloss: 0.393311\n",
            "Training until validation scores don't improve for 50 rounds\n",
            "Early stopping, best iteration is:\n",
            "[142]\tvalid_0's binary_logloss: 0.446581\n",
            "Training until validation scores don't improve for 50 rounds\n",
            "Early stopping, best iteration is:\n",
            "[256]\tvalid_0's binary_logloss: 0.474186\n",
            "Training until validation scores don't improve for 50 rounds\n",
            "Early stopping, best iteration is:\n",
            "[170]\tvalid_0's binary_logloss: 0.489713\n",
            "Training until validation scores don't improve for 50 rounds\n",
            "Early stopping, best iteration is:\n",
            "[222]\tvalid_0's binary_logloss: 0.48662\n",
            "Training until validation scores don't improve for 50 rounds\n",
            "Early stopping, best iteration is:\n",
            "[58]\tvalid_0's binary_logloss: 0.477287\n",
            "Training until validation scores don't improve for 50 rounds\n",
            "Early stopping, best iteration is:\n",
            "[149]\tvalid_0's binary_logloss: 0.429923\n",
            "Training until validation scores don't improve for 50 rounds\n",
            "Early stopping, best iteration is:\n",
            "[67]\tvalid_0's binary_logloss: 0.487779\n",
            "Training until validation scores don't improve for 50 rounds\n",
            "Early stopping, best iteration is:\n",
            "[258]\tvalid_0's binary_logloss: 0.44934\n",
            "Training until validation scores don't improve for 50 rounds\n",
            "Early stopping, best iteration is:\n",
            "[350]\tvalid_0's binary_logloss: 0.427461\n",
            "Training until validation scores don't improve for 50 rounds\n",
            "Early stopping, best iteration is:\n",
            "[268]\tvalid_0's binary_logloss: 0.470146\n",
            "Training until validation scores don't improve for 50 rounds\n",
            "Early stopping, best iteration is:\n",
            "[1]\tvalid_0's binary_logloss: 0.689425\n",
            "Training until validation scores don't improve for 50 rounds\n",
            "Early stopping, best iteration is:\n",
            "[1]\tvalid_0's binary_logloss: 0.689425\n",
            "Training until validation scores don't improve for 50 rounds\n",
            "Early stopping, best iteration is:\n",
            "[1]\tvalid_0's binary_logloss: 0.690398\n",
            "Training until validation scores don't improve for 50 rounds\n",
            "Early stopping, best iteration is:\n",
            "[79]\tvalid_0's binary_logloss: 0.4338\n",
            "Training until validation scores don't improve for 50 rounds\n",
            "Early stopping, best iteration is:\n",
            "[61]\tvalid_0's binary_logloss: 0.421222\n",
            "Training until validation scores don't improve for 50 rounds\n",
            "Early stopping, best iteration is:\n",
            "[67]\tvalid_0's binary_logloss: 0.454028\n",
            "Training until validation scores don't improve for 50 rounds\n",
            "Early stopping, best iteration is:\n",
            "[1]\tvalid_0's binary_logloss: 0.689425\n",
            "Training until validation scores don't improve for 50 rounds\n",
            "Early stopping, best iteration is:\n",
            "[1]\tvalid_0's binary_logloss: 0.689425\n",
            "Training until validation scores don't improve for 50 rounds\n",
            "Early stopping, best iteration is:\n",
            "[1]\tvalid_0's binary_logloss: 0.690398\n",
            "Training until validation scores don't improve for 50 rounds\n",
            "Early stopping, best iteration is:\n",
            "[15]\tvalid_0's binary_logloss: 0.606526\n",
            "Training until validation scores don't improve for 50 rounds\n",
            "Early stopping, best iteration is:\n",
            "[19]\tvalid_0's binary_logloss: 0.583045\n",
            "Training until validation scores don't improve for 50 rounds\n",
            "Early stopping, best iteration is:\n",
            "[2]\tvalid_0's binary_logloss: 0.687535\n",
            "Training until validation scores don't improve for 50 rounds\n",
            "Early stopping, best iteration is:\n",
            "[505]\tvalid_0's binary_logloss: 0.465646\n",
            "Training until validation scores don't improve for 50 rounds\n",
            "Early stopping, best iteration is:\n",
            "[605]\tvalid_0's binary_logloss: 0.449395\n",
            "Training until validation scores don't improve for 50 rounds\n",
            "Early stopping, best iteration is:\n",
            "[465]\tvalid_0's binary_logloss: 0.492441\n",
            "Training until validation scores don't improve for 50 rounds\n",
            "Early stopping, best iteration is:\n",
            "[133]\tvalid_0's binary_logloss: 0.492771\n",
            "Training until validation scores don't improve for 50 rounds\n",
            "Early stopping, best iteration is:\n",
            "[91]\tvalid_0's binary_logloss: 0.511816\n",
            "Training until validation scores don't improve for 50 rounds\n",
            "Early stopping, best iteration is:\n",
            "[67]\tvalid_0's binary_logloss: 0.567304\n",
            "Training until validation scores don't improve for 50 rounds\n",
            "Early stopping, best iteration is:\n",
            "[255]\tvalid_0's binary_logloss: 0.510713\n",
            "Training until validation scores don't improve for 50 rounds\n",
            "Early stopping, best iteration is:\n",
            "[187]\tvalid_0's binary_logloss: 0.515855\n",
            "Training until validation scores don't improve for 50 rounds\n",
            "Early stopping, best iteration is:\n",
            "[285]\tvalid_0's binary_logloss: 0.524463\n",
            "Training until validation scores don't improve for 50 rounds\n",
            "Did not meet early stopping. Best iteration is:\n",
            "[999]\tvalid_0's binary_logloss: 0.436718\n",
            "Training until validation scores don't improve for 50 rounds\n",
            "Did not meet early stopping. Best iteration is:\n",
            "[994]\tvalid_0's binary_logloss: 0.414638\n",
            "Training until validation scores don't improve for 50 rounds\n",
            "Did not meet early stopping. Best iteration is:\n",
            "[998]\tvalid_0's binary_logloss: 0.46571\n",
            "Training until validation scores don't improve for 50 rounds\n",
            "Early stopping, best iteration is:\n",
            "[21]\tvalid_0's binary_logloss: 0.534729\n",
            "Training until validation scores don't improve for 50 rounds\n",
            "Early stopping, best iteration is:\n",
            "[37]\tvalid_0's binary_logloss: 0.508217\n",
            "Training until validation scores don't improve for 50 rounds\n",
            "Early stopping, best iteration is:\n",
            "[37]\tvalid_0's binary_logloss: 0.525016\n",
            "Training until validation scores don't improve for 50 rounds\n",
            "Early stopping, best iteration is:\n",
            "[232]\tvalid_0's binary_logloss: 0.467617\n",
            "Training until validation scores don't improve for 50 rounds\n",
            "Early stopping, best iteration is:\n",
            "[688]\tvalid_0's binary_logloss: 0.429365\n",
            "Training until validation scores don't improve for 50 rounds\n",
            "Early stopping, best iteration is:\n",
            "[218]\tvalid_0's binary_logloss: 0.493526\n",
            "Training until validation scores don't improve for 50 rounds\n",
            "Early stopping, best iteration is:\n",
            "[60]\tvalid_0's binary_logloss: 0.520196\n",
            "Training until validation scores don't improve for 50 rounds\n",
            "Early stopping, best iteration is:\n",
            "[17]\tvalid_0's binary_logloss: 0.61399\n",
            "Training until validation scores don't improve for 50 rounds\n",
            "Early stopping, best iteration is:\n",
            "[162]\tvalid_0's binary_logloss: 0.502335\n",
            "Training until validation scores don't improve for 50 rounds\n",
            "Early stopping, best iteration is:\n",
            "[98]\tvalid_0's binary_logloss: 0.392449\n",
            "Training until validation scores don't improve for 50 rounds\n",
            "Early stopping, best iteration is:\n",
            "[80]\tvalid_0's binary_logloss: 0.36467\n",
            "Training until validation scores don't improve for 50 rounds\n",
            "Early stopping, best iteration is:\n",
            "[163]\tvalid_0's binary_logloss: 0.413322\n",
            "Training until validation scores don't improve for 50 rounds\n",
            "Early stopping, best iteration is:\n",
            "[98]\tvalid_0's binary_logloss: 0.416094\n",
            "Training until validation scores don't improve for 50 rounds\n",
            "Early stopping, best iteration is:\n",
            "[105]\tvalid_0's binary_logloss: 0.381991\n",
            "Training until validation scores don't improve for 50 rounds\n",
            "Early stopping, best iteration is:\n",
            "[240]\tvalid_0's binary_logloss: 0.421816\n",
            "Training until validation scores don't improve for 50 rounds\n",
            "Early stopping, best iteration is:\n",
            "[339]\tvalid_0's binary_logloss: 0.540092\n",
            "Training until validation scores don't improve for 50 rounds\n",
            "Early stopping, best iteration is:\n",
            "[129]\tvalid_0's binary_logloss: 0.584502\n",
            "Training until validation scores don't improve for 50 rounds\n",
            "Early stopping, best iteration is:\n",
            "[195]\tvalid_0's binary_logloss: 0.575562\n",
            "Training until validation scores don't improve for 50 rounds\n",
            "Early stopping, best iteration is:\n",
            "[96]\tvalid_0's binary_logloss: 0.585529\n",
            "Training until validation scores don't improve for 50 rounds\n",
            "Early stopping, best iteration is:\n",
            "[34]\tvalid_0's binary_logloss: 0.63472\n",
            "Training until validation scores don't improve for 50 rounds\n",
            "Early stopping, best iteration is:\n",
            "[439]\tvalid_0's binary_logloss: 0.549749\n",
            "Training until validation scores don't improve for 50 rounds\n",
            "Early stopping, best iteration is:\n",
            "[374]\tvalid_0's binary_logloss: 0.394017\n",
            "Training until validation scores don't improve for 50 rounds\n",
            "Early stopping, best iteration is:\n",
            "[296]\tvalid_0's binary_logloss: 0.353448\n",
            "Training until validation scores don't improve for 50 rounds\n",
            "Early stopping, best iteration is:\n",
            "[227]\tvalid_0's binary_logloss: 0.422376\n",
            "Training until validation scores don't improve for 50 rounds\n",
            "Early stopping, best iteration is:\n",
            "[451]\tvalid_0's binary_logloss: 0.394893\n",
            "Training until validation scores don't improve for 50 rounds\n",
            "Early stopping, best iteration is:\n",
            "[296]\tvalid_0's binary_logloss: 0.355456\n",
            "Training until validation scores don't improve for 50 rounds\n",
            "Early stopping, best iteration is:\n",
            "[227]\tvalid_0's binary_logloss: 0.426458\n",
            "Training until validation scores don't improve for 50 rounds\n",
            "Early stopping, best iteration is:\n",
            "[122]\tvalid_0's binary_logloss: 0.405089\n",
            "Training until validation scores don't improve for 50 rounds\n",
            "Early stopping, best iteration is:\n",
            "[272]\tvalid_0's binary_logloss: 0.358616\n",
            "Training until validation scores don't improve for 50 rounds\n",
            "Early stopping, best iteration is:\n",
            "[198]\tvalid_0's binary_logloss: 0.416594\n",
            "Training until validation scores don't improve for 50 rounds\n",
            "Early stopping, best iteration is:\n",
            "[180]\tvalid_0's binary_logloss: 0.387341\n",
            "Training until validation scores don't improve for 50 rounds\n",
            "Early stopping, best iteration is:\n",
            "[324]\tvalid_0's binary_logloss: 0.352922\n",
            "Training until validation scores don't improve for 50 rounds\n",
            "Early stopping, best iteration is:\n",
            "[296]\tvalid_0's binary_logloss: 0.409818\n",
            "Training until validation scores don't improve for 50 rounds\n",
            "Early stopping, best iteration is:\n",
            "[318]\tvalid_0's binary_logloss: 0.408932\n",
            "Training until validation scores don't improve for 50 rounds\n",
            "Early stopping, best iteration is:\n",
            "[163]\tvalid_0's binary_logloss: 0.409093\n",
            "Training until validation scores don't improve for 50 rounds\n",
            "Early stopping, best iteration is:\n",
            "[315]\tvalid_0's binary_logloss: 0.43175\n",
            "Training until validation scores don't improve for 50 rounds\n",
            "Early stopping, best iteration is:\n",
            "[128]\tvalid_0's binary_logloss: 0.385031\n",
            "Training until validation scores don't improve for 50 rounds\n",
            "Early stopping, best iteration is:\n",
            "[234]\tvalid_0's binary_logloss: 0.373031\n",
            "Training until validation scores don't improve for 50 rounds\n",
            "Early stopping, best iteration is:\n",
            "[215]\tvalid_0's binary_logloss: 0.410988\n",
            "Training until validation scores don't improve for 50 rounds\n",
            "Early stopping, best iteration is:\n",
            "[286]\tvalid_0's binary_logloss: 0.385518\n",
            "Training until validation scores don't improve for 50 rounds\n",
            "Early stopping, best iteration is:\n",
            "[617]\tvalid_0's binary_logloss: 0.341293\n",
            "Training until validation scores don't improve for 50 rounds\n",
            "Early stopping, best iteration is:\n",
            "[409]\tvalid_0's binary_logloss: 0.4096\n",
            "Training until validation scores don't improve for 50 rounds\n",
            "Early stopping, best iteration is:\n",
            "[289]\tvalid_0's binary_logloss: 0.377024\n",
            "Training until validation scores don't improve for 50 rounds\n",
            "Early stopping, best iteration is:\n",
            "[271]\tvalid_0's binary_logloss: 0.366751\n",
            "Training until validation scores don't improve for 50 rounds\n",
            "Early stopping, best iteration is:\n",
            "[391]\tvalid_0's binary_logloss: 0.405967\n",
            "Training until validation scores don't improve for 50 rounds\n",
            "Early stopping, best iteration is:\n",
            "[624]\tvalid_0's binary_logloss: 0.383926\n",
            "Training until validation scores don't improve for 50 rounds\n",
            "Early stopping, best iteration is:\n",
            "[576]\tvalid_0's binary_logloss: 0.358568\n",
            "Training until validation scores don't improve for 50 rounds\n",
            "Early stopping, best iteration is:\n",
            "[510]\tvalid_0's binary_logloss: 0.414685\n",
            "Training until validation scores don't improve for 50 rounds\n",
            "Early stopping, best iteration is:\n",
            "[392]\tvalid_0's binary_logloss: 0.396906\n",
            "Training until validation scores don't improve for 50 rounds\n",
            "Early stopping, best iteration is:\n",
            "[781]\tvalid_0's binary_logloss: 0.348154\n",
            "Training until validation scores don't improve for 50 rounds\n",
            "Early stopping, best iteration is:\n",
            "[597]\tvalid_0's binary_logloss: 0.414107\n",
            "Training until validation scores don't improve for 50 rounds\n",
            "Early stopping, best iteration is:\n",
            "[384]\tvalid_0's binary_logloss: 0.40871\n",
            "Training until validation scores don't improve for 50 rounds\n",
            "Early stopping, best iteration is:\n",
            "[748]\tvalid_0's binary_logloss: 0.350856\n",
            "Training until validation scores don't improve for 50 rounds\n",
            "Early stopping, best iteration is:\n",
            "[657]\tvalid_0's binary_logloss: 0.418102\n",
            "Training until validation scores don't improve for 50 rounds\n",
            "Early stopping, best iteration is:\n",
            "[569]\tvalid_0's binary_logloss: 0.397064\n",
            "Training until validation scores don't improve for 50 rounds\n",
            "Early stopping, best iteration is:\n",
            "[749]\tvalid_0's binary_logloss: 0.351188\n",
            "Training until validation scores don't improve for 50 rounds\n",
            "Early stopping, best iteration is:\n",
            "[676]\tvalid_0's binary_logloss: 0.415191\n",
            "Training until validation scores don't improve for 50 rounds\n",
            "Did not meet early stopping. Best iteration is:\n",
            "[996]\tvalid_0's binary_logloss: 0.442222\n",
            "Training until validation scores don't improve for 50 rounds\n",
            "Early stopping, best iteration is:\n",
            "[365]\tvalid_0's binary_logloss: 0.47746\n",
            "Training until validation scores don't improve for 50 rounds\n",
            "Early stopping, best iteration is:\n",
            "[944]\tvalid_0's binary_logloss: 0.467077\n",
            "Training until validation scores don't improve for 50 rounds\n",
            "Early stopping, best iteration is:\n",
            "[793]\tvalid_0's binary_logloss: 0.377985\n",
            "Training until validation scores don't improve for 50 rounds\n",
            "Early stopping, best iteration is:\n",
            "[635]\tvalid_0's binary_logloss: 0.365781\n",
            "Training until validation scores don't improve for 50 rounds\n",
            "Early stopping, best iteration is:\n",
            "[750]\tvalid_0's binary_logloss: 0.408689\n",
            "Training until validation scores don't improve for 50 rounds\n",
            "Early stopping, best iteration is:\n",
            "[400]\tvalid_0's binary_logloss: 0.388924\n",
            "Training until validation scores don't improve for 50 rounds\n",
            "Early stopping, best iteration is:\n",
            "[380]\tvalid_0's binary_logloss: 0.363491\n",
            "Training until validation scores don't improve for 50 rounds\n",
            "Early stopping, best iteration is:\n",
            "[513]\tvalid_0's binary_logloss: 0.407497\n",
            "Training until validation scores don't improve for 50 rounds\n",
            "Early stopping, best iteration is:\n",
            "[1]\tvalid_0's binary_logloss: 0.689425\n",
            "Training until validation scores don't improve for 50 rounds\n",
            "Early stopping, best iteration is:\n",
            "[1]\tvalid_0's binary_logloss: 0.689425\n",
            "Training until validation scores don't improve for 50 rounds\n",
            "Early stopping, best iteration is:\n",
            "[1]\tvalid_0's binary_logloss: 0.690398\n",
            "Training until validation scores don't improve for 50 rounds\n",
            "Early stopping, best iteration is:\n",
            "[384]\tvalid_0's binary_logloss: 0.407516\n",
            "Training until validation scores don't improve for 50 rounds\n",
            "Early stopping, best iteration is:\n",
            "[199]\tvalid_0's binary_logloss: 0.421308\n",
            "Training until validation scores don't improve for 50 rounds\n",
            "Early stopping, best iteration is:\n",
            "[391]\tvalid_0's binary_logloss: 0.442493\n",
            "Training until validation scores don't improve for 50 rounds\n",
            "Early stopping, best iteration is:\n",
            "[385]\tvalid_0's binary_logloss: 0.387963\n",
            "Training until validation scores don't improve for 50 rounds\n",
            "Early stopping, best iteration is:\n",
            "[641]\tvalid_0's binary_logloss: 0.35702\n",
            "Training until validation scores don't improve for 50 rounds\n",
            "Early stopping, best iteration is:\n",
            "[589]\tvalid_0's binary_logloss: 0.404822\n",
            "Training until validation scores don't improve for 50 rounds\n",
            "Early stopping, best iteration is:\n",
            "[216]\tvalid_0's binary_logloss: 0.39271\n",
            "Training until validation scores don't improve for 50 rounds\n",
            "Early stopping, best iteration is:\n",
            "[334]\tvalid_0's binary_logloss: 0.351676\n",
            "Training until validation scores don't improve for 50 rounds\n",
            "Early stopping, best iteration is:\n",
            "[246]\tvalid_0's binary_logloss: 0.421285\n",
            "Training until validation scores don't improve for 50 rounds\n",
            "Early stopping, best iteration is:\n",
            "[462]\tvalid_0's binary_logloss: 0.422848\n",
            "Training until validation scores don't improve for 50 rounds\n",
            "Early stopping, best iteration is:\n",
            "[272]\tvalid_0's binary_logloss: 0.439773\n",
            "Training until validation scores don't improve for 50 rounds\n",
            "Did not meet early stopping. Best iteration is:\n",
            "[972]\tvalid_0's binary_logloss: 0.4336\n",
            "✅ Best score: 0.8511\n",
            "🎯 Best parameters: {'num_leaves': 112, 'learning_rate': 0.06319581690048087, 'feature_fraction': 0.46529576668466366, 'bagging_fraction': 0.44679177946103954, 'bagging_freq': 5, 'min_child_samples': 22, 'min_child_weight': 0.1131021665257755, 'reg_alpha': 0.6166088023399854, 'reg_lambda': 9.362676254539414, 'max_depth': 11, 'min_split_gain': 0.05642338533275948, 'subsample': 0.9587849704589444, 'colsample_bytree': 0.945234170622972}\n",
            "🚀 Training LightGBM model...\n",
            "📊 Device: gpu\n",
            "🔢 Features: 13\n",
            "📈 Samples: 242\n",
            "Training until validation scores don't improve for 50 rounds\n",
            "Early stopping, best iteration is:\n",
            "[120]\tvalid_0's l2: 0.0769237\n",
            "✅ Training completed. Best iteration: 120\n",
            "\n",
            "📊 Validation Set Evaluation Results:\n",
            "==================================================\n",
            "Accuracy:  0.9667\n",
            "Precision: 0.9333\n",
            "Recall:    1.0000\n",
            "F1-Score:  0.9655\n",
            "AUC-ROC:   0.9866\n",
            "Log Loss:  0.2643\n",
            "\n",
            "📋 Classification Report:\n",
            "              precision    recall  f1-score   support\n",
            "\n",
            "           0       1.00      0.94      0.97        16\n",
            "           1       0.93      1.00      0.97        14\n",
            "\n",
            "    accuracy                           0.97        30\n",
            "   macro avg       0.97      0.97      0.97        30\n",
            "weighted avg       0.97      0.97      0.97        30\n",
            "\n",
            "\n",
            "🔢 Confusion Matrix:\n",
            "[[15  1]\n",
            " [ 0 14]]\n",
            "\n",
            "📊 Test Set Evaluation Results:\n",
            "==================================================\n",
            "Accuracy:  0.8387\n",
            "Precision: 0.8000\n",
            "Recall:    0.8571\n",
            "F1-Score:  0.8276\n",
            "AUC-ROC:   0.9202\n",
            "Log Loss:  0.3556\n",
            "\n",
            "📋 Classification Report:\n",
            "              precision    recall  f1-score   support\n",
            "\n",
            "           0       0.88      0.82      0.85        17\n",
            "           1       0.80      0.86      0.83        14\n",
            "\n",
            "    accuracy                           0.84        31\n",
            "   macro avg       0.84      0.84      0.84        31\n",
            "weighted avg       0.84      0.84      0.84        31\n",
            "\n",
            "\n",
            "🔢 Confusion Matrix:\n",
            "[[14  3]\n",
            " [ 2 12]]\n"
          ]
        },
        {
          "data": {
            "image/png": "[encoded data removed]",
            "text/plain": [
              "<Figure size 1000x800 with 1 Axes>"
            ]
          },
          "metadata": {},
          "output_type": "display_data"
        },
        {
          "name": "stdout",
          "output_type": "stream",
          "text": [
            "✅ SHAP explainer setup completed\n"
          ]
        },
        {
          "data": {
            "image/png": "[encoded data removed]",
            "text/plain": [
              "<Figure size 800x670 with 2 Axes>"
            ]
          },
          "metadata": {},
          "output_type": "display_data"
        }
      ],
      "source": [
        "# Initialize LightGBM model for FE dataset\n",
        "lgb_fe_model = AdvancedLightGBM(use_gpu=GPU_AVAILABLE, random_state=SEED)\n",
        "\n",
        "# Optimize hyperparameters\n",
        "print(\"🔧 Optimizing hyperparameters for Feature Engineering Dataset...\")\n",
        "\n",
        "# --- Robust workaround for ValueError: The entry associated with the validation name \"valid_0\" and the metric name \"valid_0\" is not found...\n",
        "# Explicitly set metric to \"binary_logloss\" and ensure all relevant methods pass this metric\n",
        "\n",
        "try:\n",
        "    study_fe = lgb_fe_model.optimize_hyperparameters(\n",
        "        X_fe_train, y_fe_train, X_fe_val, y_fe_val, \n",
        "        n_trials=50,\n",
        "        cv_folds=5,\n",
        "        timeout=1800\n",
        "    )\n",
        "except ValueError as e:\n",
        "    print(\"⚠️ Optuna hyperparameter search failed due to metric mismatch. Retrying with explicit metric...\")\n",
        "    # Try again with a more explicit metric setting if available in your implementation\n",
        "    study_fe = lgb_fe_model.optimize_hyperparameters(\n",
        "        X_fe_train, y_fe_train, X_fe_val, y_fe_val, \n",
        "        n_trials=50,\n",
        "        cv_folds=3,\n",
        "        timeout=1800,\n",
        "        metric=\"binary_logloss\"\n",
        "    )\n",
        "\n",
        "# Train model with the best found parameters\n",
        "lgb_fe_model.train_model(\n",
        "    X_fe_train, y_fe_train, X_fe_val, y_fe_val,\n",
        ")\n",
        "\n",
        "# Evaluate\n",
        "val_fe_results = lgb_fe_model.evaluate_comprehensive(X_fe_val, y_fe_val, \"Validation\")\n",
        "test_fe_results = lgb_fe_model.evaluate_comprehensive(X_fe_test, y_fe_test, \"Test\")\n",
        "\n",
        "# Feature importance\n",
        "lgb_fe_model.plot_feature_importance(top_n=15)\n",
        "\n",
        "# SHAP analysis\n",
        "lgb_fe_model.setup_shap_explainer(X_fe_train, X_fe_val)\n",
        "lgb_fe_model.plot_shap_summary(X_fe_val, max_display=15)\n"
      ]
    },
    {
      "cell_type": "markdown",
      "metadata": {},
      "source": [
        "### 3.3 LightGBM on Original + DT Dataset\n",
        "\n",
        "#### 🌳 Thí nghiệm trên Original + Decision Tree Features Dataset\n",
        "**Mục tiêu**: Đánh giá tác động của Decision Tree features lên performance\n",
        "\n",
        "**Decision Tree Features**:\n",
        "- **Tree-based Feature Selection**: Chọn features quan trọng từ Decision Tree\n",
        "- **Non-linear Transformations**: Capture non-linear relationships\n",
        "- **Feature Interactions**: Tự động phát hiện interactions quan trọng\n",
        "- **Reduced Dimensionality**: Giảm số features nhưng giữ thông tin quan trọng\n",
        "\n",
        "**Kỳ vọng**: Performance có thể tốt hơn do có features được chọn lọc kỹ lưỡng\n"
      ]
    },
    {
      "cell_type": "code",
      "execution_count": null,
      "metadata": {},
      "outputs": [
        {
          "name": "stdout",
          "output_type": "stream",
          "text": [
            "🔧 Optimizing hyperparameters for Original + DT Dataset...\n",
            "🔍 Starting hyperparameter optimization with 50 trials...\n",
            "⏱️ Timeout: 1800 seconds\n",
            "Training until validation scores don't improve for 50 rounds\n",
            "Early stopping, best iteration is:\n",
            "[35]\tvalid_0's binary_logloss: 0.51155\n",
            "Training until validation scores don't improve for 50 rounds\n",
            "Early stopping, best iteration is:\n",
            "[25]\tvalid_0's binary_logloss: 0.514743\n",
            "Training until validation scores don't improve for 50 rounds\n",
            "Early stopping, best iteration is:\n",
            "[40]\tvalid_0's binary_logloss: 0.530062\n",
            "Training until validation scores don't improve for 50 rounds\n",
            "Early stopping, best iteration is:\n",
            "[549]\tvalid_0's binary_logloss: 0.526612\n",
            "Training until validation scores don't improve for 50 rounds\n",
            "Early stopping, best iteration is:\n",
            "[258]\tvalid_0's binary_logloss: 0.558717\n",
            "Training until validation scores don't improve for 50 rounds\n",
            "Early stopping, best iteration is:\n",
            "[43]\tvalid_0's binary_logloss: 0.661968\n",
            "Training until validation scores don't improve for 50 rounds\n",
            "Early stopping, best iteration is:\n",
            "[61]\tvalid_0's binary_logloss: 0.645506\n",
            "Training until validation scores don't improve for 50 rounds\n",
            "Early stopping, best iteration is:\n",
            "[25]\tvalid_0's binary_logloss: 0.67066\n",
            "Training until validation scores don't improve for 50 rounds\n",
            "Early stopping, best iteration is:\n",
            "[20]\tvalid_0's binary_logloss: 0.678254\n",
            "Training until validation scores don't improve for 50 rounds\n",
            "Early stopping, best iteration is:\n",
            "[221]\tvalid_0's binary_logloss: 0.528795\n",
            "Training until validation scores don't improve for 50 rounds\n",
            "Early stopping, best iteration is:\n",
            "[585]\tvalid_0's binary_logloss: 0.444474\n",
            "Training until validation scores don't improve for 50 rounds\n",
            "Early stopping, best iteration is:\n",
            "[263]\tvalid_0's binary_logloss: 0.528106\n",
            "Training until validation scores don't improve for 50 rounds\n",
            "Early stopping, best iteration is:\n",
            "[52]\tvalid_0's binary_logloss: 0.438314\n",
            "Training until validation scores don't improve for 50 rounds\n",
            "Early stopping, best iteration is:\n",
            "[67]\tvalid_0's binary_logloss: 0.403025\n",
            "Training until validation scores don't improve for 50 rounds\n",
            "Early stopping, best iteration is:\n",
            "[109]\tvalid_0's binary_logloss: 0.448496\n",
            "Training until validation scores don't improve for 50 rounds\n",
            "Early stopping, best iteration is:\n",
            "[1]\tvalid_0's binary_logloss: 0.689425\n",
            "Training until validation scores don't improve for 50 rounds\n",
            "Early stopping, best iteration is:\n",
            "[1]\tvalid_0's binary_logloss: 0.689425\n",
            "Training until validation scores don't improve for 50 rounds\n",
            "Early stopping, best iteration is:\n",
            "[1]\tvalid_0's binary_logloss: 0.690398\n",
            "Training until validation scores don't improve for 50 rounds\n",
            "Early stopping, best iteration is:\n",
            "[270]\tvalid_0's binary_logloss: 0.470575\n",
            "Training until validation scores don't improve for 50 rounds\n",
            "Early stopping, best iteration is:\n",
            "[527]\tvalid_0's binary_logloss: 0.419251\n",
            "Training until validation scores don't improve for 50 rounds\n",
            "Early stopping, best iteration is:\n",
            "[297]\tvalid_0's binary_logloss: 0.475339\n",
            "Training until validation scores don't improve for 50 rounds\n",
            "Early stopping, best iteration is:\n",
            "[51]\tvalid_0's binary_logloss: 0.419577\n",
            "Training until validation scores don't improve for 50 rounds\n",
            "Early stopping, best iteration is:\n",
            "[50]\tvalid_0's binary_logloss: 0.424157\n",
            "Training until validation scores don't improve for 50 rounds\n",
            "Early stopping, best iteration is:\n",
            "[53]\tvalid_0's binary_logloss: 0.430128\n",
            "Training until validation scores don't improve for 50 rounds\n",
            "Early stopping, best iteration is:\n",
            "[659]\tvalid_0's binary_logloss: 0.410286\n",
            "Training until validation scores don't improve for 50 rounds\n",
            "Early stopping, best iteration is:\n",
            "[408]\tvalid_0's binary_logloss: 0.392051\n",
            "Training until validation scores don't improve for 50 rounds\n",
            "Early stopping, best iteration is:\n",
            "[324]\tvalid_0's binary_logloss: 0.436443\n",
            "Training until validation scores don't improve for 50 rounds\n",
            "Early stopping, best iteration is:\n",
            "[24]\tvalid_0's binary_logloss: 0.44246\n",
            "Training until validation scores don't improve for 50 rounds\n",
            "Early stopping, best iteration is:\n",
            "[24]\tvalid_0's binary_logloss: 0.417429\n",
            "Training until validation scores don't improve for 50 rounds\n",
            "Early stopping, best iteration is:\n",
            "[27]\tvalid_0's binary_logloss: 0.451293\n",
            "Training until validation scores don't improve for 50 rounds\n",
            "Early stopping, best iteration is:\n",
            "[1]\tvalid_0's binary_logloss: 0.689425\n",
            "Training until validation scores don't improve for 50 rounds\n",
            "Early stopping, best iteration is:\n",
            "[1]\tvalid_0's binary_logloss: 0.689425\n",
            "Training until validation scores don't improve for 50 rounds\n",
            "Early stopping, best iteration is:\n",
            "[1]\tvalid_0's binary_logloss: 0.690398\n",
            "Training until validation scores don't improve for 50 rounds\n",
            "Early stopping, best iteration is:\n",
            "[112]\tvalid_0's binary_logloss: 0.428718\n",
            "Training until validation scores don't improve for 50 rounds\n",
            "Early stopping, best iteration is:\n",
            "[106]\tvalid_0's binary_logloss: 0.394038\n",
            "Training until validation scores don't improve for 50 rounds\n",
            "Early stopping, best iteration is:\n",
            "[111]\tvalid_0's binary_logloss: 0.439503\n",
            "Training until validation scores don't improve for 50 rounds\n",
            "Early stopping, best iteration is:\n",
            "[107]\tvalid_0's binary_logloss: 0.431024\n",
            "Training until validation scores don't improve for 50 rounds\n",
            "Early stopping, best iteration is:\n",
            "[104]\tvalid_0's binary_logloss: 0.446961\n",
            "Training until validation scores don't improve for 50 rounds\n",
            "Early stopping, best iteration is:\n",
            "[127]\tvalid_0's binary_logloss: 0.442288\n",
            "Training until validation scores don't improve for 50 rounds\n",
            "Early stopping, best iteration is:\n",
            "[59]\tvalid_0's binary_logloss: 0.503051\n",
            "Training until validation scores don't improve for 50 rounds\n",
            "Early stopping, best iteration is:\n",
            "[59]\tvalid_0's binary_logloss: 0.494348\n",
            "Training until validation scores don't improve for 50 rounds\n",
            "Early stopping, best iteration is:\n",
            "[77]\tvalid_0's binary_logloss: 0.485941\n",
            "Training until validation scores don't improve for 50 rounds\n",
            "Early stopping, best iteration is:\n",
            "[59]\tvalid_0's binary_logloss: 0.446799\n",
            "Training until validation scores don't improve for 50 rounds\n",
            "Early stopping, best iteration is:\n",
            "[58]\tvalid_0's binary_logloss: 0.440236\n",
            "Training until validation scores don't improve for 50 rounds\n",
            "Early stopping, best iteration is:\n",
            "[64]\tvalid_0's binary_logloss: 0.481147\n",
            "Training until validation scores don't improve for 50 rounds\n",
            "Early stopping, best iteration is:\n",
            "[165]\tvalid_0's binary_logloss: 0.470061\n",
            "Training until validation scores don't improve for 50 rounds\n",
            "Early stopping, best iteration is:\n",
            "[194]\tvalid_0's binary_logloss: 0.440246\n",
            "Training until validation scores don't improve for 50 rounds\n",
            "Early stopping, best iteration is:\n",
            "[172]\tvalid_0's binary_logloss: 0.481097\n",
            "Training until validation scores don't improve for 50 rounds\n",
            "Early stopping, best iteration is:\n",
            "[144]\tvalid_0's binary_logloss: 0.657391\n",
            "Training until validation scores don't improve for 50 rounds\n",
            "Early stopping, best iteration is:\n",
            "[100]\tvalid_0's binary_logloss: 0.591523\n",
            "Training until validation scores don't improve for 50 rounds\n",
            "Early stopping, best iteration is:\n",
            "[356]\tvalid_0's binary_logloss: 0.553299\n",
            "Training until validation scores don't improve for 50 rounds\n",
            "Early stopping, best iteration is:\n",
            "[1]\tvalid_0's binary_logloss: 0.689425\n",
            "Training until validation scores don't improve for 50 rounds\n",
            "Early stopping, best iteration is:\n",
            "[1]\tvalid_0's binary_logloss: 0.689425\n",
            "Training until validation scores don't improve for 50 rounds\n",
            "Early stopping, best iteration is:\n",
            "[1]\tvalid_0's binary_logloss: 0.690398\n",
            "Training until validation scores don't improve for 50 rounds\n",
            "Early stopping, best iteration is:\n",
            "[339]\tvalid_0's binary_logloss: 0.498055\n",
            "Training until validation scores don't improve for 50 rounds\n",
            "Early stopping, best iteration is:\n",
            "[90]\tvalid_0's binary_logloss: 0.582796\n",
            "Training until validation scores don't improve for 50 rounds\n",
            "Early stopping, best iteration is:\n",
            "[868]\tvalid_0's binary_logloss: 0.453011\n",
            "Training until validation scores don't improve for 50 rounds\n",
            "Early stopping, best iteration is:\n",
            "[1]\tvalid_0's binary_logloss: 0.689425\n",
            "Training until validation scores don't improve for 50 rounds\n",
            "Early stopping, best iteration is:\n",
            "[1]\tvalid_0's binary_logloss: 0.689425\n",
            "Training until validation scores don't improve for 50 rounds\n",
            "Early stopping, best iteration is:\n",
            "[1]\tvalid_0's binary_logloss: 0.690398\n",
            "Training until validation scores don't improve for 50 rounds\n",
            "Early stopping, best iteration is:\n",
            "[1]\tvalid_0's binary_logloss: 0.689425\n",
            "Training until validation scores don't improve for 50 rounds\n",
            "Early stopping, best iteration is:\n",
            "[1]\tvalid_0's binary_logloss: 0.689425\n",
            "Training until validation scores don't improve for 50 rounds\n",
            "Early stopping, best iteration is:\n",
            "[1]\tvalid_0's binary_logloss: 0.690398\n",
            "Training until validation scores don't improve for 50 rounds\n",
            "Early stopping, best iteration is:\n",
            "[122]\tvalid_0's binary_logloss: 0.412429\n",
            "Training until validation scores don't improve for 50 rounds\n",
            "Early stopping, best iteration is:\n",
            "[132]\tvalid_0's binary_logloss: 0.383285\n",
            "Training until validation scores don't improve for 50 rounds\n",
            "Early stopping, best iteration is:\n",
            "[136]\tvalid_0's binary_logloss: 0.430082\n",
            "Training until validation scores don't improve for 50 rounds\n",
            "Early stopping, best iteration is:\n",
            "[175]\tvalid_0's binary_logloss: 0.404726\n",
            "Training until validation scores don't improve for 50 rounds\n",
            "Early stopping, best iteration is:\n",
            "[155]\tvalid_0's binary_logloss: 0.375424\n",
            "Training until validation scores don't improve for 50 rounds\n",
            "Early stopping, best iteration is:\n",
            "[184]\tvalid_0's binary_logloss: 0.417786\n",
            "Training until validation scores don't improve for 50 rounds\n",
            "Early stopping, best iteration is:\n",
            "[189]\tvalid_0's binary_logloss: 0.44842\n",
            "Training until validation scores don't improve for 50 rounds\n",
            "Early stopping, best iteration is:\n",
            "[243]\tvalid_0's binary_logloss: 0.454555\n",
            "Training until validation scores don't improve for 50 rounds\n",
            "Early stopping, best iteration is:\n",
            "[251]\tvalid_0's binary_logloss: 0.457899\n",
            "Training until validation scores don't improve for 50 rounds\n",
            "Early stopping, best iteration is:\n",
            "[277]\tvalid_0's binary_logloss: 0.490683\n",
            "Training until validation scores don't improve for 50 rounds\n",
            "Early stopping, best iteration is:\n",
            "[176]\tvalid_0's binary_logloss: 0.542929\n",
            "Training until validation scores don't improve for 50 rounds\n",
            "Early stopping, best iteration is:\n",
            "[378]\tvalid_0's binary_logloss: 0.526971\n",
            "Training until validation scores don't improve for 50 rounds\n",
            "Early stopping, best iteration is:\n",
            "[165]\tvalid_0's binary_logloss: 0.504658\n",
            "Training until validation scores don't improve for 50 rounds\n",
            "Early stopping, best iteration is:\n",
            "[246]\tvalid_0's binary_logloss: 0.479563\n",
            "Training until validation scores don't improve for 50 rounds\n",
            "Early stopping, best iteration is:\n",
            "[278]\tvalid_0's binary_logloss: 0.510394\n",
            "Training until validation scores don't improve for 50 rounds\n",
            "Early stopping, best iteration is:\n",
            "[93]\tvalid_0's binary_logloss: 0.427986\n",
            "Training until validation scores don't improve for 50 rounds\n",
            "Early stopping, best iteration is:\n",
            "[48]\tvalid_0's binary_logloss: 0.442096\n",
            "Training until validation scores don't improve for 50 rounds\n",
            "Early stopping, best iteration is:\n",
            "[83]\tvalid_0's binary_logloss: 0.442321\n",
            "Training until validation scores don't improve for 50 rounds\n",
            "Early stopping, best iteration is:\n",
            "[1]\tvalid_0's binary_logloss: 0.689425\n",
            "Training until validation scores don't improve for 50 rounds\n",
            "Early stopping, best iteration is:\n",
            "[1]\tvalid_0's binary_logloss: 0.689425\n",
            "Training until validation scores don't improve for 50 rounds\n",
            "Early stopping, best iteration is:\n",
            "[1]\tvalid_0's binary_logloss: 0.690398\n",
            "Training until validation scores don't improve for 50 rounds\n",
            "Early stopping, best iteration is:\n",
            "[437]\tvalid_0's binary_logloss: 0.488506\n",
            "Training until validation scores don't improve for 50 rounds\n",
            "Early stopping, best iteration is:\n",
            "[343]\tvalid_0's binary_logloss: 0.47602\n",
            "Training until validation scores don't improve for 50 rounds\n",
            "Early stopping, best iteration is:\n",
            "[588]\tvalid_0's binary_logloss: 0.49268\n",
            "Training until validation scores don't improve for 50 rounds\n",
            "Early stopping, best iteration is:\n",
            "[466]\tvalid_0's binary_logloss: 0.491828\n",
            "Training until validation scores don't improve for 50 rounds\n",
            "Early stopping, best iteration is:\n",
            "[461]\tvalid_0's binary_logloss: 0.489401\n",
            "Training until validation scores don't improve for 50 rounds\n",
            "Early stopping, best iteration is:\n",
            "[583]\tvalid_0's binary_logloss: 0.508759\n",
            "Training until validation scores don't improve for 50 rounds\n",
            "Early stopping, best iteration is:\n",
            "[489]\tvalid_0's binary_logloss: 0.471791\n",
            "Training until validation scores don't improve for 50 rounds\n",
            "Early stopping, best iteration is:\n",
            "[537]\tvalid_0's binary_logloss: 0.45139\n",
            "Training until validation scores don't improve for 50 rounds\n",
            "Early stopping, best iteration is:\n",
            "[497]\tvalid_0's binary_logloss: 0.488511\n",
            "Training until validation scores don't improve for 50 rounds\n",
            "Early stopping, best iteration is:\n",
            "[73]\tvalid_0's binary_logloss: 0.519229\n",
            "Training until validation scores don't improve for 50 rounds\n",
            "Early stopping, best iteration is:\n",
            "[51]\tvalid_0's binary_logloss: 0.497537\n",
            "Training until validation scores don't improve for 50 rounds\n",
            "Early stopping, best iteration is:\n",
            "[89]\tvalid_0's binary_logloss: 0.512368\n",
            "Training until validation scores don't improve for 50 rounds\n",
            "Early stopping, best iteration is:\n",
            "[35]\tvalid_0's binary_logloss: 0.529441\n",
            "Training until validation scores don't improve for 50 rounds\n",
            "Early stopping, best iteration is:\n",
            "[41]\tvalid_0's binary_logloss: 0.503427\n",
            "Training until validation scores don't improve for 50 rounds\n",
            "Early stopping, best iteration is:\n",
            "[40]\tvalid_0's binary_logloss: 0.526963\n",
            "Training until validation scores don't improve for 50 rounds\n",
            "Early stopping, best iteration is:\n",
            "[54]\tvalid_0's binary_logloss: 0.490374\n",
            "Training until validation scores don't improve for 50 rounds\n",
            "Early stopping, best iteration is:\n",
            "[49]\tvalid_0's binary_logloss: 0.479464\n",
            "Training until validation scores don't improve for 50 rounds\n",
            "Early stopping, best iteration is:\n",
            "[53]\tvalid_0's binary_logloss: 0.503503\n",
            "Training until validation scores don't improve for 50 rounds\n",
            "Early stopping, best iteration is:\n",
            "[23]\tvalid_0's binary_logloss: 0.66664\n",
            "Training until validation scores don't improve for 50 rounds\n",
            "Early stopping, best iteration is:\n",
            "[91]\tvalid_0's binary_logloss: 0.563364\n",
            "Training until validation scores don't improve for 50 rounds\n",
            "Early stopping, best iteration is:\n",
            "[31]\tvalid_0's binary_logloss: 0.631357\n",
            "Training until validation scores don't improve for 50 rounds\n",
            "Early stopping, best iteration is:\n",
            "[305]\tvalid_0's binary_logloss: 0.497152\n",
            "Training until validation scores don't improve for 50 rounds\n",
            "Early stopping, best iteration is:\n",
            "[319]\tvalid_0's binary_logloss: 0.487852\n",
            "Training until validation scores don't improve for 50 rounds\n",
            "Early stopping, best iteration is:\n",
            "[620]\tvalid_0's binary_logloss: 0.500875\n",
            "Training until validation scores don't improve for 50 rounds\n",
            "Early stopping, best iteration is:\n",
            "[143]\tvalid_0's binary_logloss: 0.584775\n",
            "Training until validation scores don't improve for 50 rounds\n",
            "Early stopping, best iteration is:\n",
            "[179]\tvalid_0's binary_logloss: 0.571612\n",
            "Training until validation scores don't improve for 50 rounds\n",
            "Early stopping, best iteration is:\n",
            "[168]\tvalid_0's binary_logloss: 0.583208\n",
            "Training until validation scores don't improve for 50 rounds\n",
            "Early stopping, best iteration is:\n",
            "[69]\tvalid_0's binary_logloss: 0.483993\n",
            "Training until validation scores don't improve for 50 rounds\n",
            "Early stopping, best iteration is:\n",
            "[62]\tvalid_0's binary_logloss: 0.468741\n",
            "Training until validation scores don't improve for 50 rounds\n",
            "Early stopping, best iteration is:\n",
            "[120]\tvalid_0's binary_logloss: 0.474389\n",
            "Training until validation scores don't improve for 50 rounds\n",
            "Did not meet early stopping. Best iteration is:\n",
            "[952]\tvalid_0's binary_logloss: 0.396853\n",
            "Training until validation scores don't improve for 50 rounds\n",
            "Did not meet early stopping. Best iteration is:\n",
            "[980]\tvalid_0's binary_logloss: 0.363389\n",
            "Training until validation scores don't improve for 50 rounds\n",
            "Did not meet early stopping. Best iteration is:\n",
            "[1000]\tvalid_0's binary_logloss: 0.41586\n",
            "Training until validation scores don't improve for 50 rounds\n",
            "Early stopping, best iteration is:\n",
            "[865]\tvalid_0's binary_logloss: 0.399919\n",
            "Training until validation scores don't improve for 50 rounds\n",
            "Early stopping, best iteration is:\n",
            "[648]\tvalid_0's binary_logloss: 0.391033\n",
            "Training until validation scores don't improve for 50 rounds\n",
            "Did not meet early stopping. Best iteration is:\n",
            "[1000]\tvalid_0's binary_logloss: 0.41171\n",
            "Training until validation scores don't improve for 50 rounds\n",
            "Early stopping, best iteration is:\n",
            "[1]\tvalid_0's binary_logloss: 0.689425\n",
            "Training until validation scores don't improve for 50 rounds\n",
            "Early stopping, best iteration is:\n",
            "[1]\tvalid_0's binary_logloss: 0.689425\n",
            "Training until validation scores don't improve for 50 rounds\n",
            "Early stopping, best iteration is:\n",
            "[1]\tvalid_0's binary_logloss: 0.690398\n",
            "Training until validation scores don't improve for 50 rounds\n",
            "Did not meet early stopping. Best iteration is:\n",
            "[996]\tvalid_0's binary_logloss: 0.412563\n",
            "Training until validation scores don't improve for 50 rounds\n",
            "Did not meet early stopping. Best iteration is:\n",
            "[998]\tvalid_0's binary_logloss: 0.378032\n",
            "Training until validation scores don't improve for 50 rounds\n",
            "Did not meet early stopping. Best iteration is:\n",
            "[994]\tvalid_0's binary_logloss: 0.431473\n",
            "Training until validation scores don't improve for 50 rounds\n",
            "Early stopping, best iteration is:\n",
            "[625]\tvalid_0's binary_logloss: 0.402563\n",
            "Training until validation scores don't improve for 50 rounds\n",
            "Early stopping, best iteration is:\n",
            "[617]\tvalid_0's binary_logloss: 0.359006\n",
            "Training until validation scores don't improve for 50 rounds\n",
            "Early stopping, best iteration is:\n",
            "[761]\tvalid_0's binary_logloss: 0.408263\n",
            "Training until validation scores don't improve for 50 rounds\n",
            "Early stopping, best iteration is:\n",
            "[178]\tvalid_0's binary_logloss: 0.567363\n",
            "Training until validation scores don't improve for 50 rounds\n",
            "Early stopping, best iteration is:\n",
            "[177]\tvalid_0's binary_logloss: 0.587986\n",
            "Training until validation scores don't improve for 50 rounds\n",
            "Early stopping, best iteration is:\n",
            "[181]\tvalid_0's binary_logloss: 0.594267\n",
            "Training until validation scores don't improve for 50 rounds\n",
            "Early stopping, best iteration is:\n",
            "[80]\tvalid_0's binary_logloss: 0.397002\n",
            "Training until validation scores don't improve for 50 rounds\n",
            "Early stopping, best iteration is:\n",
            "[118]\tvalid_0's binary_logloss: 0.365282\n",
            "Training until validation scores don't improve for 50 rounds\n",
            "Early stopping, best iteration is:\n",
            "[133]\tvalid_0's binary_logloss: 0.408098\n",
            "Training until validation scores don't improve for 50 rounds\n",
            "Early stopping, best iteration is:\n",
            "[86]\tvalid_0's binary_logloss: 0.490586\n",
            "Training until validation scores don't improve for 50 rounds\n",
            "Early stopping, best iteration is:\n",
            "[79]\tvalid_0's binary_logloss: 0.505975\n",
            "Training until validation scores don't improve for 50 rounds\n",
            "Early stopping, best iteration is:\n",
            "[85]\tvalid_0's binary_logloss: 0.50461\n",
            "Training until validation scores don't improve for 50 rounds\n",
            "Early stopping, best iteration is:\n",
            "[371]\tvalid_0's binary_logloss: 0.457487\n",
            "Training until validation scores don't improve for 50 rounds\n",
            "Early stopping, best iteration is:\n",
            "[823]\tvalid_0's binary_logloss: 0.391594\n",
            "Training until validation scores don't improve for 50 rounds\n",
            "Early stopping, best iteration is:\n",
            "[435]\tvalid_0's binary_logloss: 0.461048\n",
            "Training until validation scores don't improve for 50 rounds\n",
            "Early stopping, best iteration is:\n",
            "[442]\tvalid_0's binary_logloss: 0.486012\n",
            "Training until validation scores don't improve for 50 rounds\n",
            "Early stopping, best iteration is:\n",
            "[378]\tvalid_0's binary_logloss: 0.482973\n",
            "Training until validation scores don't improve for 50 rounds\n",
            "Early stopping, best iteration is:\n",
            "[361]\tvalid_0's binary_logloss: 0.509872\n",
            "Training until validation scores don't improve for 50 rounds\n",
            "Early stopping, best iteration is:\n",
            "[714]\tvalid_0's binary_logloss: 0.503211\n",
            "Training until validation scores don't improve for 50 rounds\n",
            "Early stopping, best iteration is:\n",
            "[912]\tvalid_0's binary_logloss: 0.471057\n",
            "Training until validation scores don't improve for 50 rounds\n",
            "Early stopping, best iteration is:\n",
            "[610]\tvalid_0's binary_logloss: 0.525268\n",
            "Training until validation scores don't improve for 50 rounds\n",
            "Early stopping, best iteration is:\n",
            "[250]\tvalid_0's binary_logloss: 0.443584\n",
            "Training until validation scores don't improve for 50 rounds\n",
            "Early stopping, best iteration is:\n",
            "[192]\tvalid_0's binary_logloss: 0.428579\n",
            "Training until validation scores don't improve for 50 rounds\n",
            "Early stopping, best iteration is:\n",
            "[222]\tvalid_0's binary_logloss: 0.464576\n",
            "✅ Best score: 0.8388\n",
            "🎯 Best parameters: {'num_leaves': 184, 'learning_rate': 0.011732219479527854, 'feature_fraction': 0.4844267057566141, 'bagging_fraction': 0.9820437370948165, 'bagging_freq': 4, 'min_child_samples': 54, 'min_child_weight': 0.14959887305396852, 'reg_alpha': 5.799493370548783, 'reg_lambda': 2.6246961928632553, 'max_depth': 15, 'min_split_gain': 0.9910082623246604, 'subsample': 0.9429458240152886, 'colsample_bytree': 0.9922237617275279}\n",
            "🚀 Training LightGBM model...\n",
            "📊 Device: gpu\n",
            "🔢 Features: 10\n",
            "📈 Samples: 242\n",
            "Training until validation scores don't improve for 50 rounds\n",
            "Early stopping, best iteration is:\n",
            "[191]\tvalid_0's l2: 0.122946\n",
            "✅ Training completed. Best iteration: 191\n",
            "\n",
            "📊 Validation Set Evaluation Results:\n",
            "==================================================\n",
            "Accuracy:  0.9333\n",
            "Precision: 0.9286\n",
            "Recall:    0.9286\n",
            "F1-Score:  0.9286\n",
            "AUC-ROC:   0.9688\n",
            "Log Loss:  0.4199\n",
            "\n",
            "📋 Classification Report:\n",
            "              precision    recall  f1-score   support\n",
            "\n",
            "           0       0.94      0.94      0.94        16\n",
            "           1       0.93      0.93      0.93        14\n",
            "\n",
            "    accuracy                           0.93        30\n",
            "   macro avg       0.93      0.93      0.93        30\n",
            "weighted avg       0.93      0.93      0.93        30\n",
            "\n",
            "\n",
            "🔢 Confusion Matrix:\n",
            "[[15  1]\n",
            " [ 1 13]]\n",
            "\n",
            "📊 Test Set Evaluation Results:\n",
            "==================================================\n",
            "Accuracy:  0.8065\n",
            "Precision: 0.7857\n",
            "Recall:    0.7857\n",
            "F1-Score:  0.7857\n",
            "AUC-ROC:   0.8676\n",
            "Log Loss:  0.5145\n",
            "\n",
            "📋 Classification Report:\n",
            "              precision    recall  f1-score   support\n",
            "\n",
            "           0       0.82      0.82      0.82        17\n",
            "           1       0.79      0.79      0.79        14\n",
            "\n",
            "    accuracy                           0.81        31\n",
            "   macro avg       0.80      0.80      0.80        31\n",
            "weighted avg       0.81      0.81      0.81        31\n",
            "\n",
            "\n",
            "🔢 Confusion Matrix:\n",
            "[[14  3]\n",
            " [ 3 11]]\n"
          ]
        },
        {
          "data": {
            "image/png": "[encoded data removed]",
            "text/plain": [
              "<Figure size 1000x800 with 1 Axes>"
            ]
          },
          "metadata": {},
          "output_type": "display_data"
        },
        {
          "name": "stdout",
          "output_type": "stream",
          "text": [
            "✅ SHAP explainer setup completed\n"
          ]
        },
        {
          "data": {
            "image/png": "[encoded data removed]",
            "text/plain": [
              "<Figure size 800x550 with 2 Axes>"
            ]
          },
          "metadata": {},
          "output_type": "display_data"
        }
      ],
      "source": [
        "# Initialize LightGBM model for DT dataset\n",
        "lgb_dt_model = AdvancedLightGBM(use_gpu=GPU_AVAILABLE, random_state=SEED)\n",
        "\n",
        "# Optimize hyperparameters\n",
        "print(\"🔧 Optimizing hyperparameters for Original + DT Dataset...\")\n",
        "study_dt = lgb_dt_model.optimize_hyperparameters(\n",
        "    X_dt_train, y_dt_train, X_dt_val, y_dt_val, \n",
        "    n_trials=50,\n",
        "    cv_folds=3,\n",
        "    timeout=1800\n",
        ")\n",
        "\n",
        "# Train model\n",
        "lgb_dt_model.train_model(X_dt_train, y_dt_train, X_dt_val, y_dt_val)\n",
        "\n",
        "# Evaluate\n",
        "val_dt_results = lgb_dt_model.evaluate_comprehensive(X_dt_val, y_dt_val, \"Validation\")\n",
        "test_dt_results = lgb_dt_model.evaluate_comprehensive(X_dt_test, y_dt_test, \"Test\")\n",
        "\n",
        "# Feature importance\n",
        "lgb_dt_model.plot_feature_importance(top_n=15)\n",
        "\n",
        "# SHAP analysis\n",
        "lgb_dt_model.setup_shap_explainer(X_dt_train, X_dt_val)\n",
        "lgb_dt_model.plot_shap_summary(X_dt_val, max_display=15)\n"
      ]
    },
    {
      "cell_type": "markdown",
      "metadata": {},
      "source": [
        "### 3.4 LightGBM on Feature Engineering + DT Dataset\n",
        "\n",
        "#### 🚀 Thí nghiệm trên Feature Engineering + DT Dataset\n",
        "**Mục tiêu**: Kết hợp cả feature engineering và DT features để đạt performance tối đa\n",
        "\n",
        "**Combined Approach**:\n",
        "- **Best of Both Worlds**: Kết hợp engineered features và tree-selected features\n",
        "- **Comprehensive Feature Set**: Đầy đủ thông tin từ nhiều nguồn\n",
        "- **Optimal Feature Space**: Có thể đạt performance cao nhất\n",
        "\n",
        "**Kỳ vọng**: Performance tốt nhất do có đầy đủ thông tin và features được tối ưu\n"
      ]
    },
    {
      "cell_type": "code",
      "execution_count": null,
      "metadata": {},
      "outputs": [
        {
          "name": "stdout",
          "output_type": "stream",
          "text": [
            "🔧 Optimizing hyperparameters for Feature Engineering + DT Dataset...\n",
            "🔍 Starting hyperparameter optimization with 50 trials...\n",
            "⏱️ Timeout: 1800 seconds\n",
            "Training until validation scores don't improve for 50 rounds\n",
            "Early stopping, best iteration is:\n",
            "[13]\tvalid_0's binary_logloss: 0.554702\n",
            "Training until validation scores don't improve for 50 rounds\n",
            "Early stopping, best iteration is:\n",
            "[192]\tvalid_0's binary_logloss: 0.456194\n",
            "Training until validation scores don't improve for 50 rounds\n",
            "Early stopping, best iteration is:\n",
            "[112]\tvalid_0's binary_logloss: 0.502988\n",
            "Training until validation scores don't improve for 50 rounds\n",
            "Early stopping, best iteration is:\n",
            "[254]\tvalid_0's binary_logloss: 0.55671\n",
            "Training until validation scores don't improve for 50 rounds\n",
            "Early stopping, best iteration is:\n",
            "[294]\tvalid_0's binary_logloss: 0.532738\n",
            "Training until validation scores don't improve for 50 rounds\n",
            "Early stopping, best iteration is:\n",
            "[881]\tvalid_0's binary_logloss: 0.503336\n",
            "Training until validation scores don't improve for 50 rounds\n",
            "Early stopping, best iteration is:\n",
            "[61]\tvalid_0's binary_logloss: 0.644888\n",
            "Training until validation scores don't improve for 50 rounds\n",
            "Early stopping, best iteration is:\n",
            "[25]\tvalid_0's binary_logloss: 0.67066\n",
            "Training until validation scores don't improve for 50 rounds\n",
            "Early stopping, best iteration is:\n",
            "[2]\tvalid_0's binary_logloss: 0.688232\n",
            "Training until validation scores don't improve for 50 rounds\n",
            "Early stopping, best iteration is:\n",
            "[704]\tvalid_0's binary_logloss: 0.450686\n",
            "Training until validation scores don't improve for 50 rounds\n",
            "Early stopping, best iteration is:\n",
            "[747]\tvalid_0's binary_logloss: 0.43444\n",
            "Training until validation scores don't improve for 50 rounds\n",
            "Early stopping, best iteration is:\n",
            "[539]\tvalid_0's binary_logloss: 0.489903\n",
            "Training until validation scores don't improve for 50 rounds\n",
            "Early stopping, best iteration is:\n",
            "[52]\tvalid_0's binary_logloss: 0.446416\n",
            "Training until validation scores don't improve for 50 rounds\n",
            "Early stopping, best iteration is:\n",
            "[67]\tvalid_0's binary_logloss: 0.409805\n",
            "Training until validation scores don't improve for 50 rounds\n",
            "Early stopping, best iteration is:\n",
            "[66]\tvalid_0's binary_logloss: 0.456115\n",
            "Training until validation scores don't improve for 50 rounds\n",
            "Early stopping, best iteration is:\n",
            "[1]\tvalid_0's binary_logloss: 0.689425\n",
            "Training until validation scores don't improve for 50 rounds\n",
            "Early stopping, best iteration is:\n",
            "[1]\tvalid_0's binary_logloss: 0.689425\n",
            "Training until validation scores don't improve for 50 rounds\n",
            "Early stopping, best iteration is:\n",
            "[1]\tvalid_0's binary_logloss: 0.690398\n",
            "Training until validation scores don't improve for 50 rounds\n",
            "Early stopping, best iteration is:\n",
            "[287]\tvalid_0's binary_logloss: 0.473663\n",
            "Training until validation scores don't improve for 50 rounds\n",
            "Early stopping, best iteration is:\n",
            "[316]\tvalid_0's binary_logloss: 0.446032\n",
            "Training until validation scores don't improve for 50 rounds\n",
            "Early stopping, best iteration is:\n",
            "[354]\tvalid_0's binary_logloss: 0.472883\n",
            "Training until validation scores don't improve for 50 rounds\n",
            "Early stopping, best iteration is:\n",
            "[44]\tvalid_0's binary_logloss: 0.408337\n",
            "Training until validation scores don't improve for 50 rounds\n",
            "Early stopping, best iteration is:\n",
            "[49]\tvalid_0's binary_logloss: 0.425417\n",
            "Training until validation scores don't improve for 50 rounds\n",
            "Early stopping, best iteration is:\n",
            "[50]\tvalid_0's binary_logloss: 0.439695\n",
            "Training until validation scores don't improve for 50 rounds\n",
            "Early stopping, best iteration is:\n",
            "[307]\tvalid_0's binary_logloss: 0.43292\n",
            "Training until validation scores don't improve for 50 rounds\n",
            "Early stopping, best iteration is:\n",
            "[380]\tvalid_0's binary_logloss: 0.408142\n",
            "Training until validation scores don't improve for 50 rounds\n",
            "Early stopping, best iteration is:\n",
            "[498]\tvalid_0's binary_logloss: 0.441952\n",
            "Training until validation scores don't improve for 50 rounds\n",
            "Early stopping, best iteration is:\n",
            "[25]\tvalid_0's binary_logloss: 0.439113\n",
            "Training until validation scores don't improve for 50 rounds\n",
            "Early stopping, best iteration is:\n",
            "[26]\tvalid_0's binary_logloss: 0.417186\n",
            "Training until validation scores don't improve for 50 rounds\n",
            "Early stopping, best iteration is:\n",
            "[27]\tvalid_0's binary_logloss: 0.459795\n",
            "Training until validation scores don't improve for 50 rounds\n",
            "Early stopping, best iteration is:\n",
            "[1]\tvalid_0's binary_logloss: 0.689425\n",
            "Training until validation scores don't improve for 50 rounds\n",
            "Early stopping, best iteration is:\n",
            "[1]\tvalid_0's binary_logloss: 0.689425\n",
            "Training until validation scores don't improve for 50 rounds\n",
            "Early stopping, best iteration is:\n",
            "[1]\tvalid_0's binary_logloss: 0.690398\n",
            "Training until validation scores don't improve for 50 rounds\n",
            "Early stopping, best iteration is:\n",
            "[50]\tvalid_0's binary_logloss: 0.418202\n",
            "Training until validation scores don't improve for 50 rounds\n",
            "Early stopping, best iteration is:\n",
            "[48]\tvalid_0's binary_logloss: 0.438386\n",
            "Training until validation scores don't improve for 50 rounds\n",
            "Early stopping, best iteration is:\n",
            "[52]\tvalid_0's binary_logloss: 0.447234\n",
            "Training until validation scores don't improve for 50 rounds\n",
            "Early stopping, best iteration is:\n",
            "[58]\tvalid_0's binary_logloss: 0.409241\n",
            "Training until validation scores don't improve for 50 rounds\n",
            "Early stopping, best iteration is:\n",
            "[60]\tvalid_0's binary_logloss: 0.43431\n",
            "Training until validation scores don't improve for 50 rounds\n",
            "Early stopping, best iteration is:\n",
            "[65]\tvalid_0's binary_logloss: 0.444044\n",
            "Training until validation scores don't improve for 50 rounds\n",
            "Early stopping, best iteration is:\n",
            "[82]\tvalid_0's binary_logloss: 0.41265\n",
            "Training until validation scores don't improve for 50 rounds\n",
            "Early stopping, best iteration is:\n",
            "[84]\tvalid_0's binary_logloss: 0.399239\n",
            "Training until validation scores don't improve for 50 rounds\n",
            "Early stopping, best iteration is:\n",
            "[86]\tvalid_0's binary_logloss: 0.440411\n",
            "Training until validation scores don't improve for 50 rounds\n",
            "Early stopping, best iteration is:\n",
            "[1]\tvalid_0's binary_logloss: 0.689425\n",
            "Training until validation scores don't improve for 50 rounds\n",
            "Early stopping, best iteration is:\n",
            "[1]\tvalid_0's binary_logloss: 0.689425\n",
            "Training until validation scores don't improve for 50 rounds\n",
            "Early stopping, best iteration is:\n",
            "[1]\tvalid_0's binary_logloss: 0.690398\n",
            "Training until validation scores don't improve for 50 rounds\n",
            "Early stopping, best iteration is:\n",
            "[180]\tvalid_0's binary_logloss: 0.415749\n",
            "Training until validation scores don't improve for 50 rounds\n",
            "Early stopping, best iteration is:\n",
            "[130]\tvalid_0's binary_logloss: 0.405491\n",
            "Training until validation scores don't improve for 50 rounds\n",
            "Early stopping, best iteration is:\n",
            "[126]\tvalid_0's binary_logloss: 0.447726\n",
            "Training until validation scores don't improve for 50 rounds\n",
            "Early stopping, best iteration is:\n",
            "[1]\tvalid_0's binary_logloss: 0.689425\n",
            "Training until validation scores don't improve for 50 rounds\n",
            "Early stopping, best iteration is:\n",
            "[1]\tvalid_0's binary_logloss: 0.689425\n",
            "Training until validation scores don't improve for 50 rounds\n",
            "Early stopping, best iteration is:\n",
            "[1]\tvalid_0's binary_logloss: 0.690398\n",
            "Training until validation scores don't improve for 50 rounds\n",
            "Early stopping, best iteration is:\n",
            "[71]\tvalid_0's binary_logloss: 0.413352\n",
            "Training until validation scores don't improve for 50 rounds\n",
            "Early stopping, best iteration is:\n",
            "[62]\tvalid_0's binary_logloss: 0.37913\n",
            "Training until validation scores don't improve for 50 rounds\n",
            "Early stopping, best iteration is:\n",
            "[63]\tvalid_0's binary_logloss: 0.441329\n",
            "Training until validation scores don't improve for 50 rounds\n",
            "Early stopping, best iteration is:\n",
            "[112]\tvalid_0's binary_logloss: 0.51445\n",
            "Training until validation scores don't improve for 50 rounds\n",
            "Early stopping, best iteration is:\n",
            "[138]\tvalid_0's binary_logloss: 0.501621\n",
            "Training until validation scores don't improve for 50 rounds\n",
            "Early stopping, best iteration is:\n",
            "[87]\tvalid_0's binary_logloss: 0.548678\n",
            "Training until validation scores don't improve for 50 rounds\n",
            "Early stopping, best iteration is:\n",
            "[47]\tvalid_0's binary_logloss: 0.464244\n",
            "Training until validation scores don't improve for 50 rounds\n",
            "Early stopping, best iteration is:\n",
            "[44]\tvalid_0's binary_logloss: 0.473303\n",
            "Training until validation scores don't improve for 50 rounds\n",
            "Early stopping, best iteration is:\n",
            "[66]\tvalid_0's binary_logloss: 0.468625\n",
            "Training until validation scores don't improve for 50 rounds\n",
            "Early stopping, best iteration is:\n",
            "[1]\tvalid_0's binary_logloss: 0.689425\n",
            "Training until validation scores don't improve for 50 rounds\n",
            "Early stopping, best iteration is:\n",
            "[1]\tvalid_0's binary_logloss: 0.689425\n",
            "Training until validation scores don't improve for 50 rounds\n",
            "Early stopping, best iteration is:\n",
            "[1]\tvalid_0's binary_logloss: 0.690398\n",
            "Training until validation scores don't improve for 50 rounds\n",
            "Early stopping, best iteration is:\n",
            "[123]\tvalid_0's binary_logloss: 0.42143\n",
            "Training until validation scores don't improve for 50 rounds\n",
            "Early stopping, best iteration is:\n",
            "[65]\tvalid_0's binary_logloss: 0.44455\n",
            "Training until validation scores don't improve for 50 rounds\n",
            "Early stopping, best iteration is:\n",
            "[109]\tvalid_0's binary_logloss: 0.451326\n",
            "Training until validation scores don't improve for 50 rounds\n",
            "Early stopping, best iteration is:\n",
            "[731]\tvalid_0's binary_logloss: 0.424289\n",
            "Training until validation scores don't improve for 50 rounds\n",
            "Did not meet early stopping. Best iteration is:\n",
            "[999]\tvalid_0's binary_logloss: 0.433307\n",
            "Training until validation scores don't improve for 50 rounds\n",
            "Early stopping, best iteration is:\n",
            "[796]\tvalid_0's binary_logloss: 0.458964\n",
            "Training until validation scores don't improve for 50 rounds\n",
            "Early stopping, best iteration is:\n",
            "[71]\tvalid_0's binary_logloss: 0.405976\n",
            "Training until validation scores don't improve for 50 rounds\n",
            "Early stopping, best iteration is:\n",
            "[82]\tvalid_0's binary_logloss: 0.380966\n",
            "Training until validation scores don't improve for 50 rounds\n",
            "Early stopping, best iteration is:\n",
            "[108]\tvalid_0's binary_logloss: 0.410851\n",
            "Training until validation scores don't improve for 50 rounds\n",
            "Early stopping, best iteration is:\n",
            "[326]\tvalid_0's binary_logloss: 0.42772\n",
            "Training until validation scores don't improve for 50 rounds\n",
            "Early stopping, best iteration is:\n",
            "[311]\tvalid_0's binary_logloss: 0.430881\n",
            "Training until validation scores don't improve for 50 rounds\n",
            "Early stopping, best iteration is:\n",
            "[247]\tvalid_0's binary_logloss: 0.459591\n",
            "Training until validation scores don't improve for 50 rounds\n",
            "Early stopping, best iteration is:\n",
            "[31]\tvalid_0's binary_logloss: 0.455379\n",
            "Training until validation scores don't improve for 50 rounds\n",
            "Early stopping, best iteration is:\n",
            "[33]\tvalid_0's binary_logloss: 0.439195\n",
            "Training until validation scores don't improve for 50 rounds\n",
            "Early stopping, best iteration is:\n",
            "[48]\tvalid_0's binary_logloss: 0.484049\n",
            "Training until validation scores don't improve for 50 rounds\n",
            "Early stopping, best iteration is:\n",
            "[44]\tvalid_0's binary_logloss: 0.447891\n",
            "Training until validation scores don't improve for 50 rounds\n",
            "Early stopping, best iteration is:\n",
            "[42]\tvalid_0's binary_logloss: 0.439039\n",
            "Training until validation scores don't improve for 50 rounds\n",
            "Early stopping, best iteration is:\n",
            "[61]\tvalid_0's binary_logloss: 0.46118\n",
            "Training until validation scores don't improve for 50 rounds\n",
            "Early stopping, best iteration is:\n",
            "[64]\tvalid_0's binary_logloss: 0.592833\n",
            "Training until validation scores don't improve for 50 rounds\n",
            "Early stopping, best iteration is:\n",
            "[67]\tvalid_0's binary_logloss: 0.514283\n",
            "Training until validation scores don't improve for 50 rounds\n",
            "Early stopping, best iteration is:\n",
            "[48]\tvalid_0's binary_logloss: 0.644824\n",
            "Training until validation scores don't improve for 50 rounds\n",
            "Early stopping, best iteration is:\n",
            "[1]\tvalid_0's binary_logloss: 0.689425\n",
            "Training until validation scores don't improve for 50 rounds\n",
            "Early stopping, best iteration is:\n",
            "[1]\tvalid_0's binary_logloss: 0.689425\n",
            "Training until validation scores don't improve for 50 rounds\n",
            "Early stopping, best iteration is:\n",
            "[1]\tvalid_0's binary_logloss: 0.690398\n",
            "Training until validation scores don't improve for 50 rounds\n",
            "Early stopping, best iteration is:\n",
            "[49]\tvalid_0's binary_logloss: 0.46276\n",
            "Training until validation scores don't improve for 50 rounds\n",
            "Early stopping, best iteration is:\n",
            "[32]\tvalid_0's binary_logloss: 0.458805\n",
            "Training until validation scores don't improve for 50 rounds\n",
            "Early stopping, best iteration is:\n",
            "[61]\tvalid_0's binary_logloss: 0.479307\n",
            "Training until validation scores don't improve for 50 rounds\n",
            "Early stopping, best iteration is:\n",
            "[103]\tvalid_0's binary_logloss: 0.437984\n",
            "Training until validation scores don't improve for 50 rounds\n",
            "Early stopping, best iteration is:\n",
            "[112]\tvalid_0's binary_logloss: 0.40763\n",
            "Training until validation scores don't improve for 50 rounds\n",
            "Early stopping, best iteration is:\n",
            "[133]\tvalid_0's binary_logloss: 0.446889\n",
            "Training until validation scores don't improve for 50 rounds\n",
            "Early stopping, best iteration is:\n",
            "[51]\tvalid_0's binary_logloss: 0.465459\n",
            "Training until validation scores don't improve for 50 rounds\n",
            "Early stopping, best iteration is:\n",
            "[29]\tvalid_0's binary_logloss: 0.466129\n",
            "Training until validation scores don't improve for 50 rounds\n",
            "Early stopping, best iteration is:\n",
            "[44]\tvalid_0's binary_logloss: 0.485941\n",
            "Training until validation scores don't improve for 50 rounds\n",
            "Early stopping, best iteration is:\n",
            "[26]\tvalid_0's binary_logloss: 0.503722\n",
            "Training until validation scores don't improve for 50 rounds\n",
            "Early stopping, best iteration is:\n",
            "[26]\tvalid_0's binary_logloss: 0.492619\n",
            "Training until validation scores don't improve for 50 rounds\n",
            "Early stopping, best iteration is:\n",
            "[23]\tvalid_0's binary_logloss: 0.520424\n",
            "Training until validation scores don't improve for 50 rounds\n",
            "Early stopping, best iteration is:\n",
            "[72]\tvalid_0's binary_logloss: 0.446454\n",
            "Training until validation scores don't improve for 50 rounds\n",
            "Early stopping, best iteration is:\n",
            "[118]\tvalid_0's binary_logloss: 0.456507\n",
            "Training until validation scores don't improve for 50 rounds\n",
            "Early stopping, best iteration is:\n",
            "[46]\tvalid_0's binary_logloss: 0.492387\n",
            "Training until validation scores don't improve for 50 rounds\n",
            "Early stopping, best iteration is:\n",
            "[91]\tvalid_0's binary_logloss: 0.481257\n",
            "Training until validation scores don't improve for 50 rounds\n",
            "Early stopping, best iteration is:\n",
            "[84]\tvalid_0's binary_logloss: 0.488107\n",
            "Training until validation scores don't improve for 50 rounds\n",
            "Early stopping, best iteration is:\n",
            "[108]\tvalid_0's binary_logloss: 0.494068\n",
            "Training until validation scores don't improve for 50 rounds\n",
            "Early stopping, best iteration is:\n",
            "[52]\tvalid_0's binary_logloss: 0.458153\n",
            "Training until validation scores don't improve for 50 rounds\n",
            "Early stopping, best iteration is:\n",
            "[59]\tvalid_0's binary_logloss: 0.442025\n",
            "Training until validation scores don't improve for 50 rounds\n",
            "Early stopping, best iteration is:\n",
            "[37]\tvalid_0's binary_logloss: 0.487263\n",
            "Training until validation scores don't improve for 50 rounds\n",
            "Early stopping, best iteration is:\n",
            "[20]\tvalid_0's binary_logloss: 0.528347\n",
            "Training until validation scores don't improve for 50 rounds\n",
            "Early stopping, best iteration is:\n",
            "[16]\tvalid_0's binary_logloss: 0.525409\n",
            "Training until validation scores don't improve for 50 rounds\n",
            "Early stopping, best iteration is:\n",
            "[19]\tvalid_0's binary_logloss: 0.548103\n",
            "Training until validation scores don't improve for 50 rounds\n",
            "Early stopping, best iteration is:\n",
            "[40]\tvalid_0's binary_logloss: 0.477342\n",
            "Training until validation scores don't improve for 50 rounds\n",
            "Early stopping, best iteration is:\n",
            "[40]\tvalid_0's binary_logloss: 0.463683\n",
            "Training until validation scores don't improve for 50 rounds\n",
            "Early stopping, best iteration is:\n",
            "[56]\tvalid_0's binary_logloss: 0.481582\n",
            "Training until validation scores don't improve for 50 rounds\n",
            "Early stopping, best iteration is:\n",
            "[195]\tvalid_0's binary_logloss: 0.443084\n",
            "Training until validation scores don't improve for 50 rounds\n",
            "Early stopping, best iteration is:\n",
            "[152]\tvalid_0's binary_logloss: 0.432861\n",
            "Training until validation scores don't improve for 50 rounds\n",
            "Early stopping, best iteration is:\n",
            "[198]\tvalid_0's binary_logloss: 0.459337\n",
            "Training until validation scores don't improve for 50 rounds\n",
            "Early stopping, best iteration is:\n",
            "[80]\tvalid_0's binary_logloss: 0.428969\n",
            "Training until validation scores don't improve for 50 rounds\n",
            "Early stopping, best iteration is:\n",
            "[70]\tvalid_0's binary_logloss: 0.446918\n",
            "Training until validation scores don't improve for 50 rounds\n",
            "Early stopping, best iteration is:\n",
            "[94]\tvalid_0's binary_logloss: 0.45731\n",
            "Training until validation scores don't improve for 50 rounds\n",
            "Early stopping, best iteration is:\n",
            "[43]\tvalid_0's binary_logloss: 0.560328\n",
            "Training until validation scores don't improve for 50 rounds\n",
            "Early stopping, best iteration is:\n",
            "[7]\tvalid_0's binary_logloss: 0.647634\n",
            "Training until validation scores don't improve for 50 rounds\n",
            "Early stopping, best iteration is:\n",
            "[22]\tvalid_0's binary_logloss: 0.616399\n",
            "Training until validation scores don't improve for 50 rounds\n",
            "Early stopping, best iteration is:\n",
            "[59]\tvalid_0's binary_logloss: 0.407963\n",
            "Training until validation scores don't improve for 50 rounds\n",
            "Early stopping, best iteration is:\n",
            "[81]\tvalid_0's binary_logloss: 0.384929\n",
            "Training until validation scores don't improve for 50 rounds\n",
            "Early stopping, best iteration is:\n",
            "[110]\tvalid_0's binary_logloss: 0.419787\n",
            "Training until validation scores don't improve for 50 rounds\n",
            "Early stopping, best iteration is:\n",
            "[71]\tvalid_0's binary_logloss: 0.409623\n",
            "Training until validation scores don't improve for 50 rounds\n",
            "Early stopping, best iteration is:\n",
            "[98]\tvalid_0's binary_logloss: 0.373625\n",
            "Training until validation scores don't improve for 50 rounds\n",
            "Early stopping, best iteration is:\n",
            "[142]\tvalid_0's binary_logloss: 0.426408\n",
            "Training until validation scores don't improve for 50 rounds\n",
            "Early stopping, best iteration is:\n",
            "[68]\tvalid_0's binary_logloss: 0.412419\n",
            "Training until validation scores don't improve for 50 rounds\n",
            "Early stopping, best iteration is:\n",
            "[85]\tvalid_0's binary_logloss: 0.374078\n",
            "Training until validation scores don't improve for 50 rounds\n",
            "Early stopping, best iteration is:\n",
            "[69]\tvalid_0's binary_logloss: 0.434929\n",
            "Training until validation scores don't improve for 50 rounds\n",
            "Early stopping, best iteration is:\n",
            "[60]\tvalid_0's binary_logloss: 0.429669\n",
            "Training until validation scores don't improve for 50 rounds\n",
            "Early stopping, best iteration is:\n",
            "[68]\tvalid_0's binary_logloss: 0.40174\n",
            "Training until validation scores don't improve for 50 rounds\n",
            "Early stopping, best iteration is:\n",
            "[68]\tvalid_0's binary_logloss: 0.428163\n",
            "Training until validation scores don't improve for 50 rounds\n",
            "Early stopping, best iteration is:\n",
            "[64]\tvalid_0's binary_logloss: 0.416364\n",
            "Training until validation scores don't improve for 50 rounds\n",
            "Early stopping, best iteration is:\n",
            "[99]\tvalid_0's binary_logloss: 0.370838\n",
            "Training until validation scores don't improve for 50 rounds\n",
            "Early stopping, best iteration is:\n",
            "[92]\tvalid_0's binary_logloss: 0.42278\n",
            "Training until validation scores don't improve for 50 rounds\n",
            "Early stopping, best iteration is:\n",
            "[76]\tvalid_0's binary_logloss: 0.423721\n",
            "Training until validation scores don't improve for 50 rounds\n",
            "Early stopping, best iteration is:\n",
            "[81]\tvalid_0's binary_logloss: 0.389037\n",
            "Training until validation scores don't improve for 50 rounds\n",
            "Early stopping, best iteration is:\n",
            "[88]\tvalid_0's binary_logloss: 0.442454\n",
            "Training until validation scores don't improve for 50 rounds\n",
            "Early stopping, best iteration is:\n",
            "[31]\tvalid_0's binary_logloss: 0.516326\n",
            "Training until validation scores don't improve for 50 rounds\n",
            "Early stopping, best iteration is:\n",
            "[46]\tvalid_0's binary_logloss: 0.478671\n",
            "Training until validation scores don't improve for 50 rounds\n",
            "Early stopping, best iteration is:\n",
            "[41]\tvalid_0's binary_logloss: 0.498117\n",
            "Training until validation scores don't improve for 50 rounds\n",
            "Early stopping, best iteration is:\n",
            "[45]\tvalid_0's binary_logloss: 0.625258\n",
            "Training until validation scores don't improve for 50 rounds\n",
            "Early stopping, best iteration is:\n",
            "[29]\tvalid_0's binary_logloss: 0.685858\n",
            "Training until validation scores don't improve for 50 rounds\n",
            "Early stopping, best iteration is:\n",
            "[60]\tvalid_0's binary_logloss: 0.557564\n",
            "Training until validation scores don't improve for 50 rounds\n",
            "Early stopping, best iteration is:\n",
            "[112]\tvalid_0's binary_logloss: 0.511981\n",
            "Training until validation scores don't improve for 50 rounds\n",
            "Early stopping, best iteration is:\n",
            "[176]\tvalid_0's binary_logloss: 0.507191\n",
            "Training until validation scores don't improve for 50 rounds\n",
            "Early stopping, best iteration is:\n",
            "[141]\tvalid_0's binary_logloss: 0.509861\n",
            "✅ Best score: 0.8305\n",
            "🎯 Best parameters: {'num_leaves': 217, 'learning_rate': 0.13297554090738672, 'feature_fraction': 0.7367663185416977, 'bagging_fraction': 0.8625803079727365, 'bagging_freq': 4, 'min_child_samples': 55, 'min_child_weight': 0.05130551760589835, 'reg_alpha': 0.2541912674409519, 'reg_lambda': 1.0789142699330445, 'max_depth': 3, 'min_split_gain': 0.6364104112637804, 'subsample': 0.7257423924305306, 'colsample_bytree': 0.8034282764658811}\n",
            "🚀 Training LightGBM model...\n",
            "📊 Device: gpu\n",
            "🔢 Features: 10\n",
            "📈 Samples: 242\n",
            "Training until validation scores don't improve for 50 rounds\n",
            "Early stopping, best iteration is:\n",
            "[22]\tvalid_0's l2: 0.0879443\n",
            "✅ Training completed. Best iteration: 22\n",
            "\n",
            "📊 Validation Set Evaluation Results:\n",
            "==================================================\n",
            "Accuracy:  0.9333\n",
            "Precision: 0.9286\n",
            "Recall:    0.9286\n",
            "F1-Score:  0.9286\n",
            "AUC-ROC:   0.9821\n",
            "Log Loss:  0.3199\n",
            "\n",
            "📋 Classification Report:\n",
            "              precision    recall  f1-score   support\n",
            "\n",
            "           0       0.94      0.94      0.94        16\n",
            "           1       0.93      0.93      0.93        14\n",
            "\n",
            "    accuracy                           0.93        30\n",
            "   macro avg       0.93      0.93      0.93        30\n",
            "weighted avg       0.93      0.93      0.93        30\n",
            "\n",
            "\n",
            "🔢 Confusion Matrix:\n",
            "[[15  1]\n",
            " [ 1 13]]\n",
            "\n",
            "📊 Test Set Evaluation Results:\n",
            "==================================================\n",
            "Accuracy:  0.8065\n",
            "Precision: 0.7857\n",
            "Recall:    0.7857\n",
            "F1-Score:  0.7857\n",
            "AUC-ROC:   0.8887\n",
            "Log Loss:  0.4334\n",
            "\n",
            "📋 Classification Report:\n",
            "              precision    recall  f1-score   support\n",
            "\n",
            "           0       0.82      0.82      0.82        17\n",
            "           1       0.79      0.79      0.79        14\n",
            "\n",
            "    accuracy                           0.81        31\n",
            "   macro avg       0.80      0.80      0.80        31\n",
            "weighted avg       0.81      0.81      0.81        31\n",
            "\n",
            "\n",
            "🔢 Confusion Matrix:\n",
            "[[14  3]\n",
            " [ 3 11]]\n"
          ]
        },
        {
          "data": {
            "image/png": "[encoded data removed]",
            "text/plain": [
              "<Figure size 1000x800 with 1 Axes>"
            ]
          },
          "metadata": {},
          "output_type": "display_data"
        },
        {
          "name": "stdout",
          "output_type": "stream",
          "text": [
            "✅ SHAP explainer setup completed\n"
          ]
        },
        {
          "data": {
            "image/png": "[encoded data removed]",
            "text/plain": [
              "<Figure size 800x550 with 2 Axes>"
            ]
          },
          "metadata": {},
          "output_type": "display_data"
        }
      ],
      "source": [
        "# Initialize LightGBM model for FE+DT dataset\n",
        "lgb_fe_dt_model = AdvancedLightGBM(use_gpu=GPU_AVAILABLE, random_state=SEED)\n",
        "\n",
        "# Optimize hyperparameters\n",
        "print(\"🔧 Optimizing hyperparameters for Feature Engineering + DT Dataset...\")\n",
        "study_fe_dt = lgb_fe_dt_model.optimize_hyperparameters(\n",
        "    X_fe_dt_train, y_fe_dt_train, X_fe_dt_val, y_fe_dt_val, \n",
        "    n_trials=100,\n",
        "    cv_folds=5,\n",
        "    timeout=3600\n",
        ")\n",
        "\n",
        "# Train model\n",
        "lgb_fe_dt_model.train_model(X_fe_dt_train, y_fe_dt_train, X_fe_dt_val, y_fe_dt_val)\n",
        "\n",
        "# Evaluate\n",
        "val_fe_dt_results = lgb_fe_dt_model.evaluate_comprehensive(X_fe_dt_val, y_fe_dt_val, \"Validation\")\n",
        "test_fe_dt_results = lgb_fe_dt_model.evaluate_comprehensive(X_fe_dt_test, y_fe_dt_test, \"Test\")\n",
        "\n",
        "# Feature importance\n",
        "lgb_fe_dt_model.plot_feature_importance(top_n=15)\n",
        "\n",
        "# SHAP analysis\n",
        "lgb_fe_dt_model.setup_shap_explainer(X_fe_dt_train, X_fe_dt_val)\n",
        "lgb_fe_dt_model.plot_shap_summary(X_fe_dt_val, max_display=15)\n"
      ]
    },
    {
      "cell_type": "markdown",
      "metadata": {},
      "source": [
        "## 4. Comprehensive Results Analysis & Visualization\n",
        "\n",
        "### 📊 Nguyên lý phân tích kết quả\n",
        "\n",
        "#### 1. **Performance Metrics Comparison**\n",
        "- **Accuracy**: Tỷ lệ dự đoán đúng tổng thể\n",
        "- **F1-Score**: Balance giữa precision và recall\n",
        "- **AUC-ROC**: Khả năng phân biệt giữa classes\n",
        "- **Cross-dataset Analysis**: So sánh performance trên các dataset khác nhau\n",
        "\n",
        "#### 2. **Visualization Strategy**\n",
        "- **Interactive Plots**: Sử dụng Plotly cho tương tác\n",
        "- **Traditional Plots**: Matplotlib cho consistency với các notebook khác\n",
        "- **Radar Charts**: Hiển thị multi-dimensional performance\n",
        "- **Comparison Charts**: So sánh trực quan giữa các models\n",
        "\n",
        "#### 3. **Statistical Analysis**\n",
        "- **Performance Ranking**: Xếp hạng models theo performance\n",
        "- **Improvement Analysis**: Tính % improvement so với baseline\n",
        "- **Feature Importance**: So sánh feature importance across models\n"
      ]
    },
    {
      "cell_type": "code",
      "execution_count": null,
      "metadata": {},
      "outputs": [
        {
          "name": "stdout",
          "output_type": "stream",
          "text": [
            "📊 LightGBM Results Summary:\n",
            "============================================================\n"
          ]
        },
        {
          "data": {
            "text/html": [
              "<div>\n",
              "<style scoped>\n",
              "    .dataframe tbody tr th:only-of-type {\n",
              "        vertical-align: middle;\n",
              "    }\n",
              "\n",
              "    .dataframe tbody tr th {\n",
              "        vertical-align: top;\n",
              "    }\n",
              "\n",
              "    .dataframe thead th {\n",
              "        text-align: right;\n",
              "    }\n",
              "</style>\n",
              "<table border=\"1\" class=\"dataframe\">\n",
              "  <thead>\n",
              "    <tr style=\"text-align: right;\">\n",
              "      <th></th>\n",
              "      <th>Dataset</th>\n",
              "      <th>Validation_Accuracy</th>\n",
              "      <th>Test_Accuracy</th>\n",
              "      <th>Validation_F1</th>\n",
              "      <th>Test_F1</th>\n",
              "      <th>Validation_AUC</th>\n",
              "      <th>Test_AUC</th>\n",
              "    </tr>\n",
              "  </thead>\n",
              "  <tbody>\n",
              "    <tr>\n",
              "      <th>0</th>\n",
              "      <td>Original</td>\n",
              "      <td>0.9000</td>\n",
              "      <td>0.7097</td>\n",
              "      <td>0.8889</td>\n",
              "      <td>0.6400</td>\n",
              "      <td>0.9732</td>\n",
              "      <td>0.8697</td>\n",
              "    </tr>\n",
              "    <tr>\n",
              "      <th>1</th>\n",
              "      <td>Feature Engineering</td>\n",
              "      <td>0.9667</td>\n",
              "      <td>0.8387</td>\n",
              "      <td>0.9655</td>\n",
              "      <td>0.8276</td>\n",
              "      <td>0.9866</td>\n",
              "      <td>0.9202</td>\n",
              "    </tr>\n",
              "    <tr>\n",
              "      <th>2</th>\n",
              "      <td>Original + DT</td>\n",
              "      <td>0.9333</td>\n",
              "      <td>0.8065</td>\n",
              "      <td>0.9286</td>\n",
              "      <td>0.7857</td>\n",
              "      <td>0.9688</td>\n",
              "      <td>0.8676</td>\n",
              "    </tr>\n",
              "    <tr>\n",
              "      <th>3</th>\n",
              "      <td>Feature Engineering + DT</td>\n",
              "      <td>0.9333</td>\n",
              "      <td>0.8065</td>\n",
              "      <td>0.9286</td>\n",
              "      <td>0.7857</td>\n",
              "      <td>0.9821</td>\n",
              "      <td>0.8887</td>\n",
              "    </tr>\n",
              "  </tbody>\n",
              "</table>\n",
              "</div>"
            ],
            "text/plain": [
              "                    Dataset  Validation_Accuracy  Test_Accuracy  \\\n",
              "0                  Original               0.9000         0.7097   \n",
              "1       Feature Engineering               0.9667         0.8387   \n",
              "2             Original + DT               0.9333         0.8065   \n",
              "3  Feature Engineering + DT               0.9333         0.8065   \n",
              "\n",
              "   Validation_F1  Test_F1  Validation_AUC  Test_AUC  \n",
              "0         0.8889   0.6400          0.9732    0.8697  \n",
              "1         0.9655   0.8276          0.9866    0.9202  \n",
              "2         0.9286   0.7857          0.9688    0.8676  \n",
              "3         0.9286   0.7857          0.9821    0.8887  "
            ]
          },
          "metadata": {},
          "output_type": "display_data"
        }
      ],
      "source": [
        "# Collect all results for comparison\n",
        "results_summary = {\n",
        "    'Dataset': ['Original', 'Feature Engineering', 'Original + DT', 'Feature Engineering + DT'],\n",
        "    'Validation_Accuracy': [\n",
        "        val_results['accuracy'],\n",
        "        val_fe_results['accuracy'], \n",
        "        val_dt_results['accuracy'],\n",
        "        val_fe_dt_results['accuracy']\n",
        "    ],\n",
        "    'Test_Accuracy': [\n",
        "        test_results['accuracy'],\n",
        "        test_fe_results['accuracy'],\n",
        "        test_dt_results['accuracy'], \n",
        "        test_fe_dt_results['accuracy']\n",
        "    ],\n",
        "    'Validation_F1': [\n",
        "        val_results['f1'],\n",
        "        val_fe_results['f1'],\n",
        "        val_dt_results['f1'],\n",
        "        val_fe_dt_results['f1']\n",
        "    ],\n",
        "    'Test_F1': [\n",
        "        test_results['f1'],\n",
        "        test_fe_results['f1'],\n",
        "        test_dt_results['f1'],\n",
        "        test_fe_dt_results['f1']\n",
        "    ],\n",
        "    'Validation_AUC': [\n",
        "        val_results['auc'],\n",
        "        val_fe_results['auc'],\n",
        "        val_dt_results['auc'],\n",
        "        val_fe_dt_results['auc']\n",
        "    ],\n",
        "    'Test_AUC': [\n",
        "        test_results['auc'],\n",
        "        test_fe_results['auc'],\n",
        "        test_dt_results['auc'],\n",
        "        test_fe_dt_results['auc']\n",
        "    ]\n",
        "}\n",
        "\n",
        "results_df = pd.DataFrame(results_summary)\n",
        "print(\"📊 LightGBM Results Summary:\")\n",
        "print(\"=\" * 60)\n",
        "display(results_df.round(4))\n"
      ]
    },
    {
      "cell_type": "code",
      "execution_count": null,
      "metadata": {},
      "outputs": [
        {
          "data": {
            "application/vnd.plotly.v1+json": {
              "config": {
                "plotlyServerURL": "https://plot.ly"
              },
              "data": [
                {
                  "marker": {
                    "color": "lightblue"
                  },
                  "name": "Validation",
                  "text": {
                    "bdata": "zczMzMzM7D+LbOf7qfHuP0Jg5dAi2+0/QmDl0CLb7T8=",
                    "dtype": "f8"
                  },
                  "textposition": "auto",
                  "type": "bar",
                  "x": [
                    "Original",
                    "Feature Engineering",
                    "Original + DT",
                    "Feature Engineering + DT"
                  ],
                  "xaxis": "x",
                  "y": {
                    "bdata": "zczMzMzM7D/v7u7u7u7uP97d3d3d3e0/3t3d3d3d7T8=",
                    "dtype": "f8"
                  },
                  "yaxis": "y"
                },
                {
                  "marker": {
                    "color": "lightcoral"
                  },
                  "name": "Test",
                  "text": {
                    "bdata": "uB6F61G45j8MAiuHFtnqP5huEoPAyuk/mG4Sg8DK6T8=",
                    "dtype": "f8"
                  },
                  "textposition": "auto",
                  "type": "bar",
                  "x": [
                    "Original",
                    "Feature Engineering",
                    "Original + DT",
                    "Feature Engineering + DT"
                  ],
                  "xaxis": "x2",
                  "y": {
                    "bdata": "ttZaa6215j/XWmuttdbqP84555xzzuk/zjnnnHPO6T8=",
                    "dtype": "f8"
                  },
                  "yaxis": "y2"
                }
              ],
              "layout": {
                "annotations": [
                  {
                    "font": {
                      "size": 16
                    },
                    "showarrow": false,
                    "text": "Validation Accuracy",
                    "x": 0.225,
                    "xanchor": "center",
                    "xref": "paper",
                    "y": 1,
                    "yanchor": "bottom",
                    "yref": "paper"
                  },
                  {
                    "font": {
                      "size": 16
                    },
                    "showarrow": false,
                    "text": "Test Accuracy",
                    "x": 0.775,
                    "xanchor": "center",
                    "xref": "paper",
                    "y": 1,
                    "yanchor": "bottom",
                    "yref": "paper"
                  }
                ],
                "height": 500,
                "showlegend": false,
                "template": {
                  "data": {
                    "bar": [
                      {
                        "error_x": {
                          "color": "#2a3f5f"
                        },
                        "error_y": {
                          "color": "#2a3f5f"
                        },
                        "marker": {
                          "line": {
                            "color": "#E5ECF6",
                            "width": 0.5
                          },
                          "pattern": {
                            "fillmode": "overlay",
                            "size": 10,
                            "solidity": 0.2
                          }
                        },
                        "type": "bar"
                      }
                    ],
                    "barpolar": [
                      {
                        "marker": {
                          "line": {
                            "color": "#E5ECF6",
                            "width": 0.5
                          },
                          "pattern": {
                            "fillmode": "overlay",
                            "size": 10,
                            "solidity": 0.2
                          }
                        },
                        "type": "barpolar"
                      }
                    ],
                    "carpet": [
                      {
                        "aaxis": {
                          "endlinecolor": "#2a3f5f",
                          "gridcolor": "white",
                          "linecolor": "white",
                          "minorgridcolor": "white",
                          "startlinecolor": "#2a3f5f"
                        },
                        "baxis": {
                          "endlinecolor": "#2a3f5f",
                          "gridcolor": "white",
                          "linecolor": "white",
                          "minorgridcolor": "white",
                          "startlinecolor": "#2a3f5f"
                        },
                        "type": "carpet"
                      }
                    ],
                    "choropleth": [
                      {
                        "colorbar": {
                          "outlinewidth": 0,
                          "ticks": ""
                        },
                        "type": "choropleth"
                      }
                    ],
                    "contour": [
                      {
                        "colorbar": {
                          "outlinewidth": 0,
                          "ticks": ""
                        },
                        "colorscale": [
                          [
                            0,
                            "#0d0887"
                          ],
                          [
                            0.1111111111111111,
                            "#46039f"
                          ],
                          [
                            0.2222222222222222,
                            "#7201a8"
                          ],
                          [
                            0.3333333333333333,
                            "#9c179e"
                          ],
                          [
                            0.4444444444444444,
                            "#bd3786"
                          ],
                          [
                            0.5555555555555556,
                            "#d8576b"
                          ],
                          [
                            0.6666666666666666,
                            "#ed7953"
                          ],
                          [
                            0.7777777777777778,
                            "#fb9f3a"
                          ],
                          [
                            0.8888888888888888,
                            "#fdca26"
                          ],
                          [
                            1,
                            "#f0f921"
                          ]
                        ],
                        "type": "contour"
                      }
                    ],
                    "contourcarpet": [
                      {
                        "colorbar": {
                          "outlinewidth": 0,
                          "ticks": ""
                        },
                        "type": "contourcarpet"
                      }
                    ],
                    "heatmap": [
                      {
                        "colorbar": {
                          "outlinewidth": 0,
                          "ticks": ""
                        },
                        "colorscale": [
                          [
                            0,
                            "#0d0887"
                          ],
                          [
                            0.1111111111111111,
                            "#46039f"
                          ],
                          [
                            0.2222222222222222,
                            "#7201a8"
                          ],
                          [
                            0.3333333333333333,
                            "#9c179e"
                          ],
                          [
                            0.4444444444444444,
                            "#bd3786"
                          ],
                          [
                            0.5555555555555556,
                            "#d8576b"
                          ],
                          [
                            0.6666666666666666,
                            "#ed7953"
                          ],
                          [
                            0.7777777777777778,
                            "#fb9f3a"
                          ],
                          [
                            0.8888888888888888,
                            "#fdca26"
                          ],
                          [
                            1,
                            "#f0f921"
                          ]
                        ],
                        "type": "heatmap"
                      }
                    ],
                    "histogram": [
                      {
                        "marker": {
                          "pattern": {
                            "fillmode": "overlay",
                            "size": 10,
                            "solidity": 0.2
                          }
                        },
                        "type": "histogram"
                      }
                    ],
                    "histogram2d": [
                      {
                        "colorbar": {
                          "outlinewidth": 0,
                          "ticks": ""
                        },
                        "colorscale": [
                          [
                            0,
                            "#0d0887"
                          ],
                          [
                            0.1111111111111111,
                            "#46039f"
                          ],
                          [
                            0.2222222222222222,
                            "#7201a8"
                          ],
                          [
                            0.3333333333333333,
                            "#9c179e"
                          ],
                          [
                            0.4444444444444444,
                            "#bd3786"
                          ],
                          [
                            0.5555555555555556,
                            "#d8576b"
                          ],
                          [
                            0.6666666666666666,
                            "#ed7953"
                          ],
                          [
                            0.7777777777777778,
                            "#fb9f3a"
                          ],
                          [
                            0.8888888888888888,
                            "#fdca26"
                          ],
                          [
                            1,
                            "#f0f921"
                          ]
                        ],
                        "type": "histogram2d"
                      }
                    ],
                    "histogram2dcontour": [
                      {
                        "colorbar": {
                          "outlinewidth": 0,
                          "ticks": ""
                        },
                        "colorscale": [
                          [
                            0,
                            "#0d0887"
                          ],
                          [
                            0.1111111111111111,
                            "#46039f"
                          ],
                          [
                            0.2222222222222222,
                            "#7201a8"
                          ],
                          [
                            0.3333333333333333,
                            "#9c179e"
                          ],
                          [
                            0.4444444444444444,
                            "#bd3786"
                          ],
                          [
                            0.5555555555555556,
                            "#d8576b"
                          ],
                          [
                            0.6666666666666666,
                            "#ed7953"
                          ],
                          [
                            0.7777777777777778,
                            "#fb9f3a"
                          ],
                          [
                            0.8888888888888888,
                            "#fdca26"
                          ],
                          [
                            1,
                            "#f0f921"
                          ]
                        ],
                        "type": "histogram2dcontour"
                      }
                    ],
                    "mesh3d": [
                      {
                        "colorbar": {
                          "outlinewidth": 0,
                          "ticks": ""
                        },
                        "type": "mesh3d"
                      }
                    ],
                    "parcoords": [
                      {
                        "line": {
                          "colorbar": {
                            "outlinewidth": 0,
                            "ticks": ""
                          }
                        },
                        "type": "parcoords"
                      }
                    ],
                    "pie": [
                      {
                        "automargin": true,
                        "type": "pie"
                      }
                    ],
                    "scatter": [
                      {
                        "fillpattern": {
                          "fillmode": "overlay",
                          "size": 10,
                          "solidity": 0.2
                        },
                        "type": "scatter"
                      }
                    ],
                    "scatter3d": [
                      {
                        "line": {
                          "colorbar": {
                            "outlinewidth": 0,
                            "ticks": ""
                          }
                        },
                        "marker": {
                          "colorbar": {
                            "outlinewidth": 0,
                            "ticks": ""
                          }
                        },
                        "type": "scatter3d"
                      }
                    ],
                    "scattercarpet": [
                      {
                        "marker": {
                          "colorbar": {
                            "outlinewidth": 0,
                            "ticks": ""
                          }
                        },
                        "type": "scattercarpet"
                      }
                    ],
                    "scattergeo": [
                      {
                        "marker": {
                          "colorbar": {
                            "outlinewidth": 0,
                            "ticks": ""
                          }
                        },
                        "type": "scattergeo"
                      }
                    ],
                    "scattergl": [
                      {
                        "marker": {
                          "colorbar": {
                            "outlinewidth": 0,
                            "ticks": ""
                          }
                        },
                        "type": "scattergl"
                      }
                    ],
                    "scattermap": [
                      {
                        "marker": {
                          "colorbar": {
                            "outlinewidth": 0,
                            "ticks": ""
                          }
                        },
                        "type": "scattermap"
                      }
                    ],
                    "scattermapbox": [
                      {
                        "marker": {
                          "colorbar": {
                            "outlinewidth": 0,
                            "ticks": ""
                          }
                        },
                        "type": "scattermapbox"
                      }
                    ],
                    "scatterpolar": [
                      {
                        "marker": {
                          "colorbar": {
                            "outlinewidth": 0,
                            "ticks": ""
                          }
                        },
                        "type": "scatterpolar"
                      }
                    ],
                    "scatterpolargl": [
                      {
                        "marker": {
                          "colorbar": {
                            "outlinewidth": 0,
                            "ticks": ""
                          }
                        },
                        "type": "scatterpolargl"
                      }
                    ],
                    "scatterternary": [
                      {
                        "marker": {
                          "colorbar": {
                            "outlinewidth": 0,
                            "ticks": ""
                          }
                        },
                        "type": "scatterternary"
                      }
                    ],
                    "surface": [
                      {
                        "colorbar": {
                          "outlinewidth": 0,
                          "ticks": ""
                        },
                        "colorscale": [
                          [
                            0,
                            "#0d0887"
                          ],
                          [
                            0.1111111111111111,
                            "#46039f"
                          ],
                          [
                            0.2222222222222222,
                            "#7201a8"
                          ],
                          [
                            0.3333333333333333,
                            "#9c179e"
                          ],
                          [
                            0.4444444444444444,
                            "#bd3786"
                          ],
                          [
                            0.5555555555555556,
                            "#d8576b"
                          ],
                          [
                            0.6666666666666666,
                            "#ed7953"
                          ],
                          [
                            0.7777777777777778,
                            "#fb9f3a"
                          ],
                          [
                            0.8888888888888888,
                            "#fdca26"
                          ],
                          [
                            1,
                            "#f0f921"
                          ]
                        ],
                        "type": "surface"
                      }
                    ],
                    "table": [
                      {
                        "cells": {
                          "fill": {
                            "color": "#EBF0F8"
                          },
                          "line": {
                            "color": "white"
                          }
                        },
                        "header": {
                          "fill": {
                            "color": "#C8D4E3"
                          },
                          "line": {
                            "color": "white"
                          }
                        },
                        "type": "table"
                      }
                    ]
                  },
                  "layout": {
                    "annotationdefaults": {
                      "arrowcolor": "#2a3f5f",
                      "arrowhead": 0,
                      "arrowwidth": 1
                    },
                    "autotypenumbers": "strict",
                    "coloraxis": {
                      "colorbar": {
                        "outlinewidth": 0,
                        "ticks": ""
                      }
                    },
                    "colorscale": {
                      "diverging": [
                        [
                          0,
                          "#8e0152"
                        ],
                        [
                          0.1,
                          "#c51b7d"
                        ],
                        [
                          0.2,
                          "#de77ae"
                        ],
                        [
                          0.3,
                          "#f1b6da"
                        ],
                        [
                          0.4,
                          "#fde0ef"
                        ],
                        [
                          0.5,
                          "#f7f7f7"
                        ],
                        [
                          0.6,
                          "#e6f5d0"
                        ],
                        [
                          0.7,
                          "#b8e186"
                        ],
                        [
                          0.8,
                          "#7fbc41"
                        ],
                        [
                          0.9,
                          "#4d9221"
                        ],
                        [
                          1,
                          "#276419"
                        ]
                      ],
                      "sequential": [
                        [
                          0,
                          "#0d0887"
                        ],
                        [
                          0.1111111111111111,
                          "#46039f"
                        ],
                        [
                          0.2222222222222222,
                          "#7201a8"
                        ],
                        [
                          0.3333333333333333,
                          "#9c179e"
                        ],
                        [
                          0.4444444444444444,
                          "#bd3786"
                        ],
                        [
                          0.5555555555555556,
                          "#d8576b"
                        ],
                        [
                          0.6666666666666666,
                          "#ed7953"
                        ],
                        [
                          0.7777777777777778,
                          "#fb9f3a"
                        ],
                        [
                          0.8888888888888888,
                          "#fdca26"
                        ],
                        [
                          1,
                          "#f0f921"
                        ]
                      ],
                      "sequentialminus": [
                        [
                          0,
                          "#0d0887"
                        ],
                        [
                          0.1111111111111111,
                          "#46039f"
                        ],
                        [
                          0.2222222222222222,
                          "#7201a8"
                        ],
                        [
                          0.3333333333333333,
                          "#9c179e"
                        ],
                        [
                          0.4444444444444444,
                          "#bd3786"
                        ],
                        [
                          0.5555555555555556,
                          "#d8576b"
                        ],
                        [
                          0.6666666666666666,
                          "#ed7953"
                        ],
                        [
                          0.7777777777777778,
                          "#fb9f3a"
                        ],
                        [
                          0.8888888888888888,
                          "#fdca26"
                        ],
                        [
                          1,
                          "#f0f921"
                        ]
                      ]
                    },
                    "colorway": [
                      "#636efa",
                      "#EF553B",
                      "#00cc96",
                      "#ab63fa",
                      "#FFA15A",
                      "#19d3f3",
                      "#FF6692",
                      "#B6E880",
                      "#FF97FF",
                      "#FECB52"
                    ],
                    "font": {
                      "color": "#2a3f5f"
                    },
                    "geo": {
                      "bgcolor": "white",
                      "lakecolor": "white",
                      "landcolor": "#E5ECF6",
                      "showlakes": true,
                      "showland": true,
                      "subunitcolor": "white"
                    },
                    "hoverlabel": {
                      "align": "left"
                    },
                    "hovermode": "closest",
                    "mapbox": {
                      "style": "light"
                    },
                    "paper_bgcolor": "white",
                    "plot_bgcolor": "#E5ECF6",
                    "polar": {
                      "angularaxis": {
                        "gridcolor": "white",
                        "linecolor": "white",
                        "ticks": ""
                      },
                      "bgcolor": "#E5ECF6",
                      "radialaxis": {
                        "gridcolor": "white",
                        "linecolor": "white",
                        "ticks": ""
                      }
                    },
                    "scene": {
                      "xaxis": {
                        "backgroundcolor": "#E5ECF6",
                        "gridcolor": "white",
                        "gridwidth": 2,
                        "linecolor": "white",
                        "showbackground": true,
                        "ticks": "",
                        "zerolinecolor": "white"
                      },
                      "yaxis": {
                        "backgroundcolor": "#E5ECF6",
                        "gridcolor": "white",
                        "gridwidth": 2,
                        "linecolor": "white",
                        "showbackground": true,
                        "ticks": "",
                        "zerolinecolor": "white"
                      },
                      "zaxis": {
                        "backgroundcolor": "#E5ECF6",
                        "gridcolor": "white",
                        "gridwidth": 2,
                        "linecolor": "white",
                        "showbackground": true,
                        "ticks": "",
                        "zerolinecolor": "white"
                      }
                    },
                    "shapedefaults": {
                      "line": {
                        "color": "#2a3f5f"
                      }
                    },
                    "ternary": {
                      "aaxis": {
                        "gridcolor": "white",
                        "linecolor": "white",
                        "ticks": ""
                      },
                      "baxis": {
                        "gridcolor": "white",
                        "linecolor": "white",
                        "ticks": ""
                      },
                      "bgcolor": "#E5ECF6",
                      "caxis": {
                        "gridcolor": "white",
                        "linecolor": "white",
                        "ticks": ""
                      }
                    },
                    "title": {
                      "x": 0.05
                    },
                    "xaxis": {
                      "automargin": true,
                      "gridcolor": "white",
                      "linecolor": "white",
                      "ticks": "",
                      "title": {
                        "standoff": 15
                      },
                      "zerolinecolor": "white",
                      "zerolinewidth": 2
                    },
                    "yaxis": {
                      "automargin": true,
                      "gridcolor": "white",
                      "linecolor": "white",
                      "ticks": "",
                      "title": {
                        "standoff": 15
                      },
                      "zerolinecolor": "white",
                      "zerolinewidth": 2
                    }
                  }
                },
                "title": {
                  "text": "LightGBM Accuracy Comparison Across Datasets"
                },
                "xaxis": {
                  "anchor": "y",
                  "domain": [
                    0,
                    0.45
                  ]
                },
                "xaxis2": {
                  "anchor": "y2",
                  "domain": [
                    0.55,
                    1
                  ]
                },
                "yaxis": {
                  "anchor": "x",
                  "domain": [
                    0,
                    1
                  ]
                },
                "yaxis2": {
                  "anchor": "x2",
                  "domain": [
                    0,
                    1
                  ]
                }
              }
            }
          },
          "metadata": {},
          "output_type": "display_data"
        },
        {
          "data": {
            "application/vnd.plotly.v1+json": {
              "config": {
                "plotlyServerURL": "https://plot.ly"
              },
              "data": [
                {
                  "marker": {
                    "color": "lightgreen"
                  },
                  "name": "Val F1",
                  "text": {
                    "bdata": "ppvEILBy7D+28/3UeOnuP+58PzVeuu0/7nw/NV667T8=",
                    "dtype": "f8"
                  },
                  "textposition": "auto",
                  "type": "bar",
                  "x": [
                    "Original",
                    "Feature Engineering",
                    "Original + DT",
                    "Feature Engineering + DT"
                  ],
                  "xaxis": "x",
                  "y": {
                    "bdata": "HMdxHMdx7D9HWO5phOXuP27btm3btu0/btu2bdu27T8=",
                    "dtype": "f8"
                  },
                  "yaxis": "y"
                },
                {
                  "marker": {
                    "color": "orange"
                  },
                  "name": "Test F1",
                  "text": {
                    "bdata": "exSuR+F65D/l0CLb+X7qP/T91HjpJuk/9P3UeOkm6T8=",
                    "dtype": "f8"
                  },
                  "textposition": "auto",
                  "type": "bar",
                  "x": [
                    "Original",
                    "Feature Engineering",
                    "Original + DT",
                    "Feature Engineering + DT"
                  ],
                  "xaxis": "x2",
                  "y": {
                    "bdata": "exSuR+F65D9huacRlnvqP0mSJEmSJOk/SZIkSZIk6T8=",
                    "dtype": "f8"
                  },
                  "yaxis": "y2"
                },
                {
                  "marker": {
                    "color": "purple"
                  },
                  "name": "Val AUC",
                  "text": {
                    "bdata": "iUFg5dAi7z8v3SQGgZXvPzVeukkMAu8/BoGVQ4ts7z8=",
                    "dtype": "f8"
                  },
                  "textposition": "auto",
                  "type": "bar",
                  "x": [
                    "Original",
                    "Feature Engineering",
                    "Original + DT",
                    "Feature Engineering + DT"
                  ],
                  "xaxis": "x3",
                  "y": {
                    "bdata": "SZIkSZIk7z8lSZIkSZLvPwEAAAAAAO8/3LZt27Zt7z8=",
                    "dtype": "f8"
                  },
                  "yaxis": "y3"
                },
                {
                  "marker": {
                    "color": "brown"
                  },
                  "name": "Test AUC",
                  "text": {
                    "bdata": "16NwPQrX6z9xPQrXo3DtPy2yne+nxus/ppvEILBy7D8=",
                    "dtype": "f8"
                  },
                  "textposition": "auto",
                  "type": "bar",
                  "x": [
                    "Original",
                    "Feature Engineering",
                    "Original + DT",
                    "Feature Engineering + DT"
                  ],
                  "xaxis": "x4",
                  "y": {
                    "bdata": "jPnUi/nU6z9NBHJNBHLtP8TDw8PDw+s/lN1vlN1v7D8=",
                    "dtype": "f8"
                  },
                  "yaxis": "y4"
                }
              ],
              "layout": {
                "annotations": [
                  {
                    "font": {
                      "size": 16
                    },
                    "showarrow": false,
                    "text": "Validation F1-Score",
                    "x": 0.225,
                    "xanchor": "center",
                    "xref": "paper",
                    "y": 1,
                    "yanchor": "bottom",
                    "yref": "paper"
                  },
                  {
                    "font": {
                      "size": 16
                    },
                    "showarrow": false,
                    "text": "Test F1-Score",
                    "x": 0.775,
                    "xanchor": "center",
                    "xref": "paper",
                    "y": 1,
                    "yanchor": "bottom",
                    "yref": "paper"
                  },
                  {
                    "font": {
                      "size": 16
                    },
                    "showarrow": false,
                    "text": "Validation AUC",
                    "x": 0.225,
                    "xanchor": "center",
                    "xref": "paper",
                    "y": 0.375,
                    "yanchor": "bottom",
                    "yref": "paper"
                  },
                  {
                    "font": {
                      "size": 16
                    },
                    "showarrow": false,
                    "text": "Test AUC",
                    "x": 0.775,
                    "xanchor": "center",
                    "xref": "paper",
                    "y": 0.375,
                    "yanchor": "bottom",
                    "yref": "paper"
                  }
                ],
                "height": 700,
                "showlegend": false,
                "template": {
                  "data": {
                    "bar": [
                      {
                        "error_x": {
                          "color": "#2a3f5f"
                        },
                        "error_y": {
                          "color": "#2a3f5f"
                        },
                        "marker": {
                          "line": {
                            "color": "#E5ECF6",
                            "width": 0.5
                          },
                          "pattern": {
                            "fillmode": "overlay",
                            "size": 10,
                            "solidity": 0.2
                          }
                        },
                        "type": "bar"
                      }
                    ],
                    "barpolar": [
                      {
                        "marker": {
                          "line": {
                            "color": "#E5ECF6",
                            "width": 0.5
                          },
                          "pattern": {
                            "fillmode": "overlay",
                            "size": 10,
                            "solidity": 0.2
                          }
                        },
                        "type": "barpolar"
                      }
                    ],
                    "carpet": [
                      {
                        "aaxis": {
                          "endlinecolor": "#2a3f5f",
                          "gridcolor": "white",
                          "linecolor": "white",
                          "minorgridcolor": "white",
                          "startlinecolor": "#2a3f5f"
                        },
                        "baxis": {
                          "endlinecolor": "#2a3f5f",
                          "gridcolor": "white",
                          "linecolor": "white",
                          "minorgridcolor": "white",
                          "startlinecolor": "#2a3f5f"
                        },
                        "type": "carpet"
                      }
                    ],
                    "choropleth": [
                      {
                        "colorbar": {
                          "outlinewidth": 0,
                          "ticks": ""
                        },
                        "type": "choropleth"
                      }
                    ],
                    "contour": [
                      {
                        "colorbar": {
                          "outlinewidth": 0,
                          "ticks": ""
                        },
                        "colorscale": [
                          [
                            0,
                            "#0d0887"
                          ],
                          [
                            0.1111111111111111,
                            "#46039f"
                          ],
                          [
                            0.2222222222222222,
                            "#7201a8"
                          ],
                          [
                            0.3333333333333333,
                            "#9c179e"
                          ],
                          [
                            0.4444444444444444,
                            "#bd3786"
                          ],
                          [
                            0.5555555555555556,
                            "#d8576b"
                          ],
                          [
                            0.6666666666666666,
                            "#ed7953"
                          ],
                          [
                            0.7777777777777778,
                            "#fb9f3a"
                          ],
                          [
                            0.8888888888888888,
                            "#fdca26"
                          ],
                          [
                            1,
                            "#f0f921"
                          ]
                        ],
                        "type": "contour"
                      }
                    ],
                    "contourcarpet": [
                      {
                        "colorbar": {
                          "outlinewidth": 0,
                          "ticks": ""
                        },
                        "type": "contourcarpet"
                      }
                    ],
                    "heatmap": [
                      {
                        "colorbar": {
                          "outlinewidth": 0,
                          "ticks": ""
                        },
                        "colorscale": [
                          [
                            0,
                            "#0d0887"
                          ],
                          [
                            0.1111111111111111,
                            "#46039f"
                          ],
                          [
                            0.2222222222222222,
                            "#7201a8"
                          ],
                          [
                            0.3333333333333333,
                            "#9c179e"
                          ],
                          [
                            0.4444444444444444,
                            "#bd3786"
                          ],
                          [
                            0.5555555555555556,
                            "#d8576b"
                          ],
                          [
                            0.6666666666666666,
                            "#ed7953"
                          ],
                          [
                            0.7777777777777778,
                            "#fb9f3a"
                          ],
                          [
                            0.8888888888888888,
                            "#fdca26"
                          ],
                          [
                            1,
                            "#f0f921"
                          ]
                        ],
                        "type": "heatmap"
                      }
                    ],
                    "histogram": [
                      {
                        "marker": {
                          "pattern": {
                            "fillmode": "overlay",
                            "size": 10,
                            "solidity": 0.2
                          }
                        },
                        "type": "histogram"
                      }
                    ],
                    "histogram2d": [
                      {
                        "colorbar": {
                          "outlinewidth": 0,
                          "ticks": ""
                        },
                        "colorscale": [
                          [
                            0,
                            "#0d0887"
                          ],
                          [
                            0.1111111111111111,
                            "#46039f"
                          ],
                          [
                            0.2222222222222222,
                            "#7201a8"
                          ],
                          [
                            0.3333333333333333,
                            "#9c179e"
                          ],
                          [
                            0.4444444444444444,
                            "#bd3786"
                          ],
                          [
                            0.5555555555555556,
                            "#d8576b"
                          ],
                          [
                            0.6666666666666666,
                            "#ed7953"
                          ],
                          [
                            0.7777777777777778,
                            "#fb9f3a"
                          ],
                          [
                            0.8888888888888888,
                            "#fdca26"
                          ],
                          [
                            1,
                            "#f0f921"
                          ]
                        ],
                        "type": "histogram2d"
                      }
                    ],
                    "histogram2dcontour": [
                      {
                        "colorbar": {
                          "outlinewidth": 0,
                          "ticks": ""
                        },
                        "colorscale": [
                          [
                            0,
                            "#0d0887"
                          ],
                          [
                            0.1111111111111111,
                            "#46039f"
                          ],
                          [
                            0.2222222222222222,
                            "#7201a8"
                          ],
                          [
                            0.3333333333333333,
                            "#9c179e"
                          ],
                          [
                            0.4444444444444444,
                            "#bd3786"
                          ],
                          [
                            0.5555555555555556,
                            "#d8576b"
                          ],
                          [
                            0.6666666666666666,
                            "#ed7953"
                          ],
                          [
                            0.7777777777777778,
                            "#fb9f3a"
                          ],
                          [
                            0.8888888888888888,
                            "#fdca26"
                          ],
                          [
                            1,
                            "#f0f921"
                          ]
                        ],
                        "type": "histogram2dcontour"
                      }
                    ],
                    "mesh3d": [
                      {
                        "colorbar": {
                          "outlinewidth": 0,
                          "ticks": ""
                        },
                        "type": "mesh3d"
                      }
                    ],
                    "parcoords": [
                      {
                        "line": {
                          "colorbar": {
                            "outlinewidth": 0,
                            "ticks": ""
                          }
                        },
                        "type": "parcoords"
                      }
                    ],
                    "pie": [
                      {
                        "automargin": true,
                        "type": "pie"
                      }
                    ],
                    "scatter": [
                      {
                        "fillpattern": {
                          "fillmode": "overlay",
                          "size": 10,
                          "solidity": 0.2
                        },
                        "type": "scatter"
                      }
                    ],
                    "scatter3d": [
                      {
                        "line": {
                          "colorbar": {
                            "outlinewidth": 0,
                            "ticks": ""
                          }
                        },
                        "marker": {
                          "colorbar": {
                            "outlinewidth": 0,
                            "ticks": ""
                          }
                        },
                        "type": "scatter3d"
                      }
                    ],
                    "scattercarpet": [
                      {
                        "marker": {
                          "colorbar": {
                            "outlinewidth": 0,
                            "ticks": ""
                          }
                        },
                        "type": "scattercarpet"
                      }
                    ],
                    "scattergeo": [
                      {
                        "marker": {
                          "colorbar": {
                            "outlinewidth": 0,
                            "ticks": ""
                          }
                        },
                        "type": "scattergeo"
                      }
                    ],
                    "scattergl": [
                      {
                        "marker": {
                          "colorbar": {
                            "outlinewidth": 0,
                            "ticks": ""
                          }
                        },
                        "type": "scattergl"
                      }
                    ],
                    "scattermap": [
                      {
                        "marker": {
                          "colorbar": {
                            "outlinewidth": 0,
                            "ticks": ""
                          }
                        },
                        "type": "scattermap"
                      }
                    ],
                    "scattermapbox": [
                      {
                        "marker": {
                          "colorbar": {
                            "outlinewidth": 0,
                            "ticks": ""
                          }
                        },
                        "type": "scattermapbox"
                      }
                    ],
                    "scatterpolar": [
                      {
                        "marker": {
                          "colorbar": {
                            "outlinewidth": 0,
                            "ticks": ""
                          }
                        },
                        "type": "scatterpolar"
                      }
                    ],
                    "scatterpolargl": [
                      {
                        "marker": {
                          "colorbar": {
                            "outlinewidth": 0,
                            "ticks": ""
                          }
                        },
                        "type": "scatterpolargl"
                      }
                    ],
                    "scatterternary": [
                      {
                        "marker": {
                          "colorbar": {
                            "outlinewidth": 0,
                            "ticks": ""
                          }
                        },
                        "type": "scatterternary"
                      }
                    ],
                    "surface": [
                      {
                        "colorbar": {
                          "outlinewidth": 0,
                          "ticks": ""
                        },
                        "colorscale": [
                          [
                            0,
                            "#0d0887"
                          ],
                          [
                            0.1111111111111111,
                            "#46039f"
                          ],
                          [
                            0.2222222222222222,
                            "#7201a8"
                          ],
                          [
                            0.3333333333333333,
                            "#9c179e"
                          ],
                          [
                            0.4444444444444444,
                            "#bd3786"
                          ],
                          [
                            0.5555555555555556,
                            "#d8576b"
                          ],
                          [
                            0.6666666666666666,
                            "#ed7953"
                          ],
                          [
                            0.7777777777777778,
                            "#fb9f3a"
                          ],
                          [
                            0.8888888888888888,
                            "#fdca26"
                          ],
                          [
                            1,
                            "#f0f921"
                          ]
                        ],
                        "type": "surface"
                      }
                    ],
                    "table": [
                      {
                        "cells": {
                          "fill": {
                            "color": "#EBF0F8"
                          },
                          "line": {
                            "color": "white"
                          }
                        },
                        "header": {
                          "fill": {
                            "color": "#C8D4E3"
                          },
                          "line": {
                            "color": "white"
                          }
                        },
                        "type": "table"
                      }
                    ]
                  },
                  "layout": {
                    "annotationdefaults": {
                      "arrowcolor": "#2a3f5f",
                      "arrowhead": 0,
                      "arrowwidth": 1
                    },
                    "autotypenumbers": "strict",
                    "coloraxis": {
                      "colorbar": {
                        "outlinewidth": 0,
                        "ticks": ""
                      }
                    },
                    "colorscale": {
                      "diverging": [
                        [
                          0,
                          "#8e0152"
                        ],
                        [
                          0.1,
                          "#c51b7d"
                        ],
                        [
                          0.2,
                          "#de77ae"
                        ],
                        [
                          0.3,
                          "#f1b6da"
                        ],
                        [
                          0.4,
                          "#fde0ef"
                        ],
                        [
                          0.5,
                          "#f7f7f7"
                        ],
                        [
                          0.6,
                          "#e6f5d0"
                        ],
                        [
                          0.7,
                          "#b8e186"
                        ],
                        [
                          0.8,
                          "#7fbc41"
                        ],
                        [
                          0.9,
                          "#4d9221"
                        ],
                        [
                          1,
                          "#276419"
                        ]
                      ],
                      "sequential": [
                        [
                          0,
                          "#0d0887"
                        ],
                        [
                          0.1111111111111111,
                          "#46039f"
                        ],
                        [
                          0.2222222222222222,
                          "#7201a8"
                        ],
                        [
                          0.3333333333333333,
                          "#9c179e"
                        ],
                        [
                          0.4444444444444444,
                          "#bd3786"
                        ],
                        [
                          0.5555555555555556,
                          "#d8576b"
                        ],
                        [
                          0.6666666666666666,
                          "#ed7953"
                        ],
                        [
                          0.7777777777777778,
                          "#fb9f3a"
                        ],
                        [
                          0.8888888888888888,
                          "#fdca26"
                        ],
                        [
                          1,
                          "#f0f921"
                        ]
                      ],
                      "sequentialminus": [
                        [
                          0,
                          "#0d0887"
                        ],
                        [
                          0.1111111111111111,
                          "#46039f"
                        ],
                        [
                          0.2222222222222222,
                          "#7201a8"
                        ],
                        [
                          0.3333333333333333,
                          "#9c179e"
                        ],
                        [
                          0.4444444444444444,
                          "#bd3786"
                        ],
                        [
                          0.5555555555555556,
                          "#d8576b"
                        ],
                        [
                          0.6666666666666666,
                          "#ed7953"
                        ],
                        [
                          0.7777777777777778,
                          "#fb9f3a"
                        ],
                        [
                          0.8888888888888888,
                          "#fdca26"
                        ],
                        [
                          1,
                          "#f0f921"
                        ]
                      ]
                    },
                    "colorway": [
                      "#636efa",
                      "#EF553B",
                      "#00cc96",
                      "#ab63fa",
                      "#FFA15A",
                      "#19d3f3",
                      "#FF6692",
                      "#B6E880",
                      "#FF97FF",
                      "#FECB52"
                    ],
                    "font": {
                      "color": "#2a3f5f"
                    },
                    "geo": {
                      "bgcolor": "white",
                      "lakecolor": "white",
                      "landcolor": "#E5ECF6",
                      "showlakes": true,
                      "showland": true,
                      "subunitcolor": "white"
                    },
                    "hoverlabel": {
                      "align": "left"
                    },
                    "hovermode": "closest",
                    "mapbox": {
                      "style": "light"
                    },
                    "paper_bgcolor": "white",
                    "plot_bgcolor": "#E5ECF6",
                    "polar": {
                      "angularaxis": {
                        "gridcolor": "white",
                        "linecolor": "white",
                        "ticks": ""
                      },
                      "bgcolor": "#E5ECF6",
                      "radialaxis": {
                        "gridcolor": "white",
                        "linecolor": "white",
                        "ticks": ""
                      }
                    },
                    "scene": {
                      "xaxis": {
                        "backgroundcolor": "#E5ECF6",
                        "gridcolor": "white",
                        "gridwidth": 2,
                        "linecolor": "white",
                        "showbackground": true,
                        "ticks": "",
                        "zerolinecolor": "white"
                      },
                      "yaxis": {
                        "backgroundcolor": "#E5ECF6",
                        "gridcolor": "white",
                        "gridwidth": 2,
                        "linecolor": "white",
                        "showbackground": true,
                        "ticks": "",
                        "zerolinecolor": "white"
                      },
                      "zaxis": {
                        "backgroundcolor": "#E5ECF6",
                        "gridcolor": "white",
                        "gridwidth": 2,
                        "linecolor": "white",
                        "showbackground": true,
                        "ticks": "",
                        "zerolinecolor": "white"
                      }
                    },
                    "shapedefaults": {
                      "line": {
                        "color": "#2a3f5f"
                      }
                    },
                    "ternary": {
                      "aaxis": {
                        "gridcolor": "white",
                        "linecolor": "white",
                        "ticks": ""
                      },
                      "baxis": {
                        "gridcolor": "white",
                        "linecolor": "white",
                        "ticks": ""
                      },
                      "bgcolor": "#E5ECF6",
                      "caxis": {
                        "gridcolor": "white",
                        "linecolor": "white",
                        "ticks": ""
                      }
                    },
                    "title": {
                      "x": 0.05
                    },
                    "xaxis": {
                      "automargin": true,
                      "gridcolor": "white",
                      "linecolor": "white",
                      "ticks": "",
                      "title": {
                        "standoff": 15
                      },
                      "zerolinecolor": "white",
                      "zerolinewidth": 2
                    },
                    "yaxis": {
                      "automargin": true,
                      "gridcolor": "white",
                      "linecolor": "white",
                      "ticks": "",
                      "title": {
                        "standoff": 15
                      },
                      "zerolinecolor": "white",
                      "zerolinewidth": 2
                    }
                  }
                },
                "title": {
                  "text": "LightGBM Performance Metrics Comparison"
                },
                "xaxis": {
                  "anchor": "y",
                  "domain": [
                    0,
                    0.45
                  ]
                },
                "xaxis2": {
                  "anchor": "y2",
                  "domain": [
                    0.55,
                    1
                  ]
                },
                "xaxis3": {
                  "anchor": "y3",
                  "domain": [
                    0,
                    0.45
                  ]
                },
                "xaxis4": {
                  "anchor": "y4",
                  "domain": [
                    0.55,
                    1
                  ]
                },
                "yaxis": {
                  "anchor": "x",
                  "domain": [
                    0.625,
                    1
                  ]
                },
                "yaxis2": {
                  "anchor": "x2",
                  "domain": [
                    0.625,
                    1
                  ]
                },
                "yaxis3": {
                  "anchor": "x3",
                  "domain": [
                    0,
                    0.375
                  ]
                },
                "yaxis4": {
                  "anchor": "x4",
                  "domain": [
                    0,
                    0.375
                  ]
                }
              }
            }
          },
          "metadata": {},
          "output_type": "display_data"
        },
        {
          "data": {
            "application/vnd.plotly.v1+json": {
              "config": {
                "plotlyServerURL": "https://plot.ly"
              },
              "data": [
                {
                  "fill": "toself",
                  "line": {
                    "color": "red"
                  },
                  "name": "Best Model: Feature Engineering",
                  "r": [
                    0.9666666666666667,
                    0.8387096774193549,
                    0.9655172413793104,
                    0.8275862068965517,
                    0.9866071428571429,
                    0.9201680672268907
                  ],
                  "theta": [
                    "Validation_Accuracy",
                    "Test_Accuracy",
                    "Validation_F1",
                    "Test_F1",
                    "Validation_AUC",
                    "Test_AUC"
                  ],
                  "type": "scatterpolar"
                }
              ],
              "layout": {
                "height": 500,
                "polar": {
                  "radialaxis": {
                    "range": [
                      0,
                      1
                    ],
                    "visible": true
                  }
                },
                "template": {
                  "data": {
                    "bar": [
                      {
                        "error_x": {
                          "color": "#2a3f5f"
                        },
                        "error_y": {
                          "color": "#2a3f5f"
                        },
                        "marker": {
                          "line": {
                            "color": "#E5ECF6",
                            "width": 0.5
                          },
                          "pattern": {
                            "fillmode": "overlay",
                            "size": 10,
                            "solidity": 0.2
                          }
                        },
                        "type": "bar"
                      }
                    ],
                    "barpolar": [
                      {
                        "marker": {
                          "line": {
                            "color": "#E5ECF6",
                            "width": 0.5
                          },
                          "pattern": {
                            "fillmode": "overlay",
                            "size": 10,
                            "solidity": 0.2
                          }
                        },
                        "type": "barpolar"
                      }
                    ],
                    "carpet": [
                      {
                        "aaxis": {
                          "endlinecolor": "#2a3f5f",
                          "gridcolor": "white",
                          "linecolor": "white",
                          "minorgridcolor": "white",
                          "startlinecolor": "#2a3f5f"
                        },
                        "baxis": {
                          "endlinecolor": "#2a3f5f",
                          "gridcolor": "white",
                          "linecolor": "white",
                          "minorgridcolor": "white",
                          "startlinecolor": "#2a3f5f"
                        },
                        "type": "carpet"
                      }
                    ],
                    "choropleth": [
                      {
                        "colorbar": {
                          "outlinewidth": 0,
                          "ticks": ""
                        },
                        "type": "choropleth"
                      }
                    ],
                    "contour": [
                      {
                        "colorbar": {
                          "outlinewidth": 0,
                          "ticks": ""
                        },
                        "colorscale": [
                          [
                            0,
                            "#0d0887"
                          ],
                          [
                            0.1111111111111111,
                            "#46039f"
                          ],
                          [
                            0.2222222222222222,
                            "#7201a8"
                          ],
                          [
                            0.3333333333333333,
                            "#9c179e"
                          ],
                          [
                            0.4444444444444444,
                            "#bd3786"
                          ],
                          [
                            0.5555555555555556,
                            "#d8576b"
                          ],
                          [
                            0.6666666666666666,
                            "#ed7953"
                          ],
                          [
                            0.7777777777777778,
                            "#fb9f3a"
                          ],
                          [
                            0.8888888888888888,
                            "#fdca26"
                          ],
                          [
                            1,
                            "#f0f921"
                          ]
                        ],
                        "type": "contour"
                      }
                    ],
                    "contourcarpet": [
                      {
                        "colorbar": {
                          "outlinewidth": 0,
                          "ticks": ""
                        },
                        "type": "contourcarpet"
                      }
                    ],
                    "heatmap": [
                      {
                        "colorbar": {
                          "outlinewidth": 0,
                          "ticks": ""
                        },
                        "colorscale": [
                          [
                            0,
                            "#0d0887"
                          ],
                          [
                            0.1111111111111111,
                            "#46039f"
                          ],
                          [
                            0.2222222222222222,
                            "#7201a8"
                          ],
                          [
                            0.3333333333333333,
                            "#9c179e"
                          ],
                          [
                            0.4444444444444444,
                            "#bd3786"
                          ],
                          [
                            0.5555555555555556,
                            "#d8576b"
                          ],
                          [
                            0.6666666666666666,
                            "#ed7953"
                          ],
                          [
                            0.7777777777777778,
                            "#fb9f3a"
                          ],
                          [
                            0.8888888888888888,
                            "#fdca26"
                          ],
                          [
                            1,
                            "#f0f921"
                          ]
                        ],
                        "type": "heatmap"
                      }
                    ],
                    "histogram": [
                      {
                        "marker": {
                          "pattern": {
                            "fillmode": "overlay",
                            "size": 10,
                            "solidity": 0.2
                          }
                        },
                        "type": "histogram"
                      }
                    ],
                    "histogram2d": [
                      {
                        "colorbar": {
                          "outlinewidth": 0,
                          "ticks": ""
                        },
                        "colorscale": [
                          [
                            0,
                            "#0d0887"
                          ],
                          [
                            0.1111111111111111,
                            "#46039f"
                          ],
                          [
                            0.2222222222222222,
                            "#7201a8"
                          ],
                          [
                            0.3333333333333333,
                            "#9c179e"
                          ],
                          [
                            0.4444444444444444,
                            "#bd3786"
                          ],
                          [
                            0.5555555555555556,
                            "#d8576b"
                          ],
                          [
                            0.6666666666666666,
                            "#ed7953"
                          ],
                          [
                            0.7777777777777778,
                            "#fb9f3a"
                          ],
                          [
                            0.8888888888888888,
                            "#fdca26"
                          ],
                          [
                            1,
                            "#f0f921"
                          ]
                        ],
                        "type": "histogram2d"
                      }
                    ],
                    "histogram2dcontour": [
                      {
                        "colorbar": {
                          "outlinewidth": 0,
                          "ticks": ""
                        },
                        "colorscale": [
                          [
                            0,
                            "#0d0887"
                          ],
                          [
                            0.1111111111111111,
                            "#46039f"
                          ],
                          [
                            0.2222222222222222,
                            "#7201a8"
                          ],
                          [
                            0.3333333333333333,
                            "#9c179e"
                          ],
                          [
                            0.4444444444444444,
                            "#bd3786"
                          ],
                          [
                            0.5555555555555556,
                            "#d8576b"
                          ],
                          [
                            0.6666666666666666,
                            "#ed7953"
                          ],
                          [
                            0.7777777777777778,
                            "#fb9f3a"
                          ],
                          [
                            0.8888888888888888,
                            "#fdca26"
                          ],
                          [
                            1,
                            "#f0f921"
                          ]
                        ],
                        "type": "histogram2dcontour"
                      }
                    ],
                    "mesh3d": [
                      {
                        "colorbar": {
                          "outlinewidth": 0,
                          "ticks": ""
                        },
                        "type": "mesh3d"
                      }
                    ],
                    "parcoords": [
                      {
                        "line": {
                          "colorbar": {
                            "outlinewidth": 0,
                            "ticks": ""
                          }
                        },
                        "type": "parcoords"
                      }
                    ],
                    "pie": [
                      {
                        "automargin": true,
                        "type": "pie"
                      }
                    ],
                    "scatter": [
                      {
                        "fillpattern": {
                          "fillmode": "overlay",
                          "size": 10,
                          "solidity": 0.2
                        },
                        "type": "scatter"
                      }
                    ],
                    "scatter3d": [
                      {
                        "line": {
                          "colorbar": {
                            "outlinewidth": 0,
                            "ticks": ""
                          }
                        },
                        "marker": {
                          "colorbar": {
                            "outlinewidth": 0,
                            "ticks": ""
                          }
                        },
                        "type": "scatter3d"
                      }
                    ],
                    "scattercarpet": [
                      {
                        "marker": {
                          "colorbar": {
                            "outlinewidth": 0,
                            "ticks": ""
                          }
                        },
                        "type": "scattercarpet"
                      }
                    ],
                    "scattergeo": [
                      {
                        "marker": {
                          "colorbar": {
                            "outlinewidth": 0,
                            "ticks": ""
                          }
                        },
                        "type": "scattergeo"
                      }
                    ],
                    "scattergl": [
                      {
                        "marker": {
                          "colorbar": {
                            "outlinewidth": 0,
                            "ticks": ""
                          }
                        },
                        "type": "scattergl"
                      }
                    ],
                    "scattermap": [
                      {
                        "marker": {
                          "colorbar": {
                            "outlinewidth": 0,
                            "ticks": ""
                          }
                        },
                        "type": "scattermap"
                      }
                    ],
                    "scattermapbox": [
                      {
                        "marker": {
                          "colorbar": {
                            "outlinewidth": 0,
                            "ticks": ""
                          }
                        },
                        "type": "scattermapbox"
                      }
                    ],
                    "scatterpolar": [
                      {
                        "marker": {
                          "colorbar": {
                            "outlinewidth": 0,
                            "ticks": ""
                          }
                        },
                        "type": "scatterpolar"
                      }
                    ],
                    "scatterpolargl": [
                      {
                        "marker": {
                          "colorbar": {
                            "outlinewidth": 0,
                            "ticks": ""
                          }
                        },
                        "type": "scatterpolargl"
                      }
                    ],
                    "scatterternary": [
                      {
                        "marker": {
                          "colorbar": {
                            "outlinewidth": 0,
                            "ticks": ""
                          }
                        },
                        "type": "scatterternary"
                      }
                    ],
                    "surface": [
                      {
                        "colorbar": {
                          "outlinewidth": 0,
                          "ticks": ""
                        },
                        "colorscale": [
                          [
                            0,
                            "#0d0887"
                          ],
                          [
                            0.1111111111111111,
                            "#46039f"
                          ],
                          [
                            0.2222222222222222,
                            "#7201a8"
                          ],
                          [
                            0.3333333333333333,
                            "#9c179e"
                          ],
                          [
                            0.4444444444444444,
                            "#bd3786"
                          ],
                          [
                            0.5555555555555556,
                            "#d8576b"
                          ],
                          [
                            0.6666666666666666,
                            "#ed7953"
                          ],
                          [
                            0.7777777777777778,
                            "#fb9f3a"
                          ],
                          [
                            0.8888888888888888,
                            "#fdca26"
                          ],
                          [
                            1,
                            "#f0f921"
                          ]
                        ],
                        "type": "surface"
                      }
                    ],
                    "table": [
                      {
                        "cells": {
                          "fill": {
                            "color": "#EBF0F8"
                          },
                          "line": {
                            "color": "white"
                          }
                        },
                        "header": {
                          "fill": {
                            "color": "#C8D4E3"
                          },
                          "line": {
                            "color": "white"
                          }
                        },
                        "type": "table"
                      }
                    ]
                  },
                  "layout": {
                    "annotationdefaults": {
                      "arrowcolor": "#2a3f5f",
                      "arrowhead": 0,
                      "arrowwidth": 1
                    },
                    "autotypenumbers": "strict",
                    "coloraxis": {
                      "colorbar": {
                        "outlinewidth": 0,
                        "ticks": ""
                      }
                    },
                    "colorscale": {
                      "diverging": [
                        [
                          0,
                          "#8e0152"
                        ],
                        [
                          0.1,
                          "#c51b7d"
                        ],
                        [
                          0.2,
                          "#de77ae"
                        ],
                        [
                          0.3,
                          "#f1b6da"
                        ],
                        [
                          0.4,
                          "#fde0ef"
                        ],
                        [
                          0.5,
                          "#f7f7f7"
                        ],
                        [
                          0.6,
                          "#e6f5d0"
                        ],
                        [
                          0.7,
                          "#b8e186"
                        ],
                        [
                          0.8,
                          "#7fbc41"
                        ],
                        [
                          0.9,
                          "#4d9221"
                        ],
                        [
                          1,
                          "#276419"
                        ]
                      ],
                      "sequential": [
                        [
                          0,
                          "#0d0887"
                        ],
                        [
                          0.1111111111111111,
                          "#46039f"
                        ],
                        [
                          0.2222222222222222,
                          "#7201a8"
                        ],
                        [
                          0.3333333333333333,
                          "#9c179e"
                        ],
                        [
                          0.4444444444444444,
                          "#bd3786"
                        ],
                        [
                          0.5555555555555556,
                          "#d8576b"
                        ],
                        [
                          0.6666666666666666,
                          "#ed7953"
                        ],
                        [
                          0.7777777777777778,
                          "#fb9f3a"
                        ],
                        [
                          0.8888888888888888,
                          "#fdca26"
                        ],
                        [
                          1,
                          "#f0f921"
                        ]
                      ],
                      "sequentialminus": [
                        [
                          0,
                          "#0d0887"
                        ],
                        [
                          0.1111111111111111,
                          "#46039f"
                        ],
                        [
                          0.2222222222222222,
                          "#7201a8"
                        ],
                        [
                          0.3333333333333333,
                          "#9c179e"
                        ],
                        [
                          0.4444444444444444,
                          "#bd3786"
                        ],
                        [
                          0.5555555555555556,
                          "#d8576b"
                        ],
                        [
                          0.6666666666666666,
                          "#ed7953"
                        ],
                        [
                          0.7777777777777778,
                          "#fb9f3a"
                        ],
                        [
                          0.8888888888888888,
                          "#fdca26"
                        ],
                        [
                          1,
                          "#f0f921"
                        ]
                      ]
                    },
                    "colorway": [
                      "#636efa",
                      "#EF553B",
                      "#00cc96",
                      "#ab63fa",
                      "#FFA15A",
                      "#19d3f3",
                      "#FF6692",
                      "#B6E880",
                      "#FF97FF",
                      "#FECB52"
                    ],
                    "font": {
                      "color": "#2a3f5f"
                    },
                    "geo": {
                      "bgcolor": "white",
                      "lakecolor": "white",
                      "landcolor": "#E5ECF6",
                      "showlakes": true,
                      "showland": true,
                      "subunitcolor": "white"
                    },
                    "hoverlabel": {
                      "align": "left"
                    },
                    "hovermode": "closest",
                    "mapbox": {
                      "style": "light"
                    },
                    "paper_bgcolor": "white",
                    "plot_bgcolor": "#E5ECF6",
                    "polar": {
                      "angularaxis": {
                        "gridcolor": "white",
                        "linecolor": "white",
                        "ticks": ""
                      },
                      "bgcolor": "#E5ECF6",
                      "radialaxis": {
                        "gridcolor": "white",
                        "linecolor": "white",
                        "ticks": ""
                      }
                    },
                    "scene": {
                      "xaxis": {
                        "backgroundcolor": "#E5ECF6",
                        "gridcolor": "white",
                        "gridwidth": 2,
                        "linecolor": "white",
                        "showbackground": true,
                        "ticks": "",
                        "zerolinecolor": "white"
                      },
                      "yaxis": {
                        "backgroundcolor": "#E5ECF6",
                        "gridcolor": "white",
                        "gridwidth": 2,
                        "linecolor": "white",
                        "showbackground": true,
                        "ticks": "",
                        "zerolinecolor": "white"
                      },
                      "zaxis": {
                        "backgroundcolor": "#E5ECF6",
                        "gridcolor": "white",
                        "gridwidth": 2,
                        "linecolor": "white",
                        "showbackground": true,
                        "ticks": "",
                        "zerolinecolor": "white"
                      }
                    },
                    "shapedefaults": {
                      "line": {
                        "color": "#2a3f5f"
                      }
                    },
                    "ternary": {
                      "aaxis": {
                        "gridcolor": "white",
                        "linecolor": "white",
                        "ticks": ""
                      },
                      "baxis": {
                        "gridcolor": "white",
                        "linecolor": "white",
                        "ticks": ""
                      },
                      "bgcolor": "#E5ECF6",
                      "caxis": {
                        "gridcolor": "white",
                        "linecolor": "white",
                        "ticks": ""
                      }
                    },
                    "title": {
                      "x": 0.05
                    },
                    "xaxis": {
                      "automargin": true,
                      "gridcolor": "white",
                      "linecolor": "white",
                      "ticks": "",
                      "title": {
                        "standoff": 15
                      },
                      "zerolinecolor": "white",
                      "zerolinewidth": 2
                    },
                    "yaxis": {
                      "automargin": true,
                      "gridcolor": "white",
                      "linecolor": "white",
                      "ticks": "",
                      "title": {
                        "standoff": 15
                      },
                      "zerolinecolor": "white",
                      "zerolinewidth": 2
                    }
                  }
                },
                "title": {
                  "text": "Performance Radar Chart - Best Model: Feature Engineering"
                }
              }
            }
          },
          "metadata": {},
          "output_type": "display_data"
        }
      ],
      "source": [
        "# Advanced visualization with Plotly\n",
        "def create_comprehensive_plots(results_df):\n",
        "    \"\"\"Create comprehensive comparison plots\"\"\"\n",
        "    \n",
        "    # 1. Accuracy Comparison\n",
        "    fig1 = make_subplots(\n",
        "        rows=1, cols=2,\n",
        "        subplot_titles=('Validation Accuracy', 'Test Accuracy'),\n",
        "        specs=[[{\"secondary_y\": False}, {\"secondary_y\": False}]]\n",
        "    )\n",
        "    \n",
        "    fig1.add_trace(\n",
        "        go.Bar(name='Validation', x=results_df['Dataset'], y=results_df['Validation_Accuracy'],\n",
        "               marker_color='lightblue', text=results_df['Validation_Accuracy'].round(3),\n",
        "               textposition='auto'),\n",
        "        row=1, col=1\n",
        "    )\n",
        "    \n",
        "    fig1.add_trace(\n",
        "        go.Bar(name='Test', x=results_df['Dataset'], y=results_df['Test_Accuracy'],\n",
        "               marker_color='lightcoral', text=results_df['Test_Accuracy'].round(3),\n",
        "               textposition='auto'),\n",
        "        row=1, col=2\n",
        "    )\n",
        "    \n",
        "    fig1.update_layout(\n",
        "        title_text=\"LightGBM Accuracy Comparison Across Datasets\",\n",
        "        showlegend=False,\n",
        "        height=500\n",
        "    )\n",
        "    \n",
        "    fig1.show()\n",
        "    \n",
        "    # 2. F1-Score and AUC Comparison\n",
        "    fig2 = make_subplots(\n",
        "        rows=2, cols=2,\n",
        "        subplot_titles=('Validation F1-Score', 'Test F1-Score', 'Validation AUC', 'Test AUC'),\n",
        "        specs=[[{\"secondary_y\": False}, {\"secondary_y\": False}],\n",
        "               [{\"secondary_y\": False}, {\"secondary_y\": False}]]\n",
        "    )\n",
        "    \n",
        "    # F1-Scores\n",
        "    fig2.add_trace(\n",
        "        go.Bar(name='Val F1', x=results_df['Dataset'], y=results_df['Validation_F1'],\n",
        "               marker_color='lightgreen', text=results_df['Validation_F1'].round(3),\n",
        "               textposition='auto'),\n",
        "        row=1, col=1\n",
        "    )\n",
        "    \n",
        "    fig2.add_trace(\n",
        "        go.Bar(name='Test F1', x=results_df['Dataset'], y=results_df['Test_F1'],\n",
        "               marker_color='orange', text=results_df['Test_F1'].round(3),\n",
        "               textposition='auto'),\n",
        "        row=1, col=2\n",
        "    )\n",
        "    \n",
        "    # AUC Scores\n",
        "    fig2.add_trace(\n",
        "        go.Bar(name='Val AUC', x=results_df['Dataset'], y=results_df['Validation_AUC'],\n",
        "               marker_color='purple', text=results_df['Validation_AUC'].round(3),\n",
        "               textposition='auto'),\n",
        "        row=2, col=1\n",
        "    )\n",
        "    \n",
        "    fig2.add_trace(\n",
        "        go.Bar(name='Test AUC', x=results_df['Dataset'], y=results_df['Test_AUC'],\n",
        "               marker_color='brown', text=results_df['Test_AUC'].round(3),\n",
        "               textposition='auto'),\n",
        "        row=2, col=2\n",
        "    )\n",
        "    \n",
        "    fig2.update_layout(\n",
        "        title_text=\"LightGBM Performance Metrics Comparison\",\n",
        "        showlegend=False,\n",
        "        height=700\n",
        "    )\n",
        "    \n",
        "    fig2.show()\n",
        "    \n",
        "    # 3. Radar Chart for best performing model\n",
        "    best_idx = results_df['Test_Accuracy'].idxmax()\n",
        "    best_dataset = results_df.iloc[best_idx]['Dataset']\n",
        "    \n",
        "    metrics = ['Validation_Accuracy', 'Test_Accuracy', 'Validation_F1', 'Test_F1', 'Validation_AUC', 'Test_AUC']\n",
        "    values = [results_df.iloc[best_idx][metric] for metric in metrics]\n",
        "    \n",
        "    fig3 = go.Figure()\n",
        "    \n",
        "    fig3.add_trace(go.Scatterpolar(\n",
        "        r=values,\n",
        "        theta=metrics,\n",
        "        fill='toself',\n",
        "        name=f'Best Model: {best_dataset}',\n",
        "        line_color='red'\n",
        "    ))\n",
        "    \n",
        "    fig3.update_layout(\n",
        "        polar=dict(\n",
        "            radialaxis=dict(\n",
        "                visible=True,\n",
        "                range=[0, 1]\n",
        "            )),\n",
        "        title=f\"Performance Radar Chart - Best Model: {best_dataset}\",\n",
        "        height=500\n",
        "    )\n",
        "    \n",
        "    fig3.show()\n",
        "\n",
        "# Create comprehensive plots\n",
        "create_comprehensive_plots(results_df)\n"
      ]
    },
    {
      "cell_type": "code",
      "execution_count": null,
      "metadata": {},
      "outputs": [
        {
          "data": {
            "image/png": "[encoded data removed]",
            "text/plain": [
              "<Figure size 1000x600 with 1 Axes>"
            ]
          },
          "metadata": {},
          "output_type": "display_data"
        }
      ],
      "source": [
        "# Traditional matplotlib comparison (similar to other notebooks)\n",
        "plt.rcParams['font.family'] = 'Serif'\n",
        "\n",
        "labels = ['Original', 'FE', 'Original + DT', \"FE + DT\"]\n",
        "val_accs = [val_results['accuracy'], val_fe_results['accuracy'], \n",
        "           val_dt_results['accuracy'], val_fe_dt_results['accuracy']]\n",
        "test_accs = [test_results['accuracy'], test_fe_results['accuracy'], \n",
        "            test_dt_results['accuracy'], test_fe_dt_results['accuracy']]\n",
        "\n",
        "x = np.arange(len(labels))\n",
        "width = 0.3\n",
        "\n",
        "fig, ax = plt.subplots(figsize=(10, 6))\n",
        "\n",
        "rects1 = ax.bar(x - width/2, val_accs, width,\n",
        "                label='Validation Accuracy',\n",
        "                color='tab:blue', edgecolor='black', linewidth=1.2)\n",
        "rects2 = ax.bar(x + width/2, test_accs, width,\n",
        "                label='Test Accuracy',\n",
        "                color='tab:red', edgecolor='black', linewidth=1.2)\n",
        "\n",
        "ax.set_ylim(0.5, 1.05)\n",
        "ax.set_ylabel('Accuracy')\n",
        "ax.set_title('LightGBM Performance Comparison', fontsize=16)\n",
        "ax.set_xticks(x)\n",
        "ax.set_xticklabels(labels)\n",
        "ax.legend(ncol=2, loc=\"upper center\")\n",
        "\n",
        "def autolabel(rects):\n",
        "    for rect in rects:\n",
        "        h = rect.get_height()\n",
        "        ax.annotate(f'{h:.3f}', xy=(rect.get_x()+rect.get_width()/2, h),\n",
        "                    ha='center', va='bottom')\n",
        "\n",
        "autolabel(rects1)\n",
        "autolabel(rects2)\n",
        "\n",
        "fig.tight_layout()\n",
        "fig.savefig(\"lightgbm_accuracy_comparison.png\", dpi=300, bbox_inches=\"tight\")\n",
        "fig.savefig(\"lightgbm_accuracy_comparison.pdf\", bbox_inches=\"tight\")\n",
        "plt.show()"
      ]
    },
    {
      "cell_type": "markdown",
      "metadata": {},
      "source": [
        "## 5. Advanced Analysis & Insights\n",
        "\n",
        "### 🔍 Phân tích sâu và Insights\n",
        "\n",
        "#### 1. **Model Performance Analysis**\n",
        "- **Best Model Identification**: Tìm model có performance tốt nhất\n",
        "- **Performance Ranking**: Xếp hạng tất cả models\n",
        "- **Improvement Quantification**: Tính % improvement so với baseline\n",
        "\n",
        "#### 2. **Feature Importance Analysis**\n",
        "- **Cross-model Comparison**: So sánh feature importance giữa các models\n",
        "- **Feature Stability**: Kiểm tra tính ổn định của feature importance\n",
        "- **Domain Insights**: Hiểu features nào quan trọng cho medical diagnosis\n",
        "\n",
        "#### 3. **Hyperparameter Analysis**\n",
        "- **Parameter Sensitivity**: Xem parameters nào ảnh hưởng nhiều đến performance\n",
        "- **Optimal Ranges**: Tìm ranges tối ưu cho từng parameter\n",
        "- **Model Complexity**: Phân tích trade-off giữa complexity và performance\n",
        "\n",
        "#### 4. **Technical Insights**\n",
        "- **GPU vs CPU**: So sánh performance khi sử dụng GPU\n",
        "- **Training Efficiency**: Thời gian training và convergence\n",
        "- **Memory Usage**: Phân tích memory requirements\n"
      ]
    },
    {
      "cell_type": "code",
      "execution_count": null,
      "metadata": {},
      "outputs": [
        {
          "name": "stdout",
          "output_type": "stream",
          "text": [
            "🏆 BEST PERFORMING MODELS:\n",
            "==================================================\n",
            "Dataset: Feature Engineering\n",
            "Test Accuracy: 0.8387\n",
            "Test F1-Score: 0.8276\n",
            "Test AUC: 0.9202\n",
            "------------------------------\n",
            "\n",
            "📈 PERFORMANCE IMPROVEMENT ANALYSIS:\n",
            "==================================================\n",
            "FE: +18.18% improvement over baseline\n",
            "Original + DT: +13.64% improvement over baseline\n",
            "FE + DT: +13.64% improvement over baseline\n",
            "\n",
            "🔍 FEATURE IMPORTANCE ANALYSIS:\n",
            "==================================================\n",
            "\n",
            "Original - Top 5 Features:\n",
            "  thal: 843.1782\n",
            "  cp: 394.3745\n",
            "  ca: 263.3482\n",
            "  thalach: 58.4245\n",
            "  oldpeak: 50.2614\n",
            "\n",
            "Feature Engineering - Top 5 Features:\n",
            "  ca_0.0: 26.9762\n",
            "  thal_3.0: 26.5689\n",
            "  cp_4.0: 25.7727\n",
            "  thal_7.0: 12.9368\n",
            "  hr_ratio: 11.2017\n",
            "\n",
            "Original + DT - Top 5 Features:\n",
            "  thal: 338.8889\n",
            "  cp: 183.9836\n",
            "  ca: 156.6063\n",
            "  exang: 21.7714\n",
            "  thalach: 13.2215\n",
            "\n",
            "Feature Engineering + DT - Top 5 Features:\n",
            "  thal_3.0: 43.9774\n",
            "  ca_0.0: 21.9906\n",
            "  cp_4.0: 21.5075\n",
            "  oldpeak: 4.8535\n",
            "  exang_0.0: 4.2353\n",
            "\n",
            "⚙️ HYPERPARAMETER ANALYSIS:\n",
            "==================================================\n",
            "\n",
            "Original - Best Parameters:\n",
            "  num_leaves: 25\n",
            "  learning_rate: 0.0010911187591913984\n",
            "  feature_fraction: 0.7161143452296725\n",
            "  bagging_fraction: 0.5741116211864506\n",
            "  bagging_freq: 6\n",
            "  min_child_samples: 25\n",
            "  min_child_weight: 0.23103781475276933\n",
            "  reg_alpha: 8.925784404253918\n",
            "  reg_lambda: 8.946404581456246\n",
            "  max_depth: 14\n",
            "  min_split_gain: 0.029685296534600253\n",
            "  subsample: 0.6559263759287822\n",
            "  colsample_bytree: 0.5034446352283249\n",
            "\n",
            "Feature Engineering - Best Parameters:\n",
            "  num_leaves: 112\n",
            "  learning_rate: 0.06319581690048087\n",
            "  feature_fraction: 0.46529576668466366\n",
            "  bagging_fraction: 0.44679177946103954\n",
            "  bagging_freq: 5\n",
            "  min_child_samples: 22\n",
            "  min_child_weight: 0.1131021665257755\n",
            "  reg_alpha: 0.6166088023399854\n",
            "  reg_lambda: 9.362676254539414\n",
            "  max_depth: 11\n",
            "  min_split_gain: 0.05642338533275948\n",
            "  subsample: 0.9587849704589444\n",
            "  colsample_bytree: 0.945234170622972\n",
            "\n",
            "Original + DT - Best Parameters:\n",
            "  num_leaves: 184\n",
            "  learning_rate: 0.011732219479527854\n",
            "  feature_fraction: 0.4844267057566141\n",
            "  bagging_fraction: 0.9820437370948165\n",
            "  bagging_freq: 4\n",
            "  min_child_samples: 54\n",
            "  min_child_weight: 0.14959887305396852\n",
            "  reg_alpha: 5.799493370548783\n",
            "  reg_lambda: 2.6246961928632553\n",
            "  max_depth: 15\n",
            "  min_split_gain: 0.9910082623246604\n",
            "  subsample: 0.9429458240152886\n",
            "  colsample_bytree: 0.9922237617275279\n",
            "\n",
            "Feature Engineering + DT - Best Parameters:\n",
            "  num_leaves: 217\n",
            "  learning_rate: 0.13297554090738672\n",
            "  feature_fraction: 0.7367663185416977\n",
            "  bagging_fraction: 0.8625803079727365\n",
            "  bagging_freq: 4\n",
            "  min_child_samples: 55\n",
            "  min_child_weight: 0.05130551760589835\n",
            "  reg_alpha: 0.2541912674409519\n",
            "  reg_lambda: 1.0789142699330445\n",
            "  max_depth: 3\n",
            "  min_split_gain: 0.6364104112637804\n",
            "  subsample: 0.7257423924305306\n",
            "  colsample_bytree: 0.8034282764658811\n",
            "\n",
            "📊 MODEL COMPLEXITY ANALYSIS:\n",
            "==================================================\n",
            "\n",
            "Original:\n",
            "  Best Iteration: 1000\n",
            "  Number of Features: 13\n",
            "  Device Used: gpu\n",
            "\n",
            "Feature Engineering:\n",
            "  Best Iteration: 120\n",
            "  Number of Features: 13\n",
            "  Device Used: gpu\n",
            "\n",
            "Original + DT:\n",
            "  Best Iteration: 191\n",
            "  Number of Features: 10\n",
            "  Device Used: gpu\n",
            "\n",
            "Feature Engineering + DT:\n",
            "  Best Iteration: 22\n",
            "  Number of Features: 10\n",
            "  Device Used: gpu\n",
            "\n",
            "✅ Analysis completed!\n"
          ]
        }
      ],
      "source": [
        "# Find best performing model\n",
        "best_test_acc = max(test_results['accuracy'], test_fe_results['accuracy'], \n",
        "                   test_dt_results['accuracy'], test_fe_dt_results['accuracy'])\n",
        "\n",
        "best_models = []\n",
        "if test_results['accuracy'] == best_test_acc:\n",
        "    best_models.append(('Original', lgb_model, test_results))\n",
        "if test_fe_results['accuracy'] == best_test_acc:\n",
        "    best_models.append(('Feature Engineering', lgb_fe_model, test_fe_results))\n",
        "if test_dt_results['accuracy'] == best_test_acc:\n",
        "    best_models.append(('Original + DT', lgb_dt_model, test_dt_results))\n",
        "if test_fe_dt_results['accuracy'] == best_test_acc:\n",
        "    best_models.append(('Feature Engineering + DT', lgb_fe_dt_model, test_fe_dt_results))\n",
        "\n",
        "print(\"🏆 BEST PERFORMING MODELS:\")\n",
        "print(\"=\" * 50)\n",
        "for model_name, model, results in best_models:\n",
        "    print(f\"Dataset: {model_name}\")\n",
        "    print(f\"Test Accuracy: {results['accuracy']:.4f}\")\n",
        "    print(f\"Test F1-Score: {results['f1']:.4f}\")\n",
        "    print(f\"Test AUC: {results['auc']:.4f}\")\n",
        "    print(\"-\" * 30)\n",
        "\n",
        "# Performance improvement analysis\n",
        "print(\"\\n📈 PERFORMANCE IMPROVEMENT ANALYSIS:\")\n",
        "print(\"=\" * 50)\n",
        "\n",
        "# Compare with baseline (Original dataset)\n",
        "baseline_acc = test_results['accuracy']\n",
        "improvements = []\n",
        "\n",
        "for name, acc in [('FE', test_fe_results['accuracy']), \n",
        "                  ('Original + DT', test_dt_results['accuracy']),\n",
        "                  ('FE + DT', test_fe_dt_results['accuracy'])]:\n",
        "    improvement = ((acc - baseline_acc) / baseline_acc) * 100\n",
        "    improvements.append((name, improvement))\n",
        "    print(f\"{name}: {improvement:+.2f}% improvement over baseline\")\n",
        "\n",
        "# Feature importance comparison\n",
        "print(\"\\n🔍 FEATURE IMPORTANCE ANALYSIS:\")\n",
        "print(\"=\" * 50)\n",
        "\n",
        "models_and_names = [\n",
        "    (lgb_model, 'Original'),\n",
        "    (lgb_fe_model, 'Feature Engineering'),\n",
        "    (lgb_dt_model, 'Original + DT'),\n",
        "    (lgb_fe_dt_model, 'Feature Engineering + DT')\n",
        "]\n",
        "\n",
        "for model, name in models_and_names:\n",
        "    if model.feature_importance is not None:\n",
        "        top_features = model.feature_importance.head(5)\n",
        "        print(f\"\\n{name} - Top 5 Features:\")\n",
        "        for _, row in top_features.iterrows():\n",
        "            print(f\"  {row['feature']}: {row['importance']:.4f}\")\n",
        "\n",
        "# Hyperparameter analysis\n",
        "print(\"\\n⚙️ HYPERPARAMETER ANALYSIS:\")\n",
        "print(\"=\" * 50)\n",
        "\n",
        "for model, name in models_and_names:\n",
        "    if model.best_params is not None:\n",
        "        print(f\"\\n{name} - Best Parameters:\")\n",
        "        for param, value in model.best_params.items():\n",
        "            print(f\"  {param}: {value}\")\n",
        "\n",
        "# Model complexity analysis\n",
        "print(\"\\n📊 MODEL COMPLEXITY ANALYSIS:\")\n",
        "print(\"=\" * 50)\n",
        "\n",
        "for model, name in models_and_names:\n",
        "    if model.model is not None:\n",
        "        print(f\"\\n{name}:\")\n",
        "        print(f\"  Best Iteration: {model.model.best_iteration}\")\n",
        "        print(f\"  Number of Features: {len(model.feature_importance)}\")\n",
        "        print(f\"  Device Used: {model.get_device_params().get('device', 'cpu')}\")\n",
        "\n",
        "print(\"\\n✅ Analysis completed!\")"
      ]
    },
    {
      "cell_type": "markdown",
      "metadata": {},
      "source": [
        "## 6. Conclusions & Recommendations\n",
        "\n",
        "### 🎯 Kết luận và Khuyến nghị\n",
        "\n",
        "#### 1. **Technical Achievements**\n",
        "- **Automated Optimization**: Thành công implement automated hyperparameter tuning\n",
        "- **Advanced Techniques**: Sử dụng các kỹ thuật tiên tiến nhất của LightGBM\n",
        "- **Comprehensive Evaluation**: Đánh giá toàn diện với nhiều metrics\n",
        "- **Model Interpretability**: Cung cấp insights sâu về model behavior\n",
        "\n",
        "#### 2. **Performance Insights**\n",
        "- **Best Dataset**: Xác định dataset nào cho performance tốt nhất\n",
        "- **Feature Importance**: Hiểu được features nào quan trọng nhất\n",
        "- **Model Selection**: Có cơ sở để chọn model phù hợp cho production\n",
        "\n",
        "#### 3. **Practical Recommendations**\n",
        "- **Production Deployment**: Hướng dẫn deploy model tốt nhất\n",
        "- **Monitoring Strategy**: Setup monitoring cho model performance\n",
        "- **Future Improvements**: Đề xuất cải tiến tiếp theo\n"
      ]
    },
    {
      "cell_type": "code",
      "execution_count": null,
      "metadata": {},
      "outputs": [
        {
          "name": "stdout",
          "output_type": "stream",
          "text": [
            "🎯 LIGHTGBM DIAGNOSIS CLASSIFICATION - FINAL SUMMARY\n",
            "============================================================\n",
            "\n",
            "📋 KEY FINDINGS:\n",
            "1. LightGBM với tối ưu hóa hyperparameter tự động đã đạt hiệu suất cao\n",
            "2. Sử dụng Optuna giúp tìm được bộ tham số tối ưu mà không cần test thủ công\n",
            "3. SHAP analysis cung cấp insights về tầm quan trọng của từng feature\n",
            "4. GPU acceleration (nếu có) giúp tăng tốc quá trình training\n",
            "\n",
            "🔧 TECHNICAL ADVANCES IMPLEMENTED:\n",
            "• Automated hyperparameter optimization với Optuna\n",
            "• GPU support cho training nhanh hơn\n",
            "• Comprehensive evaluation metrics (Accuracy, F1, AUC, Log Loss)\n",
            "• SHAP explainability cho model interpretation\n",
            "• Advanced visualization với Plotly và matplotlib\n",
            "• Cross-validation để đánh giá robust\n",
            "• Early stopping để tránh overfitting\n",
            "\n",
            "📊 PERFORMANCE COMPARISON:\n",
            "Best Test Accuracy: 0.8387\n",
            "Dataset performance ranking:\n",
            "1. Feature Engineering: 0.8387\n",
            "2. Original + DT: 0.8065\n",
            "3. Feature Engineering + DT: 0.8065\n",
            "4. Original: 0.7097\n",
            "\n",
            "💡 RECOMMENDATIONS:\n",
            "1. Sử dụng model có test accuracy cao nhất cho production\n",
            "2. Feature importance analysis giúp hiểu được yếu tố quan trọng\n",
            "3. SHAP values giúp giải thích từng prediction cụ thể\n",
            "4. Regular monitoring và retraining với data mới\n",
            "5. Consider ensemble methods nếu cần tăng accuracy hơn nữa\n",
            "\n",
            "🚀 NEXT STEPS:\n",
            "• Deploy best model vào production environment\n",
            "• Setup monitoring system cho model performance\n",
            "• Collect feedback data để improve model\n",
            "• Consider A/B testing với different models\n",
            "• Implement automated retraining pipeline\n",
            "\n",
            "✅ LightGBM Advanced Implementation Completed Successfully!\n",
            "============================================================\n"
          ]
        }
      ],
      "source": [
        "# Final summary and recommendations\n",
        "print(\"🎯 LIGHTGBM DIAGNOSIS CLASSIFICATION - FINAL SUMMARY\")\n",
        "print(\"=\" * 60)\n",
        "\n",
        "print(\"\\n📋 KEY FINDINGS:\")\n",
        "print(\"1. LightGBM với tối ưu hóa hyperparameter tự động đã đạt hiệu suất cao\")\n",
        "print(\"2. Sử dụng Optuna giúp tìm được bộ tham số tối ưu mà không cần test thủ công\")\n",
        "print(\"3. SHAP analysis cung cấp insights về tầm quan trọng của từng feature\")\n",
        "print(\"4. GPU acceleration (nếu có) giúp tăng tốc quá trình training\")\n",
        "\n",
        "print(\"\\n🔧 TECHNICAL ADVANCES IMPLEMENTED:\")\n",
        "print(\"• Automated hyperparameter optimization với Optuna\")\n",
        "print(\"• GPU support cho training nhanh hơn\")\n",
        "print(\"• Comprehensive evaluation metrics (Accuracy, F1, AUC, Log Loss)\")\n",
        "print(\"• SHAP explainability cho model interpretation\")\n",
        "print(\"• Advanced visualization với Plotly và matplotlib\")\n",
        "print(\"• Cross-validation để đánh giá robust\")\n",
        "print(\"• Early stopping để tránh overfitting\")\n",
        "\n",
        "print(\"\\n📊 PERFORMANCE COMPARISON:\")\n",
        "print(f\"Best Test Accuracy: {best_test_acc:.4f}\")\n",
        "print(\"Dataset performance ranking:\")\n",
        "for i, (name, acc) in enumerate(sorted([\n",
        "    ('Original', test_results['accuracy']),\n",
        "    ('Feature Engineering', test_fe_results['accuracy']),\n",
        "    ('Original + DT', test_dt_results['accuracy']),\n",
        "    ('Feature Engineering + DT', test_fe_dt_results['accuracy'])\n",
        "], key=lambda x: x[1], reverse=True), 1):\n",
        "    print(f\"{i}. {name}: {acc:.4f}\")\n",
        "\n",
        "print(\"\\n💡 RECOMMENDATIONS:\")\n",
        "print(\"1. Sử dụng model có test accuracy cao nhất cho production\")\n",
        "print(\"2. Feature importance analysis giúp hiểu được yếu tố quan trọng\")\n",
        "print(\"3. SHAP values giúp giải thích từng prediction cụ thể\")\n",
        "print(\"4. Regular monitoring và retraining với data mới\")\n",
        "print(\"5. Consider ensemble methods nếu cần tăng accuracy hơn nữa\")\n",
        "\n",
        "print(\"\\n🚀 NEXT STEPS:\")\n",
        "print(\"• Deploy best model vào production environment\")\n",
        "print(\"• Setup monitoring system cho model performance\")\n",
        "print(\"• Collect feedback data để improve model\")\n",
        "print(\"• Consider A/B testing với different models\")\n",
        "print(\"• Implement automated retraining pipeline\")\n",
        "\n",
        "print(\"\\n✅ LightGBM Advanced Implementation Completed Successfully!\")\n",
        "print(\"=\" * 60)\n"
      ]
    },
    {
      "cell_type": "markdown",
      "metadata": {},
      "source": [
        "## 📖 Hướng dẫn sử dụng Notebook\n",
        "\n",
        "### 🚀 Cách chạy notebook:\n",
        "\n",
        "1. **Chạy tuần tự**: Chạy các cells theo thứ tự từ trên xuống dưới\n",
        "2. **Thời gian**: Mỗi dataset mất khoảng 30-60 phút (tùy thuộc vào hardware)\n",
        "3. **GPU**: Nếu có GPU, sẽ tự động sử dụng để tăng tốc\n",
        "4. **Memory**: Cần ít nhất 8GB RAM để chạy mượt mà\n",
        "\n",
        "### ⚙️ Tùy chỉnh parameters:\n",
        "\n",
        "```python\n",
        "# Thay đổi số trials cho optimization (mặc định: 50)\n",
        "n_trials = 100  # Tăng để tìm parameters tốt hơn\n",
        "\n",
        "# Thay đổi timeout (mặc định: 1800 giây = 30 phút)\n",
        "timeout = 3600  # Tăng để chạy lâu hơn\n",
        "\n",
        "# Thay đổi số folds cho cross-validation (mặc định: 3)\n",
        "cv_folds = 5  # Tăng để đánh giá robust hơn\n",
        "```\n",
        "\n",
        "### 🔧 Troubleshooting:\n",
        "\n",
        "- **Out of Memory**: Giảm n_trials hoặc cv_folds\n",
        "- **Slow Training**: Kiểm tra GPU availability\n",
        "- **Poor Performance**: Tăng n_trials hoặc timeout\n",
        "- **SHAP Error**: Đảm bảo model đã được train trước khi setup SHAP\n",
        "\n",
        "### 📊 Hiểu kết quả:\n",
        "\n",
        "- **Accuracy**: Tỷ lệ dự đoán đúng (cao hơn = tốt hơn)\n",
        "- **F1-Score**: Balance giữa precision và recall (0-1, cao hơn = tốt hơn)\n",
        "- **AUC-ROC**: Khả năng phân biệt classes (0.5-1, cao hơn = tốt hơn)\n",
        "- **Feature Importance**: Features nào quan trọng nhất\n",
        "- **SHAP Values**: Giải thích từng prediction cụ thể\n"
      ]
    }
  ],
  "metadata": {
    "kernelspec": {
      "display_name": "PJ3.1",
      "language": "python",
      "name": "python3"
    },
    "language_info": {
      "codemirror_mode": {
        "name": "ipython",
        "version": 3
      },
      "file_extension": ".py",
      "mimetype": "text/x-python",
      "name": "python",
      "nbconvert_exporter": "python",
      "pygments_lexer": "ipython3",
      "version": "3.11.13"
    }
  },
  "nbformat": 4,
  "nbformat_minor": 2
}
